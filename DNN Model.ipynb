{
  "nbformat": 4,
  "nbformat_minor": 0,
  "metadata": {
    "colab": {
      "name": "Final.ipynb",
      "provenance": [],
      "collapsed_sections": [],
      "authorship_tag": "ABX9TyOqdmh/cNtbUaRCWJv5R7bV",
      "include_colab_link": true
    },
    "kernelspec": {
      "name": "python3",
      "display_name": "Python 3"
    }
  },
  "cells": [
    {
      "cell_type": "markdown",
      "metadata": {
        "id": "view-in-github",
        "colab_type": "text"
      },
      "source": [
        "<a href=\"https://colab.research.google.com/github/TokaOssama/Volcanic-Eruption-Prediction/blob/main/DNN%20Model.ipynb\" target=\"_parent\"><img src=\"https://colab.research.google.com/assets/colab-badge.svg\" alt=\"Open In Colab\"/></a>"
      ]
    },
    {
      "cell_type": "code",
      "metadata": {
        "id": "YXT27_38K9LN"
      },
      "source": [
        "import matplotlib.pyplot as plt\r\n",
        "import numpy as np\r\n",
        "import tensorflow as tf\r\n",
        "import pandas as pd\r\n",
        "import os"
      ],
      "execution_count": 1,
      "outputs": []
    },
    {
      "cell_type": "code",
      "metadata": {
        "colab": {
          "base_uri": "https://localhost:8080/"
        },
        "id": "9aEltaL7HkPv",
        "outputId": "5246ffb8-7c83-4695-f99f-e36aa9334c2b"
      },
      "source": [
        "from google.colab import drive\r\n",
        "drive.mount('/content/drive')\r\n",
        "Data =  np.load('./drive/My Drive/Volcano Project/Saveddata.npy')\r\n",
        "print(Data.shape)"
      ],
      "execution_count": 2,
      "outputs": [
        {
          "output_type": "stream",
          "text": [
            "Mounted at /content/drive\n",
            "(4431, 10, 25, 202)\n"
          ],
          "name": "stdout"
        }
      ]
    },
    {
      "cell_type": "code",
      "metadata": {
        "colab": {
          "base_uri": "https://localhost:8080/",
          "height": 204
        },
        "id": "b41xaYi4K6H6",
        "outputId": "17d82795-206e-4523-ae11-c1f6054f2e67"
      },
      "source": [
        "target_file = pd.read_csv ('./drive/My Drive/VolcanicData/train.csv')\r\n",
        "target_file.head()"
      ],
      "execution_count": 3,
      "outputs": [
        {
          "output_type": "execute_result",
          "data": {
            "text/html": [
              "<div>\n",
              "<style scoped>\n",
              "    .dataframe tbody tr th:only-of-type {\n",
              "        vertical-align: middle;\n",
              "    }\n",
              "\n",
              "    .dataframe tbody tr th {\n",
              "        vertical-align: top;\n",
              "    }\n",
              "\n",
              "    .dataframe thead th {\n",
              "        text-align: right;\n",
              "    }\n",
              "</style>\n",
              "<table border=\"1\" class=\"dataframe\">\n",
              "  <thead>\n",
              "    <tr style=\"text-align: right;\">\n",
              "      <th></th>\n",
              "      <th>segment_id</th>\n",
              "      <th>time_to_eruption</th>\n",
              "    </tr>\n",
              "  </thead>\n",
              "  <tbody>\n",
              "    <tr>\n",
              "      <th>0</th>\n",
              "      <td>1136037770</td>\n",
              "      <td>12262005</td>\n",
              "    </tr>\n",
              "    <tr>\n",
              "      <th>1</th>\n",
              "      <td>1969647810</td>\n",
              "      <td>32739612</td>\n",
              "    </tr>\n",
              "    <tr>\n",
              "      <th>2</th>\n",
              "      <td>1895879680</td>\n",
              "      <td>14965999</td>\n",
              "    </tr>\n",
              "    <tr>\n",
              "      <th>3</th>\n",
              "      <td>2068207140</td>\n",
              "      <td>26469720</td>\n",
              "    </tr>\n",
              "    <tr>\n",
              "      <th>4</th>\n",
              "      <td>192955606</td>\n",
              "      <td>31072429</td>\n",
              "    </tr>\n",
              "  </tbody>\n",
              "</table>\n",
              "</div>"
            ],
            "text/plain": [
              "   segment_id  time_to_eruption\n",
              "0  1136037770          12262005\n",
              "1  1969647810          32739612\n",
              "2  1895879680          14965999\n",
              "3  2068207140          26469720\n",
              "4   192955606          31072429"
            ]
          },
          "metadata": {
            "tags": []
          },
          "execution_count": 3
        }
      ]
    },
    {
      "cell_type": "code",
      "metadata": {
        "colab": {
          "base_uri": "https://localhost:8080/",
          "height": 204
        },
        "id": "MDNw9HsbLSyL",
        "outputId": "1cb4ce94-2d04-4dac-ed74-41cc2b3813a5"
      },
      "source": [
        "filename = []\r\n",
        "for file in target_file['segment_id']:\r\n",
        "    filename.append('./drive/My Drive/VolcanicData/train/'+str(file)+'.csv')\r\n",
        "target_file['filename'] = filename\r\n",
        "target_file= target_file.drop('segment_id',axis = 1)\r\n",
        "target_file.head()"
      ],
      "execution_count": 4,
      "outputs": [
        {
          "output_type": "execute_result",
          "data": {
            "text/html": [
              "<div>\n",
              "<style scoped>\n",
              "    .dataframe tbody tr th:only-of-type {\n",
              "        vertical-align: middle;\n",
              "    }\n",
              "\n",
              "    .dataframe tbody tr th {\n",
              "        vertical-align: top;\n",
              "    }\n",
              "\n",
              "    .dataframe thead th {\n",
              "        text-align: right;\n",
              "    }\n",
              "</style>\n",
              "<table border=\"1\" class=\"dataframe\">\n",
              "  <thead>\n",
              "    <tr style=\"text-align: right;\">\n",
              "      <th></th>\n",
              "      <th>time_to_eruption</th>\n",
              "      <th>filename</th>\n",
              "    </tr>\n",
              "  </thead>\n",
              "  <tbody>\n",
              "    <tr>\n",
              "      <th>0</th>\n",
              "      <td>12262005</td>\n",
              "      <td>./drive/My Drive/VolcanicData/train/1136037770...</td>\n",
              "    </tr>\n",
              "    <tr>\n",
              "      <th>1</th>\n",
              "      <td>32739612</td>\n",
              "      <td>./drive/My Drive/VolcanicData/train/1969647810...</td>\n",
              "    </tr>\n",
              "    <tr>\n",
              "      <th>2</th>\n",
              "      <td>14965999</td>\n",
              "      <td>./drive/My Drive/VolcanicData/train/1895879680...</td>\n",
              "    </tr>\n",
              "    <tr>\n",
              "      <th>3</th>\n",
              "      <td>26469720</td>\n",
              "      <td>./drive/My Drive/VolcanicData/train/2068207140...</td>\n",
              "    </tr>\n",
              "    <tr>\n",
              "      <th>4</th>\n",
              "      <td>31072429</td>\n",
              "      <td>./drive/My Drive/VolcanicData/train/192955606.csv</td>\n",
              "    </tr>\n",
              "  </tbody>\n",
              "</table>\n",
              "</div>"
            ],
            "text/plain": [
              "   time_to_eruption                                           filename\n",
              "0          12262005  ./drive/My Drive/VolcanicData/train/1136037770...\n",
              "1          32739612  ./drive/My Drive/VolcanicData/train/1969647810...\n",
              "2          14965999  ./drive/My Drive/VolcanicData/train/1895879680...\n",
              "3          26469720  ./drive/My Drive/VolcanicData/train/2068207140...\n",
              "4          31072429  ./drive/My Drive/VolcanicData/train/192955606.csv"
            ]
          },
          "metadata": {
            "tags": []
          },
          "execution_count": 4
        }
      ]
    },
    {
      "cell_type": "code",
      "metadata": {
        "colab": {
          "base_uri": "https://localhost:8080/"
        },
        "id": "s-7xBDTKKuZL",
        "outputId": "6c2f6b6b-7c31-41ee-e0b3-1301059fccd7"
      },
      "source": [
        "x = target_file['filename']\r\n",
        "Tags = np.array(target_file[\"time_to_eruption\"])\r\n",
        "print(Tags)"
      ],
      "execution_count": 5,
      "outputs": [
        {
          "output_type": "stream",
          "text": [
            "[12262005 32739612 14965999 ... 31206935  9598270 20128938]\n"
          ],
          "name": "stdout"
        }
      ]
    },
    {
      "cell_type": "code",
      "metadata": {
        "colab": {
          "base_uri": "https://localhost:8080/"
        },
        "id": "ecELU1w2RpKl",
        "outputId": "5352f743-cb53-4be9-a69c-d2b8f9800e62"
      },
      "source": [
        "Data=np.array(Data)\r\n",
        "print(Data.shape)\r\n",
        "Data = Data.reshape(4431, 10, 25, 202)\r\n",
        "Data=np.transpose(Data,axes=[0,3,2,1])\r\n",
        "print(Data.shape)\r\n",
        "Data = np.concatenate((Data[:,:,:,0], Data[:,:,:,1], Data[:,:,:,2], Data[:,:,:,3], Data[:,:,:,4], Data[:,:,:,5], Data[:,:,:,6], Data[:,:,:,7], Data[:,:,:,8], Data[:,:,:,9]), axis=2 ) \r\n",
        "print(Data.shape)\r\n",
        "Data_max=np.max(Data)\r\n",
        "Data_min=np.min(Data)\r\n",
        "Data = (Data-Data_min) / (Data_max-Data_min)\r\n"
      ],
      "execution_count": 6,
      "outputs": [
        {
          "output_type": "stream",
          "text": [
            "(4431, 10, 25, 202)\n",
            "(4431, 202, 25, 10)\n",
            "(4431, 202, 250)\n"
          ],
          "name": "stdout"
        }
      ]
    },
    {
      "cell_type": "code",
      "metadata": {
        "colab": {
          "base_uri": "https://localhost:8080/"
        },
        "id": "Ge9hqEerKd22",
        "outputId": "c0b7acb2-24a7-495a-bb86-9dac58dc0a70"
      },
      "source": [
        "from sklearn.model_selection import train_test_split\r\n",
        "x_train, x_valid, y_train, y_valid = train_test_split(Data, Tags, test_size=0.25, random_state=8)\r\n",
        "\r\n",
        "x_valid, x_test, y_valid, y_test = train_test_split(x_valid, y_valid, test_size=0.25, random_state=1) \r\n",
        "\r\n",
        "print(x_train.shape)\r\n",
        "print(y_train.shape)\r\n",
        "print(x_valid.shape)\r\n",
        "print(y_valid.shape)\r\n",
        "print(x_test.shape)\r\n",
        "print(y_test.shape)"
      ],
      "execution_count": 7,
      "outputs": [
        {
          "output_type": "stream",
          "text": [
            "(3323, 202, 250)\n",
            "(3323,)\n",
            "(831, 202, 250)\n",
            "(831,)\n",
            "(277, 202, 250)\n",
            "(277,)\n"
          ],
          "name": "stdout"
        }
      ]
    },
    {
      "cell_type": "code",
      "metadata": {
        "id": "KPHDu5ivL0fO"
      },
      "source": [
        "batch_size = 32\r\n",
        "shuffle_buffer_size = 100\r\n",
        "\r\n",
        "def create_dataset(series, batch_size, shuffle_buffer):\r\n",
        "  dataset = tf.data.Dataset.from_tensor_slices(series)\r\n",
        "  dataset = dataset.shuffle(shuffle_buffer)\r\n",
        "  dataset = dataset.batch(batch_size)\r\n",
        "  #dataset = dataset.batch(batch_size).prefetch(1)\r\n",
        "  return dataset"
      ],
      "execution_count": 8,
      "outputs": []
    },
    {
      "cell_type": "code",
      "metadata": {
        "id": "3HMMAWbaL13S"
      },
      "source": [
        "dataset = create_dataset((x_train,y_train), batch_size, shuffle_buffer_size)\r\n",
        "Validation_data = create_dataset((x_valid,y_valid), batch_size, shuffle_buffer_size)\r\n",
        "#print(dataset.shape())"
      ],
      "execution_count": 9,
      "outputs": []
    },
    {
      "cell_type": "code",
      "metadata": {
        "id": "AyPZ-PGIJrzO"
      },
      "source": [
        "tf.random.set_seed(0)\r\n",
        "model = tf.keras.models.Sequential([\r\n",
        "    tf.keras.layers.Dense(256, activation=\"relu\", input_shape=(202,250)), \r\n",
        "    #tf.keras.layers.Dropout(0.2),\r\n",
        "    tf.keras.layers.BatchNormalization(momentum=0.8),\r\n",
        "    tf.keras.layers.Dense(256, activation=\"relu\"), \r\n",
        "    #tf.keras.layers.Dropout(0.2),\r\n",
        "    #tf.keras.layers.MaxPooling1D(pool_size=2),\r\n",
        "    tf.keras.layers.Dense(256, activation=\"relu\"), \r\n",
        "    tf.keras.layers.Dense(256, activation=\"relu\"), \r\n",
        "    \r\n",
        "    #tf.keras.layers.Dropout(0.1),\r\n",
        "    #tf.keras.layers.MaxPooling1D(pool_size=2),\r\n",
        "    tf.keras.layers.Flatten(),\r\n",
        "    tf.keras.layers.Dense(512, activation = 'relu'),\r\n",
        "    tf.keras.layers.Dropout(0.5),\r\n",
        "\r\n",
        "    tf.keras.layers.Dense(1, activation = 'linear'),\r\n",
        "    #tf.keras.layers.Dense(1)\r\n",
        "])\r\n",
        "optimizer = tf.keras.optimizers.Adam(0.1)\r\n",
        "model.compile(loss=\"mae\", optimizer=tf.keras.optimizers.Nadam(learning_rate=0.001))"
      ],
      "execution_count": 10,
      "outputs": []
    },
    {
      "cell_type": "code",
      "metadata": {
        "colab": {
          "base_uri": "https://localhost:8080/"
        },
        "id": "FbhZPJQbKa5B",
        "outputId": "0be2f0ac-c640-4c9c-e663-270726ad0317"
      },
      "source": [
        "#callback = tf.keras.callbacks.EarlyStopping(monitor='val_loss')\r\n",
        "history = model.fit(dataset,\r\n",
        "         epochs=300,\r\n",
        "         validation_data = Validation_data\r\n",
        "                 \r\n",
        "         )\r\n",
        "train_loss = history.history['loss']\r\n",
        "Validation_loss = history.history['val_loss']"
      ],
      "execution_count": 11,
      "outputs": [
        {
          "output_type": "stream",
          "text": [
            "Epoch 1/300\n",
            "104/104 [==============================] - 60s 555ms/step - loss: 18433102.7524 - val_loss: 10273300.0000\n",
            "Epoch 2/300\n",
            "104/104 [==============================] - 59s 561ms/step - loss: 10493461.9905 - val_loss: 9010217.0000\n",
            "Epoch 3/300\n",
            "104/104 [==============================] - 59s 569ms/step - loss: 9224519.0762 - val_loss: 8199714.5000\n",
            "Epoch 4/300\n",
            "104/104 [==============================] - 59s 566ms/step - loss: 8219620.5810 - val_loss: 7688505.5000\n",
            "Epoch 5/300\n",
            "104/104 [==============================] - 59s 568ms/step - loss: 7684042.6095 - val_loss: 7051372.0000\n",
            "Epoch 6/300\n",
            "104/104 [==============================] - 59s 568ms/step - loss: 7356536.4048 - val_loss: 14021715.0000\n",
            "Epoch 7/300\n",
            "104/104 [==============================] - 59s 568ms/step - loss: 7103169.1571 - val_loss: 7386104.5000\n",
            "Epoch 8/300\n",
            "104/104 [==============================] - 60s 579ms/step - loss: 6787787.2238 - val_loss: 6287412.0000\n",
            "Epoch 9/300\n",
            "104/104 [==============================] - 61s 584ms/step - loss: 6814318.0857 - val_loss: 6231982.0000\n",
            "Epoch 10/300\n",
            "104/104 [==============================] - 61s 580ms/step - loss: 6551542.2810 - val_loss: 6224574.5000\n",
            "Epoch 11/300\n",
            "104/104 [==============================] - 60s 578ms/step - loss: 6309478.1571 - val_loss: 6126456.5000\n",
            "Epoch 12/300\n",
            "104/104 [==============================] - 60s 573ms/step - loss: 6387953.5333 - val_loss: 6107211.0000\n",
            "Epoch 13/300\n",
            "104/104 [==============================] - 60s 572ms/step - loss: 6045569.2619 - val_loss: 5817562.5000\n",
            "Epoch 14/300\n",
            "104/104 [==============================] - 60s 576ms/step - loss: 6021332.3810 - val_loss: 6049266.0000\n",
            "Epoch 15/300\n",
            "104/104 [==============================] - 60s 580ms/step - loss: 5955109.1476 - val_loss: 9900945.0000\n",
            "Epoch 16/300\n",
            "104/104 [==============================] - 61s 580ms/step - loss: 5852655.3000 - val_loss: 5369854.0000\n",
            "Epoch 17/300\n",
            "104/104 [==============================] - 60s 577ms/step - loss: 5813844.1238 - val_loss: 5484904.0000\n",
            "Epoch 18/300\n",
            "104/104 [==============================] - 60s 573ms/step - loss: 5608265.0095 - val_loss: 8434773.0000\n",
            "Epoch 19/300\n",
            "104/104 [==============================] - 60s 576ms/step - loss: 5562385.6952 - val_loss: 5574545.5000\n",
            "Epoch 20/300\n",
            "104/104 [==============================] - 60s 577ms/step - loss: 5388881.7095 - val_loss: 10995002.0000\n",
            "Epoch 21/300\n",
            "104/104 [==============================] - 60s 576ms/step - loss: 5465874.7571 - val_loss: 5133625.0000\n",
            "Epoch 22/300\n",
            "104/104 [==============================] - 60s 574ms/step - loss: 5430587.7095 - val_loss: 4898008.5000\n",
            "Epoch 23/300\n",
            "104/104 [==============================] - 60s 575ms/step - loss: 5257224.7667 - val_loss: 7727953.0000\n",
            "Epoch 24/300\n",
            "104/104 [==============================] - 60s 578ms/step - loss: 5201926.2000 - val_loss: 4751389.5000\n",
            "Epoch 25/300\n",
            "104/104 [==============================] - 60s 574ms/step - loss: 5175111.7667 - val_loss: 8891547.0000\n",
            "Epoch 26/300\n",
            "104/104 [==============================] - 60s 575ms/step - loss: 5146395.8000 - val_loss: 4659859.5000\n",
            "Epoch 27/300\n",
            "104/104 [==============================] - 60s 574ms/step - loss: 5011668.6833 - val_loss: 4585879.0000\n",
            "Epoch 28/300\n",
            "104/104 [==============================] - 60s 571ms/step - loss: 4992630.3381 - val_loss: 4751762.0000\n",
            "Epoch 29/300\n",
            "104/104 [==============================] - 60s 571ms/step - loss: 4974374.7048 - val_loss: 4564569.5000\n",
            "Epoch 30/300\n",
            "104/104 [==============================] - 60s 571ms/step - loss: 4710635.8976 - val_loss: 4776754.0000\n",
            "Epoch 31/300\n",
            "104/104 [==============================] - 60s 573ms/step - loss: 4789244.4476 - val_loss: 6030811.5000\n",
            "Epoch 32/300\n",
            "104/104 [==============================] - 60s 577ms/step - loss: 4733667.4476 - val_loss: 4728635.0000\n",
            "Epoch 33/300\n",
            "104/104 [==============================] - 60s 572ms/step - loss: 4657362.4429 - val_loss: 4125137.5000\n",
            "Epoch 34/300\n",
            "104/104 [==============================] - 59s 567ms/step - loss: 4633375.0500 - val_loss: 4596789.0000\n",
            "Epoch 35/300\n",
            "104/104 [==============================] - 59s 568ms/step - loss: 4650961.8571 - val_loss: 4319528.5000\n",
            "Epoch 36/300\n",
            "104/104 [==============================] - 59s 568ms/step - loss: 4566768.6524 - val_loss: 4147347.0000\n",
            "Epoch 37/300\n",
            "104/104 [==============================] - 59s 570ms/step - loss: 4426420.5048 - val_loss: 5354205.0000\n",
            "Epoch 38/300\n",
            "104/104 [==============================] - 59s 567ms/step - loss: 4467929.4524 - val_loss: 8613011.0000\n",
            "Epoch 39/300\n",
            "104/104 [==============================] - 59s 563ms/step - loss: 4514565.9190 - val_loss: 4379155.5000\n",
            "Epoch 40/300\n",
            "104/104 [==============================] - 59s 564ms/step - loss: 4291363.1714 - val_loss: 3981479.2500\n",
            "Epoch 41/300\n",
            "104/104 [==============================] - 59s 562ms/step - loss: 4444157.7429 - val_loss: 4075257.7500\n",
            "Epoch 42/300\n",
            "104/104 [==============================] - 59s 562ms/step - loss: 4220138.0262 - val_loss: 4108961.5000\n",
            "Epoch 43/300\n",
            "104/104 [==============================] - 59s 569ms/step - loss: 4317868.5762 - val_loss: 7847138.0000\n",
            "Epoch 44/300\n",
            "104/104 [==============================] - 59s 564ms/step - loss: 4272375.0429 - val_loss: 4517399.0000\n",
            "Epoch 45/300\n",
            "104/104 [==============================] - 59s 567ms/step - loss: 4141164.7214 - val_loss: 4342727.5000\n",
            "Epoch 46/300\n",
            "104/104 [==============================] - 58s 555ms/step - loss: 4266505.0952 - val_loss: 5276013.5000\n",
            "Epoch 47/300\n",
            "104/104 [==============================] - 58s 559ms/step - loss: 4131556.0571 - val_loss: 4466175.5000\n",
            "Epoch 48/300\n",
            "104/104 [==============================] - 59s 564ms/step - loss: 4137548.8214 - val_loss: 5294281.0000\n",
            "Epoch 49/300\n",
            "104/104 [==============================] - 58s 557ms/step - loss: 4057130.5262 - val_loss: 6564848.0000\n",
            "Epoch 50/300\n",
            "104/104 [==============================] - 58s 559ms/step - loss: 4194839.8262 - val_loss: 4053762.2500\n",
            "Epoch 51/300\n",
            "104/104 [==============================] - 59s 563ms/step - loss: 4066288.4976 - val_loss: 4670256.5000\n",
            "Epoch 52/300\n",
            "104/104 [==============================] - 58s 560ms/step - loss: 3991506.0762 - val_loss: 3819528.2500\n",
            "Epoch 53/300\n",
            "104/104 [==============================] - 59s 561ms/step - loss: 4036740.5286 - val_loss: 3869190.5000\n",
            "Epoch 54/300\n",
            "104/104 [==============================] - 59s 564ms/step - loss: 3859646.0000 - val_loss: 3763712.2500\n",
            "Epoch 55/300\n",
            "104/104 [==============================] - 59s 562ms/step - loss: 4108933.2905 - val_loss: 4497596.0000\n",
            "Epoch 56/300\n",
            "104/104 [==============================] - 59s 563ms/step - loss: 4001698.9738 - val_loss: 3646413.5000\n",
            "Epoch 57/300\n",
            "104/104 [==============================] - 60s 571ms/step - loss: 3833592.4429 - val_loss: 4922739.0000\n",
            "Epoch 58/300\n",
            "104/104 [==============================] - 59s 570ms/step - loss: 4145268.1357 - val_loss: 3517187.5000\n",
            "Epoch 59/300\n",
            "104/104 [==============================] - 59s 569ms/step - loss: 3899520.4905 - val_loss: 6708797.0000\n",
            "Epoch 60/300\n",
            "104/104 [==============================] - 60s 572ms/step - loss: 3972761.4810 - val_loss: 3538587.5000\n",
            "Epoch 61/300\n",
            "104/104 [==============================] - 59s 567ms/step - loss: 3829258.8214 - val_loss: 3777698.7500\n",
            "Epoch 62/300\n",
            "104/104 [==============================] - 60s 575ms/step - loss: 3869708.7952 - val_loss: 5026238.0000\n",
            "Epoch 63/300\n",
            "104/104 [==============================] - 60s 576ms/step - loss: 3993023.6381 - val_loss: 3785020.7500\n",
            "Epoch 64/300\n",
            "104/104 [==============================] - 60s 572ms/step - loss: 3795325.1905 - val_loss: 3732632.7500\n",
            "Epoch 65/300\n",
            "104/104 [==============================] - 60s 579ms/step - loss: 3683587.6500 - val_loss: 3452025.5000\n",
            "Epoch 66/300\n",
            "104/104 [==============================] - 61s 581ms/step - loss: 3721808.2905 - val_loss: 3621063.5000\n",
            "Epoch 67/300\n",
            "104/104 [==============================] - 60s 574ms/step - loss: 3719196.1476 - val_loss: 3846921.0000\n",
            "Epoch 68/300\n",
            "104/104 [==============================] - 60s 570ms/step - loss: 3640302.8262 - val_loss: 5278648.0000\n",
            "Epoch 69/300\n",
            "104/104 [==============================] - 60s 575ms/step - loss: 3756898.7952 - val_loss: 5717668.5000\n",
            "Epoch 70/300\n",
            "104/104 [==============================] - 60s 579ms/step - loss: 3705089.0619 - val_loss: 5177588.5000\n",
            "Epoch 71/300\n",
            "104/104 [==============================] - 60s 573ms/step - loss: 3647080.7500 - val_loss: 3425887.0000\n",
            "Epoch 72/300\n",
            "104/104 [==============================] - 60s 575ms/step - loss: 3804800.1976 - val_loss: 3297066.2500\n",
            "Epoch 73/300\n",
            "104/104 [==============================] - 60s 578ms/step - loss: 3781099.1452 - val_loss: 6170624.0000\n",
            "Epoch 74/300\n",
            "104/104 [==============================] - 60s 578ms/step - loss: 3707696.6929 - val_loss: 5145119.0000\n",
            "Epoch 75/300\n",
            "104/104 [==============================] - 60s 579ms/step - loss: 3735507.6548 - val_loss: 3907089.5000\n",
            "Epoch 76/300\n",
            "104/104 [==============================] - 61s 580ms/step - loss: 3611279.2548 - val_loss: 5774348.5000\n",
            "Epoch 77/300\n",
            "104/104 [==============================] - 61s 581ms/step - loss: 3549418.5810 - val_loss: 3758204.2500\n",
            "Epoch 78/300\n",
            "104/104 [==============================] - 60s 580ms/step - loss: 3615533.4214 - val_loss: 3358112.7500\n",
            "Epoch 79/300\n",
            "104/104 [==============================] - 60s 577ms/step - loss: 3658388.7167 - val_loss: 3246404.0000\n",
            "Epoch 80/300\n",
            "104/104 [==============================] - 60s 580ms/step - loss: 3542145.1000 - val_loss: 3465039.5000\n",
            "Epoch 81/300\n",
            "104/104 [==============================] - 61s 584ms/step - loss: 3577882.1619 - val_loss: 3360402.0000\n",
            "Epoch 82/300\n",
            "104/104 [==============================] - 60s 575ms/step - loss: 3512003.8952 - val_loss: 3718051.0000\n",
            "Epoch 83/300\n",
            "104/104 [==============================] - 60s 576ms/step - loss: 3551623.6048 - val_loss: 3337428.5000\n",
            "Epoch 84/300\n",
            "104/104 [==============================] - 61s 581ms/step - loss: 3608518.5643 - val_loss: 3500659.7500\n",
            "Epoch 85/300\n",
            "104/104 [==============================] - 61s 581ms/step - loss: 3583523.3357 - val_loss: 5122925.5000\n",
            "Epoch 86/300\n",
            "104/104 [==============================] - 61s 581ms/step - loss: 3619213.4476 - val_loss: 3473793.5000\n",
            "Epoch 87/300\n",
            "104/104 [==============================] - 61s 582ms/step - loss: 3557461.8429 - val_loss: 3529416.7500\n",
            "Epoch 88/300\n",
            "104/104 [==============================] - 60s 578ms/step - loss: 3544591.5762 - val_loss: 3657975.0000\n",
            "Epoch 89/300\n",
            "104/104 [==============================] - 60s 579ms/step - loss: 3271806.8929 - val_loss: 3301184.5000\n",
            "Epoch 90/300\n",
            "104/104 [==============================] - 60s 577ms/step - loss: 3569431.2167 - val_loss: 3433530.7500\n",
            "Epoch 91/300\n",
            "104/104 [==============================] - 60s 579ms/step - loss: 3507337.1643 - val_loss: 3727999.7500\n",
            "Epoch 92/300\n",
            "104/104 [==============================] - 60s 575ms/step - loss: 3425878.2238 - val_loss: 3365259.5000\n",
            "Epoch 93/300\n",
            "104/104 [==============================] - 60s 579ms/step - loss: 3543231.5405 - val_loss: 3507656.2500\n",
            "Epoch 94/300\n",
            "104/104 [==============================] - 60s 578ms/step - loss: 3364241.0095 - val_loss: 3469784.2500\n",
            "Epoch 95/300\n",
            "104/104 [==============================] - 61s 580ms/step - loss: 3414504.1810 - val_loss: 3288458.7500\n",
            "Epoch 96/300\n",
            "104/104 [==============================] - 60s 577ms/step - loss: 3489175.8571 - val_loss: 4741062.5000\n",
            "Epoch 97/300\n",
            "104/104 [==============================] - 60s 574ms/step - loss: 3381708.4238 - val_loss: 3561448.0000\n",
            "Epoch 98/300\n",
            "104/104 [==============================] - 60s 578ms/step - loss: 3431452.9738 - val_loss: 4657442.0000\n",
            "Epoch 99/300\n",
            "104/104 [==============================] - 60s 572ms/step - loss: 3641462.8405 - val_loss: 3191051.7500\n",
            "Epoch 100/300\n",
            "104/104 [==============================] - 60s 574ms/step - loss: 3431698.5905 - val_loss: 3802801.5000\n",
            "Epoch 101/300\n",
            "104/104 [==============================] - 61s 583ms/step - loss: 3439449.3333 - val_loss: 3847993.5000\n",
            "Epoch 102/300\n",
            "104/104 [==============================] - 60s 580ms/step - loss: 3304712.5310 - val_loss: 3124073.7500\n",
            "Epoch 103/300\n",
            "104/104 [==============================] - 60s 573ms/step - loss: 3603088.0548 - val_loss: 5028070.0000\n",
            "Epoch 104/300\n",
            "104/104 [==============================] - 60s 576ms/step - loss: 3397293.2976 - val_loss: 4266564.5000\n",
            "Epoch 105/300\n",
            "104/104 [==============================] - 60s 576ms/step - loss: 3399902.9048 - val_loss: 3215749.7500\n",
            "Epoch 106/300\n",
            "104/104 [==============================] - 60s 580ms/step - loss: 3375255.4952 - val_loss: 4486793.0000\n",
            "Epoch 107/300\n",
            "104/104 [==============================] - 61s 580ms/step - loss: 3345553.2048 - val_loss: 3678849.5000\n",
            "Epoch 108/300\n",
            "104/104 [==============================] - 61s 583ms/step - loss: 3251259.5381 - val_loss: 4166632.2500\n",
            "Epoch 109/300\n",
            "104/104 [==============================] - 60s 580ms/step - loss: 3311629.9905 - val_loss: 3590470.7500\n",
            "Epoch 110/300\n",
            "104/104 [==============================] - 61s 583ms/step - loss: 3414821.0405 - val_loss: 3553399.0000\n",
            "Epoch 111/300\n",
            "104/104 [==============================] - 60s 578ms/step - loss: 3321120.5905 - val_loss: 3282686.5000\n",
            "Epoch 112/300\n",
            "104/104 [==============================] - 60s 577ms/step - loss: 3304309.4690 - val_loss: 3276712.0000\n",
            "Epoch 113/300\n",
            "104/104 [==============================] - 60s 579ms/step - loss: 3315086.0714 - val_loss: 3317114.5000\n",
            "Epoch 114/300\n",
            "104/104 [==============================] - 60s 579ms/step - loss: 3187901.3119 - val_loss: 3683272.2500\n",
            "Epoch 115/300\n",
            "104/104 [==============================] - 60s 574ms/step - loss: 3396428.6357 - val_loss: 3125279.5000\n",
            "Epoch 116/300\n",
            "104/104 [==============================] - 60s 578ms/step - loss: 3196831.4595 - val_loss: 3051633.7500\n",
            "Epoch 117/300\n",
            "104/104 [==============================] - 60s 578ms/step - loss: 3289572.4881 - val_loss: 3500948.2500\n",
            "Epoch 118/300\n",
            "104/104 [==============================] - 60s 579ms/step - loss: 3298660.5857 - val_loss: 3615826.7500\n",
            "Epoch 119/300\n",
            "104/104 [==============================] - 60s 577ms/step - loss: 3332769.2952 - val_loss: 3366615.7500\n",
            "Epoch 120/300\n",
            "104/104 [==============================] - 60s 579ms/step - loss: 3400562.3929 - val_loss: 3380925.2500\n",
            "Epoch 121/300\n",
            "104/104 [==============================] - 61s 581ms/step - loss: 3187722.9286 - val_loss: 4333002.0000\n",
            "Epoch 122/300\n",
            "104/104 [==============================] - 60s 577ms/step - loss: 3230003.5000 - val_loss: 3566053.7500\n",
            "Epoch 123/300\n",
            "104/104 [==============================] - 60s 579ms/step - loss: 3205490.6500 - val_loss: 4045495.0000\n",
            "Epoch 124/300\n",
            "104/104 [==============================] - 60s 577ms/step - loss: 3224530.1905 - val_loss: 3430544.5000\n",
            "Epoch 125/300\n",
            "104/104 [==============================] - 61s 581ms/step - loss: 3134325.4833 - val_loss: 3011745.5000\n",
            "Epoch 126/300\n",
            "104/104 [==============================] - 60s 579ms/step - loss: 3267848.1905 - val_loss: 3208025.2500\n",
            "Epoch 127/300\n",
            "104/104 [==============================] - 60s 578ms/step - loss: 3292205.5381 - val_loss: 3793524.5000\n",
            "Epoch 128/300\n",
            "104/104 [==============================] - 60s 580ms/step - loss: 3193258.4833 - val_loss: 3229693.7500\n",
            "Epoch 129/300\n",
            "104/104 [==============================] - 60s 579ms/step - loss: 3180311.0167 - val_loss: 3361006.5000\n",
            "Epoch 130/300\n",
            "104/104 [==============================] - 61s 582ms/step - loss: 3116984.2714 - val_loss: 3827135.5000\n",
            "Epoch 131/300\n",
            "104/104 [==============================] - 60s 576ms/step - loss: 2993435.0286 - val_loss: 3315293.0000\n",
            "Epoch 132/300\n",
            "104/104 [==============================] - 60s 577ms/step - loss: 3097682.8143 - val_loss: 3194865.7500\n",
            "Epoch 133/300\n",
            "104/104 [==============================] - 60s 579ms/step - loss: 3115733.8881 - val_loss: 3115956.7500\n",
            "Epoch 134/300\n",
            "104/104 [==============================] - 61s 581ms/step - loss: 3228411.4571 - val_loss: 3152690.7500\n",
            "Epoch 135/300\n",
            "104/104 [==============================] - 61s 583ms/step - loss: 3135717.7667 - val_loss: 3524243.0000\n",
            "Epoch 136/300\n",
            "104/104 [==============================] - 61s 581ms/step - loss: 3169538.5357 - val_loss: 2912635.0000\n",
            "Epoch 137/300\n",
            "104/104 [==============================] - 60s 577ms/step - loss: 3142706.5500 - val_loss: 3205647.5000\n",
            "Epoch 138/300\n",
            "104/104 [==============================] - 61s 581ms/step - loss: 3130862.5143 - val_loss: 3124143.5000\n",
            "Epoch 139/300\n",
            "104/104 [==============================] - 60s 580ms/step - loss: 3109124.0905 - val_loss: 4346224.5000\n",
            "Epoch 140/300\n",
            "104/104 [==============================] - 60s 578ms/step - loss: 3033668.3167 - val_loss: 3200765.7500\n",
            "Epoch 141/300\n",
            "104/104 [==============================] - 60s 578ms/step - loss: 3272257.0524 - val_loss: 3245858.0000\n",
            "Epoch 142/300\n",
            "104/104 [==============================] - 61s 584ms/step - loss: 3196212.9333 - val_loss: 2997047.7500\n",
            "Epoch 143/300\n",
            "104/104 [==============================] - 61s 580ms/step - loss: 3207355.9238 - val_loss: 3087784.2500\n",
            "Epoch 144/300\n",
            "104/104 [==============================] - 60s 579ms/step - loss: 3070380.7310 - val_loss: 3131989.0000\n",
            "Epoch 145/300\n",
            "104/104 [==============================] - 61s 581ms/step - loss: 3070330.3643 - val_loss: 3688724.0000\n",
            "Epoch 146/300\n",
            "104/104 [==============================] - 61s 581ms/step - loss: 2987899.0810 - val_loss: 4425632.5000\n",
            "Epoch 147/300\n",
            "104/104 [==============================] - 61s 583ms/step - loss: 3033956.7810 - val_loss: 3314527.0000\n",
            "Epoch 148/300\n",
            "104/104 [==============================] - 60s 577ms/step - loss: 3026093.2738 - val_loss: 3080462.7500\n",
            "Epoch 149/300\n",
            "104/104 [==============================] - 60s 578ms/step - loss: 3079334.7833 - val_loss: 4802059.5000\n",
            "Epoch 150/300\n",
            "104/104 [==============================] - 60s 578ms/step - loss: 3274405.1024 - val_loss: 2959571.2500\n",
            "Epoch 151/300\n",
            "104/104 [==============================] - 61s 581ms/step - loss: 2939890.0619 - val_loss: 3050415.0000\n",
            "Epoch 152/300\n",
            "104/104 [==============================] - 61s 582ms/step - loss: 3025232.4929 - val_loss: 2961844.0000\n",
            "Epoch 153/300\n",
            "104/104 [==============================] - 61s 583ms/step - loss: 3100000.2095 - val_loss: 3143215.2500\n",
            "Epoch 154/300\n",
            "104/104 [==============================] - 61s 582ms/step - loss: 3033456.8190 - val_loss: 3240391.0000\n",
            "Epoch 155/300\n",
            "104/104 [==============================] - 60s 579ms/step - loss: 2881135.2762 - val_loss: 3072238.5000\n",
            "Epoch 156/300\n",
            "104/104 [==============================] - 61s 582ms/step - loss: 3065828.3095 - val_loss: 2990266.7500\n",
            "Epoch 157/300\n",
            "104/104 [==============================] - 61s 580ms/step - loss: 2872708.7429 - val_loss: 4089265.2500\n",
            "Epoch 158/300\n",
            "104/104 [==============================] - 61s 580ms/step - loss: 3101028.7619 - val_loss: 3884052.0000\n",
            "Epoch 159/300\n",
            "104/104 [==============================] - 60s 578ms/step - loss: 2985859.6500 - val_loss: 3375575.0000\n",
            "Epoch 160/300\n",
            "104/104 [==============================] - 60s 578ms/step - loss: 2999710.8405 - val_loss: 2974578.0000\n",
            "Epoch 161/300\n",
            "104/104 [==============================] - 61s 581ms/step - loss: 2978711.3976 - val_loss: 3491691.7500\n",
            "Epoch 162/300\n",
            "104/104 [==============================] - 61s 582ms/step - loss: 2950031.2667 - val_loss: 4073830.5000\n",
            "Epoch 163/300\n",
            "104/104 [==============================] - 60s 578ms/step - loss: 2913530.7119 - val_loss: 2963640.2500\n",
            "Epoch 164/300\n",
            "104/104 [==============================] - 60s 579ms/step - loss: 2936948.8357 - val_loss: 3559023.5000\n",
            "Epoch 165/300\n",
            "104/104 [==============================] - 60s 580ms/step - loss: 2893526.7476 - val_loss: 3259521.5000\n",
            "Epoch 166/300\n",
            "104/104 [==============================] - 60s 575ms/step - loss: 2897070.1524 - val_loss: 2964115.5000\n",
            "Epoch 167/300\n",
            "104/104 [==============================] - 60s 575ms/step - loss: 2877027.1310 - val_loss: 3192330.2500\n",
            "Epoch 168/300\n",
            "104/104 [==============================] - 60s 577ms/step - loss: 2988201.1310 - val_loss: 3996148.2500\n",
            "Epoch 169/300\n",
            "104/104 [==============================] - 60s 576ms/step - loss: 2973061.8024 - val_loss: 3194695.7500\n",
            "Epoch 170/300\n",
            "104/104 [==============================] - 61s 584ms/step - loss: 2950590.8405 - val_loss: 5068449.5000\n",
            "Epoch 171/300\n",
            "104/104 [==============================] - 60s 578ms/step - loss: 2949962.1714 - val_loss: 3392054.7500\n",
            "Epoch 172/300\n",
            "104/104 [==============================] - 60s 577ms/step - loss: 2911580.9286 - val_loss: 2985650.7500\n",
            "Epoch 173/300\n",
            "104/104 [==============================] - 61s 581ms/step - loss: 2912433.5905 - val_loss: 2869167.5000\n",
            "Epoch 174/300\n",
            "104/104 [==============================] - 61s 583ms/step - loss: 2882621.8762 - val_loss: 4315971.0000\n",
            "Epoch 175/300\n",
            "104/104 [==============================] - 61s 583ms/step - loss: 2968686.1833 - val_loss: 2994209.2500\n",
            "Epoch 176/300\n",
            "104/104 [==============================] - 61s 586ms/step - loss: 2867861.0143 - val_loss: 3130710.2500\n",
            "Epoch 177/300\n",
            "104/104 [==============================] - 62s 589ms/step - loss: 2897315.2214 - val_loss: 3480639.2500\n",
            "Epoch 178/300\n",
            "104/104 [==============================] - 61s 587ms/step - loss: 2849136.2452 - val_loss: 2998365.0000\n",
            "Epoch 179/300\n",
            "104/104 [==============================] - 61s 583ms/step - loss: 2897471.1500 - val_loss: 2944271.7500\n",
            "Epoch 180/300\n",
            "104/104 [==============================] - 61s 585ms/step - loss: 2841280.4905 - val_loss: 3656643.2500\n",
            "Epoch 181/300\n",
            "104/104 [==============================] - 61s 589ms/step - loss: 2908954.9833 - val_loss: 3100549.5000\n",
            "Epoch 182/300\n",
            "104/104 [==============================] - 61s 588ms/step - loss: 2867745.2452 - val_loss: 4062379.0000\n",
            "Epoch 183/300\n",
            "104/104 [==============================] - 61s 584ms/step - loss: 2844906.7190 - val_loss: 3360566.2500\n",
            "Epoch 184/300\n",
            "104/104 [==============================] - 61s 583ms/step - loss: 2824117.9238 - val_loss: 2750189.0000\n",
            "Epoch 185/300\n",
            "104/104 [==============================] - 61s 589ms/step - loss: 2965183.8857 - val_loss: 3121526.0000\n",
            "Epoch 186/300\n",
            "104/104 [==============================] - 61s 585ms/step - loss: 2987146.6905 - val_loss: 3093191.0000\n",
            "Epoch 187/300\n",
            "104/104 [==============================] - 61s 584ms/step - loss: 2893949.9905 - val_loss: 3237981.7500\n",
            "Epoch 188/300\n",
            "104/104 [==============================] - 61s 586ms/step - loss: 2818004.1452 - val_loss: 2855035.2500\n",
            "Epoch 189/300\n",
            "104/104 [==============================] - 61s 582ms/step - loss: 2783326.3119 - val_loss: 3338258.2500\n",
            "Epoch 190/300\n",
            "104/104 [==============================] - 61s 586ms/step - loss: 2823047.1048 - val_loss: 3111687.0000\n",
            "Epoch 191/300\n",
            "104/104 [==============================] - 61s 585ms/step - loss: 2817664.0167 - val_loss: 2898779.0000\n",
            "Epoch 192/300\n",
            "104/104 [==============================] - 61s 588ms/step - loss: 2790035.8071 - val_loss: 3215499.7500\n",
            "Epoch 193/300\n",
            "104/104 [==============================] - 61s 587ms/step - loss: 2785283.7738 - val_loss: 3612147.2500\n",
            "Epoch 194/300\n",
            "104/104 [==============================] - 61s 583ms/step - loss: 2749174.1690 - val_loss: 3568223.0000\n",
            "Epoch 195/300\n",
            "104/104 [==============================] - 61s 587ms/step - loss: 2745793.1762 - val_loss: 2914419.0000\n",
            "Epoch 196/300\n",
            "104/104 [==============================] - 61s 587ms/step - loss: 2966367.6119 - val_loss: 3130449.2500\n",
            "Epoch 197/300\n",
            "104/104 [==============================] - 61s 587ms/step - loss: 2839476.3119 - val_loss: 2850714.2500\n",
            "Epoch 198/300\n",
            "104/104 [==============================] - 61s 583ms/step - loss: 2700368.1333 - val_loss: 2837967.0000\n",
            "Epoch 199/300\n",
            "104/104 [==============================] - 61s 588ms/step - loss: 2786936.2095 - val_loss: 3114121.7500\n",
            "Epoch 200/300\n",
            "104/104 [==============================] - 61s 583ms/step - loss: 2654351.6595 - val_loss: 3022459.7500\n",
            "Epoch 201/300\n",
            "104/104 [==============================] - 62s 590ms/step - loss: 2864249.2714 - val_loss: 3142367.7500\n",
            "Epoch 202/300\n",
            "104/104 [==============================] - 61s 585ms/step - loss: 2726448.0393 - val_loss: 3205452.5000\n",
            "Epoch 203/300\n",
            "104/104 [==============================] - 61s 586ms/step - loss: 2695405.7310 - val_loss: 3354553.2500\n",
            "Epoch 204/300\n",
            "104/104 [==============================] - 61s 586ms/step - loss: 2860345.5714 - val_loss: 2809466.0000\n",
            "Epoch 205/300\n",
            "104/104 [==============================] - 61s 587ms/step - loss: 2805224.2548 - val_loss: 3035760.7500\n",
            "Epoch 206/300\n",
            "104/104 [==============================] - 61s 583ms/step - loss: 2738814.3595 - val_loss: 2821161.0000\n",
            "Epoch 207/300\n",
            "104/104 [==============================] - 61s 584ms/step - loss: 2864325.4714 - val_loss: 2919618.5000\n",
            "Epoch 208/300\n",
            "104/104 [==============================] - 61s 583ms/step - loss: 2759023.4786 - val_loss: 4107333.2500\n",
            "Epoch 209/300\n",
            "104/104 [==============================] - 61s 588ms/step - loss: 2753151.2500 - val_loss: 3037219.5000\n",
            "Epoch 210/300\n",
            "104/104 [==============================] - 61s 582ms/step - loss: 2781935.6548 - val_loss: 3170026.7500\n",
            "Epoch 211/300\n",
            "104/104 [==============================] - 61s 583ms/step - loss: 2685720.4381 - val_loss: 2925630.5000\n",
            "Epoch 212/300\n",
            "104/104 [==============================] - 61s 586ms/step - loss: 2645368.8119 - val_loss: 3321809.2500\n",
            "Epoch 213/300\n",
            "104/104 [==============================] - 61s 589ms/step - loss: 2720376.6071 - val_loss: 3577917.5000\n",
            "Epoch 214/300\n",
            "104/104 [==============================] - 61s 584ms/step - loss: 2669293.0929 - val_loss: 2743851.7500\n",
            "Epoch 215/300\n",
            "104/104 [==============================] - 61s 584ms/step - loss: 2705227.8881 - val_loss: 2995747.5000\n",
            "Epoch 216/300\n",
            "104/104 [==============================] - 61s 583ms/step - loss: 2695823.7500 - val_loss: 3388789.2500\n",
            "Epoch 217/300\n",
            "104/104 [==============================] - 61s 590ms/step - loss: 2717180.4548 - val_loss: 2839720.7500\n",
            "Epoch 218/300\n",
            "104/104 [==============================] - 61s 585ms/step - loss: 2667510.4905 - val_loss: 2989663.5000\n",
            "Epoch 219/300\n",
            "104/104 [==============================] - 61s 584ms/step - loss: 2740562.5071 - val_loss: 2941097.7500\n",
            "Epoch 220/300\n",
            "104/104 [==============================] - 61s 585ms/step - loss: 2722098.2810 - val_loss: 4080602.7500\n",
            "Epoch 221/300\n",
            "104/104 [==============================] - 61s 585ms/step - loss: 2604507.0786 - val_loss: 2943636.5000\n",
            "Epoch 222/300\n",
            "104/104 [==============================] - 61s 583ms/step - loss: 2620498.1119 - val_loss: 4764893.0000\n",
            "Epoch 223/300\n",
            "104/104 [==============================] - 61s 583ms/step - loss: 2729506.7929 - val_loss: 3097574.0000\n",
            "Epoch 224/300\n",
            "104/104 [==============================] - 61s 586ms/step - loss: 2558555.7881 - val_loss: 2706299.2500\n",
            "Epoch 225/300\n",
            "104/104 [==============================] - 61s 589ms/step - loss: 2695757.9738 - val_loss: 3310581.7500\n",
            "Epoch 226/300\n",
            "104/104 [==============================] - 61s 582ms/step - loss: 2599727.3429 - val_loss: 3042318.5000\n",
            "Epoch 227/300\n",
            "104/104 [==============================] - 61s 586ms/step - loss: 2654126.7476 - val_loss: 2952322.2500\n",
            "Epoch 228/300\n",
            "104/104 [==============================] - 61s 584ms/step - loss: 2613609.7452 - val_loss: 2952624.5000\n",
            "Epoch 229/300\n",
            "104/104 [==============================] - 61s 587ms/step - loss: 2561140.6595 - val_loss: 2937081.7500\n",
            "Epoch 230/300\n",
            "104/104 [==============================] - 61s 584ms/step - loss: 2701405.1738 - val_loss: 2753767.0000\n",
            "Epoch 231/300\n",
            "104/104 [==============================] - 61s 585ms/step - loss: 2641723.1464 - val_loss: 2878235.7500\n",
            "Epoch 232/300\n",
            "104/104 [==============================] - 62s 591ms/step - loss: 2614210.5071 - val_loss: 2801896.2500\n",
            "Epoch 233/300\n",
            "104/104 [==============================] - 61s 587ms/step - loss: 2610736.0571 - val_loss: 4182011.7500\n",
            "Epoch 234/300\n",
            "104/104 [==============================] - 61s 589ms/step - loss: 2675158.7119 - val_loss: 3081294.7500\n",
            "Epoch 235/300\n",
            "104/104 [==============================] - 61s 583ms/step - loss: 2594156.2786 - val_loss: 2828624.0000\n",
            "Epoch 236/300\n",
            "104/104 [==============================] - 61s 581ms/step - loss: 2587822.3595 - val_loss: 2692402.7500\n",
            "Epoch 237/300\n",
            "104/104 [==============================] - 60s 578ms/step - loss: 2583432.8357 - val_loss: 2714672.2500\n",
            "Epoch 238/300\n",
            "104/104 [==============================] - 60s 576ms/step - loss: 2447626.9262 - val_loss: 3016752.7500\n",
            "Epoch 239/300\n",
            "104/104 [==============================] - 60s 577ms/step - loss: 2563293.0357 - val_loss: 3591816.5000\n",
            "Epoch 240/300\n",
            "104/104 [==============================] - 60s 579ms/step - loss: 2724784.9452 - val_loss: 2686946.7500\n",
            "Epoch 241/300\n",
            "104/104 [==============================] - 60s 575ms/step - loss: 2444791.3857 - val_loss: 2699919.2500\n",
            "Epoch 242/300\n",
            "104/104 [==============================] - 60s 577ms/step - loss: 2505497.7214 - val_loss: 2660685.0000\n",
            "Epoch 243/300\n",
            "104/104 [==============================] - 60s 574ms/step - loss: 2594873.6929 - val_loss: 2803350.7500\n",
            "Epoch 244/300\n",
            "104/104 [==============================] - 61s 581ms/step - loss: 2540674.4524 - val_loss: 2892331.7500\n",
            "Epoch 245/300\n",
            "104/104 [==============================] - 60s 576ms/step - loss: 2615667.7560 - val_loss: 3012451.5000\n",
            "Epoch 246/300\n",
            "104/104 [==============================] - 60s 576ms/step - loss: 2414285.7310 - val_loss: 3353823.2500\n",
            "Epoch 247/300\n",
            "104/104 [==============================] - 60s 577ms/step - loss: 2575022.1167 - val_loss: 2678808.0000\n",
            "Epoch 248/300\n",
            "104/104 [==============================] - 60s 580ms/step - loss: 2498750.1048 - val_loss: 2743432.7500\n",
            "Epoch 249/300\n",
            "104/104 [==============================] - 60s 575ms/step - loss: 2593191.9333 - val_loss: 2799120.7500\n",
            "Epoch 250/300\n",
            "104/104 [==============================] - 60s 576ms/step - loss: 2511486.8810 - val_loss: 3051175.2500\n",
            "Epoch 251/300\n",
            "104/104 [==============================] - 60s 577ms/step - loss: 2672768.0310 - val_loss: 2673613.7500\n",
            "Epoch 252/300\n",
            "104/104 [==============================] - 60s 579ms/step - loss: 2554512.3214 - val_loss: 2900491.5000\n",
            "Epoch 253/300\n",
            "104/104 [==============================] - 60s 577ms/step - loss: 2488742.1262 - val_loss: 3402645.5000\n",
            "Epoch 254/300\n",
            "104/104 [==============================] - 60s 577ms/step - loss: 2577804.3095 - val_loss: 2919715.0000\n",
            "Epoch 255/300\n",
            "104/104 [==============================] - 60s 576ms/step - loss: 2568540.0667 - val_loss: 4371476.5000\n",
            "Epoch 256/300\n",
            "104/104 [==============================] - 60s 576ms/step - loss: 2431200.5833 - val_loss: 2822998.0000\n",
            "Epoch 257/300\n",
            "104/104 [==============================] - 60s 575ms/step - loss: 2404719.0071 - val_loss: 2746892.2500\n",
            "Epoch 258/300\n",
            "104/104 [==============================] - 60s 575ms/step - loss: 2433360.9762 - val_loss: 3298922.0000\n",
            "Epoch 259/300\n",
            "104/104 [==============================] - 60s 573ms/step - loss: 2486426.5786 - val_loss: 3062997.7500\n",
            "Epoch 260/300\n",
            "104/104 [==============================] - 61s 585ms/step - loss: 2442527.9238 - val_loss: 2876749.0000\n",
            "Epoch 261/300\n",
            "104/104 [==============================] - 61s 582ms/step - loss: 2560117.5833 - val_loss: 3103352.7500\n",
            "Epoch 262/300\n",
            "104/104 [==============================] - 61s 583ms/step - loss: 2493022.5976 - val_loss: 3298571.5000\n",
            "Epoch 263/300\n",
            "104/104 [==============================] - 60s 578ms/step - loss: 2462553.6190 - val_loss: 3026752.7500\n",
            "Epoch 264/300\n",
            "104/104 [==============================] - 61s 590ms/step - loss: 2403874.9381 - val_loss: 2752945.7500\n",
            "Epoch 265/300\n",
            "104/104 [==============================] - 61s 580ms/step - loss: 2605401.1524 - val_loss: 3224506.0000\n",
            "Epoch 266/300\n",
            "104/104 [==============================] - 60s 578ms/step - loss: 2435017.2857 - val_loss: 2871972.7500\n",
            "Epoch 267/300\n",
            "104/104 [==============================] - 60s 578ms/step - loss: 2496825.1643 - val_loss: 2765126.7500\n",
            "Epoch 268/300\n",
            "104/104 [==============================] - 60s 579ms/step - loss: 2367719.1929 - val_loss: 3394018.0000\n",
            "Epoch 269/300\n",
            "104/104 [==============================] - 60s 579ms/step - loss: 2471702.5345 - val_loss: 2797660.5000\n",
            "Epoch 270/300\n",
            "104/104 [==============================] - 60s 580ms/step - loss: 2399640.0988 - val_loss: 2724508.0000\n",
            "Epoch 271/300\n",
            "104/104 [==============================] - 61s 582ms/step - loss: 2515306.2905 - val_loss: 2729792.5000\n",
            "Epoch 272/300\n",
            "104/104 [==============================] - 61s 584ms/step - loss: 2376283.7905 - val_loss: 3025483.7500\n",
            "Epoch 273/300\n",
            "104/104 [==============================] - 60s 577ms/step - loss: 2474801.4238 - val_loss: 3037657.7500\n",
            "Epoch 274/300\n",
            "104/104 [==============================] - 60s 576ms/step - loss: 2418857.0119 - val_loss: 2609699.0000\n",
            "Epoch 275/300\n",
            "104/104 [==============================] - 60s 579ms/step - loss: 2436459.5095 - val_loss: 2491851.7500\n",
            "Epoch 276/300\n",
            "104/104 [==============================] - 61s 583ms/step - loss: 2388637.1560 - val_loss: 3960383.7500\n",
            "Epoch 277/300\n",
            "104/104 [==============================] - 61s 590ms/step - loss: 2456694.8524 - val_loss: 4035188.5000\n",
            "Epoch 278/300\n",
            "104/104 [==============================] - 61s 587ms/step - loss: 2364175.5393 - val_loss: 2913990.5000\n",
            "Epoch 279/300\n",
            "104/104 [==============================] - 61s 584ms/step - loss: 2425734.6167 - val_loss: 2594244.7500\n",
            "Epoch 280/300\n",
            "104/104 [==============================] - 61s 584ms/step - loss: 2371365.3690 - val_loss: 2680859.5000\n",
            "Epoch 281/300\n",
            "104/104 [==============================] - 60s 577ms/step - loss: 2342764.5071 - val_loss: 2455015.2500\n",
            "Epoch 282/300\n",
            "104/104 [==============================] - 61s 581ms/step - loss: 2363307.4452 - val_loss: 4122422.7500\n",
            "Epoch 283/300\n",
            "104/104 [==============================] - 60s 579ms/step - loss: 2407893.5952 - val_loss: 2797563.5000\n",
            "Epoch 284/300\n",
            "104/104 [==============================] - 61s 580ms/step - loss: 2343680.8238 - val_loss: 2914714.0000\n",
            "Epoch 285/300\n",
            "104/104 [==============================] - 60s 579ms/step - loss: 2539516.2405 - val_loss: 2929242.5000\n",
            "Epoch 286/300\n",
            "104/104 [==============================] - 60s 580ms/step - loss: 2227791.4714 - val_loss: 2672500.5000\n",
            "Epoch 287/300\n",
            "104/104 [==============================] - 60s 577ms/step - loss: 2397633.9238 - val_loss: 2666194.5000\n",
            "Epoch 288/300\n",
            "104/104 [==============================] - 61s 581ms/step - loss: 2246244.6976 - val_loss: 2611704.5000\n",
            "Epoch 289/300\n",
            "104/104 [==============================] - 60s 577ms/step - loss: 2306919.1500 - val_loss: 2821735.5000\n",
            "Epoch 290/300\n",
            "104/104 [==============================] - 60s 579ms/step - loss: 2416357.0429 - val_loss: 2891885.7500\n",
            "Epoch 291/300\n",
            "104/104 [==============================] - 61s 581ms/step - loss: 2401563.8595 - val_loss: 2782401.7500\n",
            "Epoch 292/300\n",
            "104/104 [==============================] - 61s 580ms/step - loss: 2349356.4167 - val_loss: 2966053.0000\n",
            "Epoch 293/300\n",
            "104/104 [==============================] - 60s 579ms/step - loss: 2383867.7238 - val_loss: 3501365.0000\n",
            "Epoch 294/300\n",
            "104/104 [==============================] - 60s 579ms/step - loss: 2317141.2286 - val_loss: 2619030.7500\n",
            "Epoch 295/300\n",
            "104/104 [==============================] - 60s 578ms/step - loss: 2386153.0452 - val_loss: 2890654.2500\n",
            "Epoch 296/300\n",
            "104/104 [==============================] - 61s 581ms/step - loss: 2281363.2024 - val_loss: 3643242.0000\n",
            "Epoch 297/300\n",
            "104/104 [==============================] - 61s 586ms/step - loss: 2334003.6750 - val_loss: 2893890.5000\n",
            "Epoch 298/300\n",
            "104/104 [==============================] - 61s 587ms/step - loss: 2319842.4333 - val_loss: 2789758.2500\n",
            "Epoch 299/300\n",
            "104/104 [==============================] - 60s 580ms/step - loss: 2320535.7155 - val_loss: 2875779.5000\n",
            "Epoch 300/300\n",
            "104/104 [==============================] - 62s 590ms/step - loss: 2272696.2833 - val_loss: 2585667.7500\n"
          ],
          "name": "stdout"
        }
      ]
    },
    {
      "cell_type": "code",
      "metadata": {
        "colab": {
          "base_uri": "https://localhost:8080/",
          "height": 688
        },
        "id": "SZ3aQXDSBUSf",
        "outputId": "29ee86b0-889d-43ca-ad2a-9c37f8214aea"
      },
      "source": [
        "epochs = range(len(Validation_loss))\r\n",
        "plt.figure(figsize=(14,11))\r\n",
        "plt.plot(epochs, train_loss,'r',label='Training MAE')\r\n",
        "plt.plot(epochs, Validation_loss,'B',label='Validation MAE')\r\n",
        "plt.xlabel(\"epochs\",fontsize=18)\r\n",
        "plt.ylabel(\"MAE of Training VS Validation\",fontsize=18)\r\n",
        "plt.title('Loss of DNN Model',fontsize=18)\r\n",
        "plt.legend(fontsize=15,loc='upper right')\r\n",
        "plt.show()"
      ],
      "execution_count": 26,
      "outputs": [
        {
          "output_type": "display_data",
          "data": {
            "image/png": "[encoded data removed]",
            "text/plain": [
              "<Figure size 1008x792 with 1 Axes>"
            ]
          },
          "metadata": {
            "tags": [],
            "needs_background": "light"
          }
        }
      ]
    },
    {
      "cell_type": "code",
      "metadata": {
        "colab": {
          "base_uri": "https://localhost:8080/"
        },
        "id": "tflzI4cBaMiL",
        "outputId": "060a39fc-e967-45c6-9436-f647b15aa95e"
      },
      "source": [
        "model.evaluate(x_valid,y_valid)"
      ],
      "execution_count": 14,
      "outputs": [
        {
          "output_type": "stream",
          "text": [
            "26/26 [==============================] - 2s 72ms/step - loss: 2585667.7500\n"
          ],
          "name": "stdout"
        },
        {
          "output_type": "execute_result",
          "data": {
            "text/plain": [
              "2585667.75"
            ]
          },
          "metadata": {
            "tags": []
          },
          "execution_count": 14
        }
      ]
    },
    {
      "cell_type": "code",
      "metadata": {
        "colab": {
          "base_uri": "https://localhost:8080/"
        },
        "id": "11FIaQbbsraJ",
        "outputId": "1a720b13-5233-41ff-b2a9-6bfa51c7a3d6"
      },
      "source": [
        "model.evaluate(x_test,y_test)"
      ],
      "execution_count": 15,
      "outputs": [
        {
          "output_type": "stream",
          "text": [
            "9/9 [==============================] - 1s 71ms/step - loss: 2611425.5000\n"
          ],
          "name": "stdout"
        },
        {
          "output_type": "execute_result",
          "data": {
            "text/plain": [
              "2611425.5"
            ]
          },
          "metadata": {
            "tags": []
          },
          "execution_count": 15
        }
      ]
    },
    {
      "cell_type": "code",
      "metadata": {
        "id": "6hN3Dpfh-9wY"
      },
      "source": [
        "y_pred = model.predict(x_test)\r\n",
        "np.reshape(y_test,(-1,)).tolist()"
      ],
      "execution_count": 16,
      "outputs": []
    },
    {
      "cell_type": "code",
      "metadata": {
        "colab": {
          "base_uri": "https://localhost:8080/",
          "height": 688
        },
        "id": "DqT2pbTBiuAM",
        "outputId": "36d2cea7-bbc5-4d94-a8d3-bb97620dae12"
      },
      "source": [
        "plt.figure(figsize=(14,11))\r\n",
        "x = np.linspace(0,45*10**6)\r\n",
        "y_pred = model.predict(x_test)\r\n",
        "plt.plot(x,x,'b',linestyle='-',label='Perfect')\r\n",
        "plt.plot(y_test,y_pred ,'r',linestyle='',marker='o',label='DNN Model')\r\n",
        "plt.ylabel('Observer Time-to-eruption',fontsize=18)\r\n",
        "plt.xlabel('Predicted Time-to-eruption',fontsize=18)\r\n",
        "plt.title('DNN Model Testing',fontsize=18)\r\n",
        "plt.legend(fontsize=15,loc='upper right')\r\n",
        "plt.show()"
      ],
      "execution_count": 18,
      "outputs": [
        {
          "output_type": "display_data",
          "data": {
            "image/png": "[encoded data removed]",
            "text/plain": [
              "<Figure size 1008x792 with 1 Axes>"
            ]
          },
          "metadata": {
            "tags": [],
            "needs_background": "light"
          }
        }
      ]
    },
    {
      "cell_type": "code",
      "metadata": {
        "colab": {
          "base_uri": "https://localhost:8080/"
        },
        "id": "uTWhwJkNN3Yw",
        "outputId": "6d27ccd7-dc5b-4933-fc22-34e24e27e47e"
      },
      "source": [
        "from sklearn.metrics import mean_squared_error,mean_absolute_error\r\n",
        "MSE=mean_squared_error(results , y_valid)\r\n",
        "MAE=mean_absolute_error(results , y_valid)\r\n",
        "\r\n",
        "print(MSE)\r\n",
        "print(MAE)"
      ],
      "execution_count": null,
      "outputs": [
        {
          "output_type": "stream",
          "text": [
            "1.024967415063073\n",
            "0.8710627361682313\n"
          ],
          "name": "stdout"
        }
      ]
    },
    {
      "cell_type": "code",
      "metadata": {
        "colab": {
          "base_uri": "https://localhost:8080/"
        },
        "id": "pQSnH-Ev86Fm",
        "outputId": "453ca800-538a-4aa9-d3f6-732a311b0b99"
      },
      "source": [
        "Test_Data =  np.load('./drive/My Drive/Volcano Project/working.npy')\r\n",
        "print(Test_Data.shape)"
      ],
      "execution_count": 19,
      "outputs": [
        {
          "output_type": "stream",
          "text": [
            "(4520, 10, 25, 202)\n"
          ],
          "name": "stdout"
        }
      ]
    },
    {
      "cell_type": "code",
      "metadata": {
        "colab": {
          "base_uri": "https://localhost:8080/",
          "height": 204
        },
        "id": "kD-UZOke9PjN",
        "outputId": "98dcd30f-8a7c-45e7-e01b-38c219e00139"
      },
      "source": [
        "test_target_file = pd.read_csv ('./drive/My Drive/VolcanicData/sample_submission.csv')\r\n",
        "test_target_file.head()"
      ],
      "execution_count": 20,
      "outputs": [
        {
          "output_type": "execute_result",
          "data": {
            "text/html": [
              "<div>\n",
              "<style scoped>\n",
              "    .dataframe tbody tr th:only-of-type {\n",
              "        vertical-align: middle;\n",
              "    }\n",
              "\n",
              "    .dataframe tbody tr th {\n",
              "        vertical-align: top;\n",
              "    }\n",
              "\n",
              "    .dataframe thead th {\n",
              "        text-align: right;\n",
              "    }\n",
              "</style>\n",
              "<table border=\"1\" class=\"dataframe\">\n",
              "  <thead>\n",
              "    <tr style=\"text-align: right;\">\n",
              "      <th></th>\n",
              "      <th>segment_id</th>\n",
              "      <th>time_to_eruption</th>\n",
              "    </tr>\n",
              "  </thead>\n",
              "  <tbody>\n",
              "    <tr>\n",
              "      <th>0</th>\n",
              "      <td>1000213997</td>\n",
              "      <td>0</td>\n",
              "    </tr>\n",
              "    <tr>\n",
              "      <th>1</th>\n",
              "      <td>100023368</td>\n",
              "      <td>0</td>\n",
              "    </tr>\n",
              "    <tr>\n",
              "      <th>2</th>\n",
              "      <td>1000488999</td>\n",
              "      <td>0</td>\n",
              "    </tr>\n",
              "    <tr>\n",
              "      <th>3</th>\n",
              "      <td>1001028887</td>\n",
              "      <td>0</td>\n",
              "    </tr>\n",
              "    <tr>\n",
              "      <th>4</th>\n",
              "      <td>1001857862</td>\n",
              "      <td>0</td>\n",
              "    </tr>\n",
              "  </tbody>\n",
              "</table>\n",
              "</div>"
            ],
            "text/plain": [
              "   segment_id  time_to_eruption\n",
              "0  1000213997                 0\n",
              "1   100023368                 0\n",
              "2  1000488999                 0\n",
              "3  1001028887                 0\n",
              "4  1001857862                 0"
            ]
          },
          "metadata": {
            "tags": []
          },
          "execution_count": 20
        }
      ]
    },
    {
      "cell_type": "code",
      "metadata": {
        "colab": {
          "base_uri": "https://localhost:8080/",
          "height": 204
        },
        "id": "bl72ENOo9fj1",
        "outputId": "d9fefc36-67bc-4dfe-f7c9-24c8544deab7"
      },
      "source": [
        "Test_filename = []\r\n",
        "for file in test_target_file['segment_id']:\r\n",
        "    Test_filename.append('./drive/My Drive/VolcanicData/test/'+str(file)+'.csv')\r\n",
        "test_target_file['filename'] = Test_filename\r\n",
        "test_target_file= test_target_file.drop('segment_id',axis = 1)\r\n",
        "test_target_file.head()"
      ],
      "execution_count": 21,
      "outputs": [
        {
          "output_type": "execute_result",
          "data": {
            "text/html": [
              "<div>\n",
              "<style scoped>\n",
              "    .dataframe tbody tr th:only-of-type {\n",
              "        vertical-align: middle;\n",
              "    }\n",
              "\n",
              "    .dataframe tbody tr th {\n",
              "        vertical-align: top;\n",
              "    }\n",
              "\n",
              "    .dataframe thead th {\n",
              "        text-align: right;\n",
              "    }\n",
              "</style>\n",
              "<table border=\"1\" class=\"dataframe\">\n",
              "  <thead>\n",
              "    <tr style=\"text-align: right;\">\n",
              "      <th></th>\n",
              "      <th>time_to_eruption</th>\n",
              "      <th>filename</th>\n",
              "    </tr>\n",
              "  </thead>\n",
              "  <tbody>\n",
              "    <tr>\n",
              "      <th>0</th>\n",
              "      <td>0</td>\n",
              "      <td>./drive/My Drive/VolcanicData/test/1000213997.csv</td>\n",
              "    </tr>\n",
              "    <tr>\n",
              "      <th>1</th>\n",
              "      <td>0</td>\n",
              "      <td>./drive/My Drive/VolcanicData/test/100023368.csv</td>\n",
              "    </tr>\n",
              "    <tr>\n",
              "      <th>2</th>\n",
              "      <td>0</td>\n",
              "      <td>./drive/My Drive/VolcanicData/test/1000488999.csv</td>\n",
              "    </tr>\n",
              "    <tr>\n",
              "      <th>3</th>\n",
              "      <td>0</td>\n",
              "      <td>./drive/My Drive/VolcanicData/test/1001028887.csv</td>\n",
              "    </tr>\n",
              "    <tr>\n",
              "      <th>4</th>\n",
              "      <td>0</td>\n",
              "      <td>./drive/My Drive/VolcanicData/test/1001857862.csv</td>\n",
              "    </tr>\n",
              "  </tbody>\n",
              "</table>\n",
              "</div>"
            ],
            "text/plain": [
              "   time_to_eruption                                           filename\n",
              "0                 0  ./drive/My Drive/VolcanicData/test/1000213997.csv\n",
              "1                 0   ./drive/My Drive/VolcanicData/test/100023368.csv\n",
              "2                 0  ./drive/My Drive/VolcanicData/test/1000488999.csv\n",
              "3                 0  ./drive/My Drive/VolcanicData/test/1001028887.csv\n",
              "4                 0  ./drive/My Drive/VolcanicData/test/1001857862.csv"
            ]
          },
          "metadata": {
            "tags": []
          },
          "execution_count": 21
        }
      ]
    },
    {
      "cell_type": "code",
      "metadata": {
        "colab": {
          "base_uri": "https://localhost:8080/"
        },
        "id": "TYPPRIvn93M-",
        "outputId": "effe6d58-b6ac-450d-b0a1-c636f833ed2a"
      },
      "source": [
        "Test_Data=np.array(Test_Data)\r\n",
        "print(Test_Data.shape)\r\n",
        "Test_Data = Test_Data.reshape(4520, 10, 25, 202)\r\n",
        "Test_Data=np.transpose(Test_Data,axes=[0,3,2,1])\r\n",
        "print(Test_Data.shape)\r\n",
        "Test_Data = np.concatenate((Test_Data[:,:,:,0], Test_Data[:,:,:,1], Test_Data[:,:,:,2], Test_Data[:,:,:,3], Test_Data[:,:,:,4], Test_Data[:,:,:,5], Test_Data[:,:,:,6], Test_Data[:,:,:,7], Test_Data[:,:,:,8], Test_Data[:,:,:,9]), axis=2 ) \r\n",
        "print(Test_Data.shape)\r\n",
        "Test_Data_max=np.max(Test_Data)\r\n",
        "Test_Data_min=np.min(Test_Data)\r\n",
        "Test_Data = (Test_Data-Test_Data_min) / (Test_Data_max-Test_Data_min)\r\n"
      ],
      "execution_count": 22,
      "outputs": [
        {
          "output_type": "stream",
          "text": [
            "(4520, 10, 25, 202)\n",
            "(4520, 202, 25, 10)\n",
            "(4520, 202, 250)\n"
          ],
          "name": "stdout"
        }
      ]
    },
    {
      "cell_type": "code",
      "metadata": {
        "colab": {
          "base_uri": "https://localhost:8080/",
          "height": 103
        },
        "id": "xAAUl9ZF-gcZ",
        "outputId": "1c2b924d-c091-4617-8bfa-0e36d3f156b5"
      },
      "source": [
        "Prediction = model.predict(Test_Data)\r\n",
        "Prediction = pd.DataFrame(Prediction)\r\n",
        "Prediction.to_csv(index=False)"
      ],
      "execution_count": 23,
      "outputs": [
        {
          "output_type": "execute_result",
          "data": {
            "application/vnd.google.colaboratory.intrinsic+json": {
              "type": "string"
            },
            "text/plain": [
              "'0\\n25909114.0\\n39661810.0\\n16056290.0\\n12888460.0\\n13033500.0\\n34070696.0\\n34844052.0\\n15687754.0\\n842526.5\\n7617452.5\\n32474114.0\\n22402818.0\\n17326190.0\\n17145830.0\\n5719372.5\\n10952482.0\\n23715486.0\\n26362672.0\\n34490870.0\\n10942119.0\\n44935384.0\\n6175053.0\\n23938622.0\\n26377826.0\\n6123282.5\\n28853350.0\\n20568566.0\\n1681606.4\\n14380368.0\\n20662348.0\\n18352756.0\\n19922022.0\\n13249446.0\\n6751331.0\\n14638490.0\\n39003816.0\\n20472514.0\\n13152026.0\\n34454836.0\\n26696450.0\\n11044778.0\\n7592304.0\\n18894914.0\\n12559378.0\\n25641964.0\\n51156960.0\\n35869910.0\\n30660826.0\\n8182842.0\\n48413610.0\\n1798017.5\\n29723642.0\\n39483640.0\\n5809166.0\\n47201070.0\\n29233726.0\\n16027140.0\\n-56161.195\\n15092195.0\\n21845662.0\\n36579150.0\\n27670462.0\\n14305246.0\\n14555998.0\\n3057126.2\\n12709576.0\\n34619596.0\\n6000871.0\\n12559333.0\\n11907232.0\\n16254314.0\\n17140706.0\\n37188480.0\\n20334160.0\\n13032753.0\\n47510652.0\\n20217926.0\\n42066796.0\\n23960742.0\\n20360438.0\\n24529822.0\\n19762576.0\\n13957623.0\\n38751340.0\\n47244210.0\\n32894296.0\\n28612978.0\\n-113169.41\\n21692190.0\\n46036452.0\\n18968300.0\\n25549738.0\\n35973476.0\\n12799839.0\\n36689280.0\\n28297314.0\\n10584410.0\\n33442834.0\\n38404760.0\\n31550370.0\\n24570154.0\\n33128666.0\\n12133037.0\\n6019721.5\\n6854939.0\\n17497554.0\\n31760368.0\\n8928330.0\\n46393590.0\\n17485114.0\\n20274050.0\\n21621742.0\\n36270856.0\\n7188782.0\\n24701826.0\\n10819476.0\\n17491388.0\\n19830390.0\\n19190576.0\\n15144001.0\\n32592162.0\\n8684540.0\\n13419010.0\\n5635764.0\\n-262159.9\\n32042148.0\\n11048584.0\\n24535154.0\\n12838226.0\\n34563490.0\\n37270656.0\\n274116.84\\n38906716.0\\n44542110.0\\n27282350.0\\n10422882.0\\n35873996.0\\n6677580.0\\n23835258.0\\n11976806.0\\n32077202.0\\n31761694.0\\n16356728.0\\n16631502.0\\n35330656.0\\n30848694.0\\n25742926.0\\n14610916.0\\n3634648.0\\n21122046.0\\n42590052.0\\n5869323.5\\n3254956.8\\n14511508.0\\n25330386.0\\n33921116.0\\n12897356.0\\n46703430.0\\n37453824.0\\n33291278.0\\n789093.94\\n23202352.0\\n28828378.0\\n9618076.0\\n15020433.0\\n17443138.0\\n14345790.0\\n18006506.0\\n17949546.0\\n26006126.0\\n40227000.0\\n10075928.0\\n38555816.0\\n32029052.0\\n7167496.0\\n12235060.0\\n22079622.0\\n42333840.0\\n34111120.0\\n15364415.0\\n12750572.0\\n15371977.0\\n8148275.5\\n386044.44\\n28300898.0\\n35595404.0\\n18441048.0\\n6338881.0\\n48468090.0\\n16085211.0\\n49821730.0\\n14103806.0\\n40448490.0\\n21790322.0\\n17229798.0\\n18193026.0\\n23714280.0\\n27782868.0\\n14500037.0\\n36586036.0\\n15172594.0\\n19260494.0\\n13374352.0\\n6207931.5\\n15480573.0\\n11188596.0\\n27323186.0\\n38758750.0\\n22499672.0\\n15636746.0\\n2137672.2\\n3950527.8\\n18280730.0\\n31079994.0\\n26330940.0\\n46188150.0\\n31735900.0\\n14948046.0\\n23424442.0\\n26505876.0\\n13318438.0\\n46755376.0\\n43566916.0\\n8447760.0\\n16688122.0\\n2268832.0\\n21069818.0\\n1629933.4\\n15477560.0\\n5242256.0\\n5523195.0\\n30189146.0\\n36198590.0\\n38178932.0\\n12087640.0\\n17462368.0\\n13376414.0\\n36669176.0\\n36218420.0\\n23268562.0\\n28217640.0\\n15736954.0\\n7326455.5\\n5614851.0\\n173097.58\\n42185628.0\\n43417492.0\\n12898545.0\\n17748990.0\\n25868986.0\\n33712920.0\\n29617354.0\\n20241810.0\\n31691492.0\\n10271144.0\\n11590974.0\\n20351104.0\\n15114418.0\\n12724636.0\\n16256303.0\\n24843794.0\\n47884204.0\\n12358552.0\\n19663708.0\\n23897106.0\\n39875040.0\\n17415720.0\\n7431700.0\\n46551660.0\\n7833661.0\\n16743680.0\\n4854132.0\\n17145542.0\\n35541428.0\\n14457448.0\\n16338776.0\\n40924136.0\\n17427466.0\\n34897316.0\\n12078336.0\\n18618026.0\\n42979010.0\\n20120306.0\\n12355572.0\\n15286976.0\\n19667526.0\\n5116965.0\\n8346176.0\\n36764800.0\\n21058596.0\\n15856736.0\\n23820754.0\\n33636436.0\\n-83314.84\\n25292338.0\\n40287276.0\\n4859674.5\\n41326840.0\\n41776468.0\\n12439102.0\\n29919102.0\\n10981283.0\\n19593002.0\\n49599904.0\\n13972698.0\\n31328706.0\\n9262079.0\\n13424576.0\\n13273178.0\\n12469856.0\\n32871214.0\\n22432442.0\\n680352.0\\n4764152.5\\n24428188.0\\n15729880.0\\n8383075.0\\n10026791.0\\n17746404.0\\n31856910.0\\n35851140.0\\n11658250.0\\n12816954.0\\n2644399.2\\n36816336.0\\n8896420.0\\n12006942.0\\n30389598.0\\n18790710.0\\n22516080.0\\n19024962.0\\n34367428.0\\n25734378.0\\n15525174.0\\n28876662.0\\n11625795.0\\n21218630.0\\n17024618.0\\n14432094.0\\n11184010.0\\n46695800.0\\n28441626.0\\n14824199.0\\n10124240.0\\n21504828.0\\n13724759.0\\n27181012.0\\n8097862.0\\n40052084.0\\n28096066.0\\n17597766.0\\n13851954.0\\n8457816.0\\n35561160.0\\n5880566.0\\n13393469.0\\n30021422.0\\n22227488.0\\n11011898.0\\n25390418.0\\n9370485.0\\n19022442.0\\n27084994.0\\n40431816.0\\n22476594.0\\n20937170.0\\n16416702.0\\n16330372.0\\n14207209.0\\n46363460.0\\n47278940.0\\n10945542.0\\n19819602.0\\n10157280.0\\n13807881.0\\n42621490.0\\n209104.25\\n39423696.0\\n49895188.0\\n10638139.0\\n20656362.0\\n49682444.0\\n12683528.0\\n16989226.0\\n15059634.0\\n16874052.0\\n15231410.0\\n44323480.0\\n20924418.0\\n6978143.0\\n22941876.0\\n11281093.0\\n39352650.0\\n16400310.0\\n13833439.0\\n13390942.0\\n14777780.0\\n10186960.0\\n681494.3\\n5604154.0\\n10693123.0\\n31127046.0\\n12950800.0\\n14106426.0\\n29163458.0\\n40792824.0\\n42915228.0\\n24409434.0\\n15977537.0\\n45381284.0\\n24786798.0\\n25798914.0\\n37173590.0\\n15463907.0\\n23075398.0\\n10426114.0\\n17381280.0\\n9907288.0\\n17925516.0\\n16723621.0\\n17365364.0\\n33809550.0\\n34066250.0\\n35959096.0\\n8435856.0\\n49907344.0\\n30030394.0\\n28864364.0\\n71600540.0\\n41593850.0\\n35269932.0\\n22071790.0\\n18773218.0\\n39710824.0\\n11642286.0\\n22072810.0\\n34766284.0\\n11658594.0\\n12077444.0\\n9536395.0\\n16059054.0\\n1755647.5\\n17497708.0\\n29702758.0\\n970321.9\\n21747976.0\\n697422.7\\n8964220.0\\n13862792.0\\n12910690.0\\n51842240.0\\n15399978.0\\n13313378.0\\n29168794.0\\n13268133.0\\n29138276.0\\n31229042.0\\n3380251.0\\n37509416.0\\n14570290.0\\n44495670.0\\n16329124.0\\n20473646.0\\n33239168.0\\n9536663.0\\n14731662.0\\n45870556.0\\n39329024.0\\n15175005.0\\n30834716.0\\n8995142.0\\n35232590.0\\n6318619.0\\n12943801.0\\n565703.75\\n16121333.0\\n25879890.0\\n710660.25\\n10314565.0\\n13871248.0\\n16624790.0\\n18842246.0\\n21137626.0\\n36051050.0\\n6685482.0\\n34344068.0\\n17927786.0\\n31405084.0\\n15843761.0\\n2054746.5\\n46138024.0\\n17624520.0\\n8103761.0\\n10533640.0\\n32862802.0\\n19318458.0\\n8297348.0\\n32159530.0\\n9571372.0\\n44685624.0\\n17267142.0\\n34780270.0\\n25270544.0\\n15373520.0\\n16480740.0\\n5267124.0\\n41960664.0\\n15038566.0\\n9669357.0\\n8270881.0\\n14808414.0\\n36221910.0\\n28741978.0\\n39201896.0\\n19697136.0\\n36866268.0\\n16412216.0\\n16922358.0\\n55667544.0\\n40903908.0\\n29900498.0\\n18019018.0\\n12783216.0\\n2300651.5\\n31413912.0\\n40003816.0\\n18377930.0\\n29116502.0\\n7358571.5\\n12103064.0\\n4445155.0\\n10549546.0\\n24446692.0\\n50207490.0\\n42912056.0\\n35371028.0\\n19545002.0\\n3841404.0\\n30448348.0\\n90654160.0\\n16429979.0\\n13628685.0\\n41471480.0\\n30404112.0\\n44986424.0\\n17300322.0\\n11555999.0\\n41072308.0\\n11313266.0\\n8916384.0\\n41306812.0\\n18547946.0\\n10665594.0\\n39951828.0\\n23214558.0\\n7814487.5\\n18518362.0\\n24708016.0\\n34268560.0\\n10964704.0\\n22071082.0\\n30177848.0\\n11585772.0\\n31362458.0\\n9383988.0\\n763461.94\\n9210968.0\\n40184904.0\\n19388286.0\\n42015130.0\\n22076054.0\\n12776057.0\\n33412546.0\\n26880540.0\\n9904174.0\\n27579490.0\\n41515496.0\\n13095316.0\\n18227972.0\\n21360334.0\\n-71910.7\\n21388990.0\\n18035482.0\\n38627220.0\\n10649209.0\\n24381682.0\\n5591456.0\\n41500876.0\\n4300652.0\\n11563712.0\\n10013424.0\\n23910010.0\\n14077804.0\\n11195152.0\\n24167104.0\\n22348958.0\\n35013052.0\\n10921625.0\\n10610202.0\\n18696290.0\\n3293468.5\\n39750570.0\\n43742870.0\\n19753118.0\\n29440642.0\\n24277334.0\\n39704430.0\\n2250606.8\\n33572996.0\\n30657950.0\\n6237872.0\\n9663914.0\\n25202852.0\\n15426470.0\\n28565110.0\\n18750570.0\\n647231.7\\n2765432.0\\n14337115.0\\n17492238.0\\n13279560.0\\n37786560.0\\n14652253.0\\n34213650.0\\n51456780.0\\n15487586.0\\n16333851.0\\n15254300.0\\n22013036.0\\n38741772.0\\n21628654.0\\n36544624.0\\n25010650.0\\n16265468.0\\n17432066.0\\n520922.75\\n11769706.0\\n33063576.0\\n22289926.0\\n12466776.0\\n15833570.0\\n22657834.0\\n23491498.0\\n8140832.0\\n21568284.0\\n772024.3\\n39938150.0\\n7732089.0\\n11249310.0\\n22012258.0\\n8628782.0\\n39968650.0\\n20064002.0\\n34759868.0\\n30616200.0\\n20231930.0\\n25665402.0\\n505499.97\\n11605808.0\\n32253794.0\\n43970424.0\\n14611005.0\\n17934882.0\\n35884440.0\\n13694173.0\\n28255300.0\\n13872823.0\\n13650732.0\\n4949101.5\\n32780246.0\\n32210646.0\\n3494689.2\\n18359012.0\\n3084648.5\\n14385792.0\\n37575664.0\\n895200.44\\n8716660.0\\n39220180.0\\n14582494.0\\n12722042.0\\n35441050.0\\n45390150.0\\n53804260.0\\n2594544.5\\n6587147.0\\n12897642.0\\n26798356.0\\n13409240.0\\n20003546.0\\n46095016.0\\n16586975.0\\n6692026.5\\n16663536.0\\n23518246.0\\n17625174.0\\n36319744.0\\n19995846.0\\n22017834.0\\n32978210.0\\n19198210.0\\n16675610.0\\n13032640.0\\n39954930.0\\n39298760.0\\n40686170.0\\n52034950.0\\n36565176.0\\n31150818.0\\n18058574.0\\n38312216.0\\n17684898.0\\n14434900.0\\n48288280.0\\n9044928.0\\n10138276.0\\n35537076.0\\n15714752.0\\n33519506.0\\n32810074.0\\n18286656.0\\n22401370.0\\n8989117.0\\n27791790.0\\n15869671.0\\n17067610.0\\n6256221.5\\n34960996.0\\n5970653.0\\n18665954.0\\n10817878.0\\n14182296.0\\n12746728.0\\n15093562.0\\n13012714.0\\n37527940.0\\n12181224.0\\n21014826.0\\n10082328.0\\n15494276.0\\n34005050.0\\n17285300.0\\n16523936.0\\n39390896.0\\n7088017.5\\n8251227.5\\n30607030.0\\n35256344.0\\n7285236.0\\n33411746.0\\n16454679.0\\n16711430.0\\n14288952.0\\n9257834.0\\n23488806.0\\n20736894.0\\n37294880.0\\n11897892.0\\n5533505.0\\n6014218.5\\n46028476.0\\n11794384.0\\n9191148.0\\n3581448.0\\n45209090.0\\n13686632.0\\n4644131.0\\n47573572.0\\n11842940.0\\n26462750.0\\n14750412.0\\n38891156.0\\n13788547.0\\n20095418.0\\n14647194.0\\n20643060.0\\n1438035.0\\n13201946.0\\n39548900.0\\n12557907.0\\n33387914.0\\n5368449.0\\n39501480.0\\n31853936.0\\n16385502.0\\n31633478.0\\n11295676.0\\n21486168.0\\n3656137.0\\n44837324.0\\n15796973.0\\n20474546.0\\n34255656.0\\n5476300.0\\n6872079.0\\n4185432.5\\n10161169.0\\n1928121.1\\n4886040.0\\n24474702.0\\n37570104.0\\n1512177.5\\n25761022.0\\n15871862.0\\n22558676.0\\n35554570.0\\n38387516.0\\n14356878.0\\n33007112.0\\n20341898.0\\n12912949.0\\n17594962.0\\n11133226.0\\n15170070.0\\n34056188.0\\n20043348.0\\n34536956.0\\n3641029.0\\n35526240.0\\n826850.56\\n20025610.0\\n18173834.0\\n36818590.0\\n7825157.0\\n21080804.0\\n30175142.0\\n27365022.0\\n14104100.0\\n33434786.0\\n22803098.0\\n37608336.0\\n5317668.0\\n10891971.0\\n14778474.0\\n18342838.0\\n11890879.0\\n3581594.0\\n10771724.0\\n17776154.0\\n10806268.0\\n40247536.0\\n29160202.0\\n17026598.0\\n-198085.27\\n20235206.0\\n15103452.0\\n6849609.0\\n17367390.0\\n23127934.0\\n15996686.0\\n17353498.0\\n15773099.0\\n25132226.0\\n11910115.0\\n5802226.0\\n15970970.0\\n23930562.0\\n6717738.0\\n11997206.0\\n35445748.0\\n18827606.0\\n16768911.0\\n25225530.0\\n12923708.0\\n994727.6\\n26873098.0\\n25934230.0\\n27982390.0\\n14126004.0\\n1540545.4\\n2754814.5\\n10410980.0\\n31716452.0\\n10049100.0\\n14427728.0\\n2907928.8\\n45371956.0\\n31037558.0\\n37844950.0\\n44214336.0\\n16278573.0\\n16484549.0\\n29761050.0\\n21560410.0\\n24646030.0\\n11974948.0\\n12874051.0\\n2723107.2\\n23143740.0\\n1270953.4\\n9096585.0\\n7778279.5\\n19123706.0\\n18603308.0\\n5983886.0\\n318688.38\\n51551584.0\\n40284110.0\\n20356918.0\\n28442782.0\\n34188550.0\\n5306483.0\\n17746590.0\\n13909050.0\\n12681188.0\\n22861892.0\\n11362892.0\\n21876002.0\\n15554276.0\\n16301322.0\\n9898246.0\\n21149760.0\\n1234966.9\\n37153496.0\\n19929208.0\\n24108976.0\\n35427440.0\\n40023470.0\\n21769866.0\\n38185360.0\\n15424870.0\\n4320704.0\\n42471436.0\\n2266163.5\\n30438366.0\\n17609616.0\\n40049268.0\\n32040782.0\\n34409150.0\\n37833016.0\\n28907328.0\\n692908.2\\n8803986.0\\n37008276.0\\n11022186.0\\n39945536.0\\n9768746.0\\n8585329.0\\n2703302.0\\n44984332.0\\n39331680.0\\n33799256.0\\n30437306.0\\n36150100.0\\n6967956.5\\n23320686.0\\n16182497.0\\n14719890.0\\n8234585.0\\n10279230.0\\n16491916.0\\n6749756.5\\n36450548.0\\n20018678.0\\n32468676.0\\n41053820.0\\n19426718.0\\n49056816.0\\n17644046.0\\n18115018.0\\n24787102.0\\n38300800.0\\n1027654.1\\n3631242.5\\n19917110.0\\n11752314.0\\n32039142.0\\n33415062.0\\n-103374.59\\n17141752.0\\n20946350.0\\n3268023.0\\n14278554.0\\n24854302.0\\n21229448.0\\n28554570.0\\n8080178.5\\n49231936.0\\n17302200.0\\n12063444.0\\n7150876.5\\n27177056.0\\n13615472.0\\n16908834.0\\n13893696.0\\n35692216.0\\n21959858.0\\n11743800.0\\n35689696.0\\n34880972.0\\n17884864.0\\n12020945.0\\n17953636.0\\n42766120.0\\n9620809.0\\n21954022.0\\n8624429.0\\n32497402.0\\n22548450.0\\n27355030.0\\n2607267.0\\n15263761.0\\n18318716.0\\n2697518.5\\n27938376.0\\n28568348.0\\n34620656.0\\n18845238.0\\n33341062.0\\n18891274.0\\n10653558.0\\n35930520.0\\n13135665.0\\n13872874.0\\n39650184.0\\n2657489.5\\n10366682.0\\n43261184.0\\n9966406.0\\n14146990.0\\n47897948.0\\n18085478.0\\n15360468.0\\n15383366.0\\n18782930.0\\n28656760.0\\n31689750.0\\n31650976.0\\n45992344.0\\n34732150.0\\n13540589.0\\n49725616.0\\n42144156.0\\n424304.25\\n31632624.0\\n75211176.0\\n36675430.0\\n9716607.0\\n14540656.0\\n19323930.0\\n944247.1\\n21256702.0\\n31390052.0\\n1743022.4\\n25866726.0\\n14838168.0\\n4977036.0\\n10244026.0\\n24975770.0\\n9497850.0\\n22349428.0\\n36894690.0\\n7088157.0\\n23510072.0\\n13433902.0\\n33995144.0\\n18134650.0\\n14716920.0\\n23012566.0\\n37321724.0\\n32278844.0\\n10658472.0\\n42886110.0\\n32439682.0\\n36075628.0\\n8867522.0\\n34175624.0\\n39805944.0\\n33318280.0\\n15680750.0\\n-237630.19\\n38027304.0\\n8514179.0\\n34542892.0\\n35628330.0\\n13266615.0\\n37236676.0\\n10428441.0\\n45655144.0\\n14277118.0\\n23897218.0\\n16205170.0\\n10733600.0\\n29426674.0\\n832917.8\\n43220270.0\\n54138976.0\\n47062696.0\\n44540670.0\\n6158310.0\\n13152976.0\\n41423160.0\\n25732990.0\\n20459456.0\\n17559492.0\\n19788964.0\\n28694438.0\\n38828656.0\\n8377973.0\\n34034732.0\\n43553250.0\\n2611043.0\\n23756584.0\\n5158464.0\\n15747424.0\\n19437454.0\\n45018916.0\\n33979400.0\\n11805516.0\\n10886752.0\\n36701930.0\\n20577608.0\\n11496107.0\\n4078586.8\\n1024585.94\\n34397420.0\\n6999449.0\\n17130314.0\\n19330978.0\\n12628802.0\\n12208181.0\\n11964732.0\\n28756472.0\\n41828036.0\\n12483005.0\\n18680640.0\\n12166648.0\\n19495782.0\\n18999066.0\\n10312136.0\\n29372124.0\\n18827158.0\\n34711544.0\\n38243580.0\\n34992950.0\\n4834785.0\\n10073446.0\\n34336580.0\\n32692174.0\\n17189080.0\\n5091930.0\\n36126944.0\\n25786246.0\\n2240620.2\\n37500428.0\\n21194022.0\\n479637.72\\n41264024.0\\n38857744.0\\n30159784.0\\n19985386.0\\n9147206.0\\n30258554.0\\n34291744.0\\n33275008.0\\n21827398.0\\n13505086.0\\n27511838.0\\n8686796.0\\n16887386.0\\n21839054.0\\n15580436.0\\n9297516.0\\n21919544.0\\n14732742.0\\n30379698.0\\n2212841.0\\n5840548.0\\n5274990.5\\n13246304.0\\n13702674.0\\n7840346.0\\n18820234.0\\n15465637.0\\n32867606.0\\n12844823.0\\n32569050.0\\n29684460.0\\n27447428.0\\n13537202.0\\n3043335.0\\n4967795.0\\n20131490.0\\n719707.1\\n12218920.0\\n31139880.0\\n30262674.0\\n8489375.0\\n33717984.0\\n25566282.0\\n16393782.0\\n12650423.0\\n13937900.0\\n35392252.0\\n13095141.0\\n10208646.0\\n1462429.6\\n40512250.0\\n10138619.0\\n20499416.0\\n13325018.0\\n17591112.0\\n33083118.0\\n12476576.0\\n22544676.0\\n26587496.0\\n33461042.0\\n50023196.0\\n20789132.0\\n8009342.0\\n31133422.0\\n7310015.0\\n19492556.0\\n23484256.0\\n31132730.0\\n19394624.0\\n9541797.0\\n37290350.0\\n5142139.5\\n9592034.0\\n17250198.0\\n37567216.0\\n18006166.0\\n39366708.0\\n1288271.6\\n9422957.0\\n39708996.0\\n10466912.0\\n7204819.5\\n20943562.0\\n26837990.0\\n12151566.0\\n13906802.0\\n9983343.0\\n14325404.0\\n15278240.0\\n6573229.0\\n34633530.0\\n7243792.5\\n8278532.0\\n45539750.0\\n17142508.0\\n17723136.0\\n30377138.0\\n45227510.0\\n23266754.0\\n15628736.0\\n31874658.0\\n31534400.0\\n44757760.0\\n25592878.0\\n33741880.0\\n16906880.0\\n16721282.0\\n11513802.0\\n18837696.0\\n479059.8\\n7028261.0\\n23432366.0\\n34661400.0\\n10589112.0\\n17171400.0\\n25556164.0\\n28202998.0\\n25955086.0\\n2049583.8\\n25549210.0\\n32122344.0\\n11181018.0\\n22930586.0\\n5028465.0\\n12993420.0\\n36510936.0\\n16926300.0\\n14533776.0\\n33625350.0\\n41255136.0\\n34899670.0\\n21134330.0\\n3476196.5\\n34369510.0\\n53072064.0\\n32404982.0\\n22691490.0\\n42775870.0\\n32128588.0\\n3924684.0\\n45344290.0\\n23194048.0\\n2676057.5\\n208213.44\\n9795424.0\\n42254136.0\\n8140590.5\\n38620256.0\\n17874554.0\\n16649068.0\\n22217752.0\\n46065464.0\\n18736990.0\\n22542416.0\\n15548308.0\\n24978608.0\\n2546428.5\\n14922840.0\\n26363302.0\\n9023807.0\\n10511826.0\\n39437704.0\\n29417786.0\\n3478532.5\\n26871030.0\\n41395080.0\\n24491126.0\\n42814960.0\\n8946204.0\\n7389055.5\\n1487702.4\\n9267466.0\\n21193236.0\\n-99108.77\\n3823331.0\\n13344822.0\\n2320091.5\\n14580430.0\\n23045394.0\\n749250.2\\n20833836.0\\n38555344.0\\n37835150.0\\n21385632.0\\n33011670.0\\n11150600.0\\n27703602.0\\n6828947.0\\n11782278.0\\n56077030.0\\n18077226.0\\n9355036.0\\n27876454.0\\n43994750.0\\n32262148.0\\n18757638.0\\n21655366.0\\n159510.95\\n11713349.0\\n17155026.0\\n2403557.0\\n21744528.0\\n8136232.0\\n25009622.0\\n19100190.0\\n32523800.0\\n24272284.0\\n28038262.0\\n15190162.0\\n34364960.0\\n5320171.0\\n48826336.0\\n13480264.0\\n20511286.0\\n13045539.0\\n26469638.0\\n16445310.0\\n46348348.0\\n14677087.0\\n929411.94\\n4838927.0\\n14115743.0\\n8222933.0\\n10125988.0\\n7418781.5\\n45337024.0\\n32013772.0\\n11188457.0\\n24713852.0\\n28684682.0\\n33106164.0\\n34212396.0\\n8206348.0\\n9258390.0\\n7787233.0\\n24468150.0\\n14389148.0\\n17183618.0\\n17637510.0\\n17061414.0\\n32422568.0\\n40121030.0\\n20679698.0\\n34760780.0\\n47773470.0\\n25562030.0\\n18067158.0\\n10097144.0\\n25335038.0\\n16156986.0\\n18951594.0\\n26915082.0\\n7691375.0\\n45772930.0\\n18687754.0\\n6196836.0\\n41431180.0\\n15963721.0\\n4524571.0\\n37401640.0\\n894137.4\\n14287246.0\\n5145825.0\\n1458001.4\\n2666684.2\\n6245178.0\\n17787886.0\\n25097940.0\\n13652132.0\\n693475.06\\n31738292.0\\n39400724.0\\n26463562.0\\n42575930.0\\n4411725.5\\n8623383.0\\n22292710.0\\n39684264.0\\n30455244.0\\n3331610.2\\n13726292.0\\n42186630.0\\n6970111.0\\n1193009.6\\n28219398.0\\n44517164.0\\n28245566.0\\n38174520.0\\n40676708.0\\n16923322.0\\n17051916.0\\n35425092.0\\n12849168.0\\n9558648.0\\n5922615.0\\n52271240.0\\n12014891.0\\n21039422.0\\n14238385.0\\n37822544.0\\n32937702.0\\n28348336.0\\n6615313.5\\n36084684.0\\n30370902.0\\n13500861.0\\n13134930.0\\n27985204.0\\n24745876.0\\n17110426.0\\n28508342.0\\n17304830.0\\n3965740.0\\n18123862.0\\n32622038.0\\n7854242.0\\n24737694.0\\n17856526.0\\n22602404.0\\n9703298.0\\n13839778.0\\n4586143.0\\n15378308.0\\n31897172.0\\n1657417.4\\n14000184.0\\n38067056.0\\n29643206.0\\n30007926.0\\n23647060.0\\n10112755.0\\n26131710.0\\n23297974.0\\n40231296.0\\n32557198.0\\n20473878.0\\n12284267.0\\n6866528.0\\n13548203.0\\n12624694.0\\n2660582.2\\n3295961.0\\n19464156.0\\n20295710.0\\n360737.4\\n18915350.0\\n36822936.0\\n6625509.5\\n28863622.0\\n13128730.0\\n15925611.0\\n2414702.2\\n21099018.0\\n17612874.0\\n17502552.0\\n8793994.0\\n18117640.0\\n29720546.0\\n9997582.0\\n16858894.0\\n15528665.0\\n8519117.0\\n22751870.0\\n31260850.0\\n28950718.0\\n337030.94\\n10731245.0\\n40723770.0\\n36254600.0\\n19937278.0\\n44814420.0\\n22517938.0\\n2303120.2\\n16552676.0\\n23217770.0\\n6205614.0\\n33330930.0\\n14009008.0\\n13927858.0\\n33907216.0\\n35632120.0\\n30266900.0\\n11735455.0\\n16321342.0\\n32257598.0\\n17879386.0\\n30039286.0\\n11648250.0\\n41985764.0\\n48741184.0\\n29056322.0\\n21578910.0\\n-238385.56\\n9740426.0\\n17889342.0\\n29417144.0\\n37909772.0\\n39903028.0\\n25358614.0\\n3353177.8\\n14584054.0\\n11354425.0\\n23357070.0\\n18995718.0\\n6296267.5\\n11442210.0\\n49380190.0\\n8434578.0\\n27142216.0\\n37117760.0\\n10024440.0\\n37781044.0\\n21994334.0\\n43831756.0\\n30794412.0\\n10221086.0\\n13154658.0\\n10417158.0\\n37423824.0\\n30460890.0\\n28126338.0\\n6722171.5\\n23046902.0\\n20442946.0\\n8936885.0\\n35696920.0\\n35030560.0\\n16740729.0\\n6716939.0\\n28649522.0\\n12926448.0\\n33403686.0\\n1.935957\\n15163022.0\\n44261996.0\\n15621652.0\\n35980240.0\\n20972554.0\\n453219.47\\n50972584.0\\n10150098.0\\n29932752.0\\n20480206.0\\n11894778.0\\n45411076.0\\n12741010.0\\n13444685.0\\n13018756.0\\n50348144.0\\n2048244.5\\n17775772.0\\n12858057.0\\n11195162.0\\n3049706.5\\n31291906.0\\n24732642.0\\n47919308.0\\n32052094.0\\n41762348.0\\n12489541.0\\n16094623.0\\n8999340.0\\n26541946.0\\n8943815.0\\n10520510.0\\n8508056.0\\n21438910.0\\n18665542.0\\n12594482.0\\n5698256.5\\n3721343.2\\n42637536.0\\n14125154.0\\n27479254.0\\n15036016.0\\n23088750.0\\n106458000.0\\n20644932.0\\n11578683.0\\n23612148.0\\n9304784.0\\n31613026.0\\n48886716.0\\n21615990.0\\n16002458.0\\n18625870.0\\n29014496.0\\n7954452.0\\n13530434.0\\n32126314.0\\n26130190.0\\n20665898.0\\n33590616.0\\n3152397.0\\n21438048.0\\n10886502.0\\n29215150.0\\n10326096.0\\n9705040.0\\n18496088.0\\n17473810.0\\n20358266.0\\n9978775.0\\n22195776.0\\n69458640.0\\n25783646.0\\n42182800.0\\n22953274.0\\n13156750.0\\n12624144.0\\n16577225.0\\n2944292.5\\n22890358.0\\n41467640.0\\n18493240.0\\n12618534.0\\n50321784.0\\n12570557.0\\n13339684.0\\n5874724.5\\n14146722.0\\n41292256.0\\n18133498.0\\n43403544.0\\n5778950.5\\n5741695.0\\n36622340.0\\n29755442.0\\n23177986.0\\n31188766.0\\n38788290.0\\n40381484.0\\n39760900.0\\n19969606.0\\n12855788.0\\n23204868.0\\n21756810.0\\n22605348.0\\n15449168.0\\n10541706.0\\n18664974.0\\n22633622.0\\n36479924.0\\n19716834.0\\n22743902.0\\n9576469.0\\n2643293.2\\n24448358.0\\n13185679.0\\n5147740.0\\n36564370.0\\n27736802.0\\n20646440.0\\n5344233.0\\n9348325.0\\n26070214.0\\n38099652.0\\n5873618.0\\n22626028.0\\n7416039.0\\n18563150.0\\n12846254.0\\n39962050.0\\n23706890.0\\n8873226.0\\n13021670.0\\n47997816.0\\n12545608.0\\n3907844.8\\n11335406.0\\n27803842.0\\n-235078.22\\n28135922.0\\n4778824.5\\n14670914.0\\n18880498.0\\n44839564.0\\n22649490.0\\n20279506.0\\n41949190.0\\n44992076.0\\n43267108.0\\n11024708.0\\n19502070.0\\n8474481.0\\n26884580.0\\n40778184.0\\n41121616.0\\n3319491.8\\n38649730.0\\n26834954.0\\n16881480.0\\n12820762.0\\n38323384.0\\n40125664.0\\n31669048.0\\n9765218.0\\n16115643.0\\n13751822.0\\n2187050.5\\n38321096.0\\n12773067.0\\n19085700.0\\n6091704.0\\n36363290.0\\n3555073.0\\n572025.4\\n21159102.0\\n15024538.0\\n27110760.0\\n18433358.0\\n23000494.0\\n23864902.0\\n5282199.0\\n9376191.0\\n29504220.0\\n13454774.0\\n7016150.5\\n25411010.0\\n43921092.0\\n12922076.0\\n19933798.0\\n24038948.0\\n36282252.0\\n37413830.0\\n39668120.0\\n26014662.0\\n22822150.0\\n16722526.0\\n18726482.0\\n23290680.0\\n34111784.0\\n47414548.0\\n17342474.0\\n20902538.0\\n27713958.0\\n23472226.0\\n25261396.0\\n35273690.0\\n40006810.0\\n11405392.0\\n15957702.0\\n35216884.0\\n9721108.0\\n24839030.0\\n25705358.0\\n12948932.0\\n8898965.0\\n9747604.0\\n72101330.0\\n25560014.0\\n15435903.0\\n1664600.6\\n24111258.0\\n6996451.0\\n18096810.0\\n37461420.0\\n20979576.0\\n30071688.0\\n5846882.0\\n31333686.0\\n10260952.0\\n30400624.0\\n28378170.0\\n-15557.525\\n6482552.0\\n569477.56\\n12200098.0\\n13283480.0\\n54556964.0\\n9845569.0\\n19557268.0\\n24057956.0\\n44487336.0\\n3278358.0\\n17101792.0\\n32417322.0\\n46664064.0\\n11399630.0\\n27867394.0\\n15078654.0\\n24868182.0\\n7896569.5\\n25289010.0\\n37794710.0\\n22687338.0\\n28339458.0\\n11251528.0\\n37847936.0\\n18380358.0\\n913655.7\\n30298978.0\\n29629906.0\\n15061666.0\\n19439074.0\\n9797876.0\\n9625926.0\\n17212994.0\\n7233796.0\\n39645350.0\\n42482850.0\\n8889737.0\\n10066492.0\\n30017442.0\\n33461036.0\\n1423585.5\\n29663124.0\\n41197840.0\\n19481890.0\\n34351544.0\\n35420610.0\\n14915130.0\\n15436044.0\\n28402450.0\\n22776422.0\\n6766529.5\\n11566276.0\\n14384430.0\\n15350882.0\\n15974359.0\\n15091656.0\\n13304055.0\\n31578508.0\\n17419742.0\\n42165108.0\\n17151466.0\\n3672428.5\\n14353526.0\\n33177620.0\\n11340544.0\\n19066116.0\\n7126251.0\\n19743232.0\\n10450410.0\\n13859217.0\\n7579817.5\\n14559768.0\\n9116724.0\\n22112650.0\\n17168492.0\\n31425178.0\\n23407890.0\\n19776888.0\\n5362195.0\\n11422307.0\\n43695950.0\\n36403590.0\\n3152606.8\\n40371104.0\\n18354764.0\\n24837708.0\\n8840906.0\\n17968654.0\\n30999106.0\\n23294694.0\\n7245112.5\\n4948291.0\\n42215410.0\\n14682502.0\\n20400920.0\\n23546614.0\\n41430910.0\\n17496856.0\\n8339110.0\\n14159263.0\\n14090336.0\\n12066412.0\\n8154718.0\\n23946900.0\\n15045557.0\\n9652875.0\\n20406112.0\\n13100213.0\\n1070671.1\\n15225218.0\\n17713268.0\\n31745668.0\\n31105662.0\\n40194610.0\\n20624842.0\\n18381270.0\\n14221850.0\\n33566100.0\\n17157770.0\\n26109410.0\\n13402632.0\\n17250926.0\\n19021954.0\\n24848578.0\\n37061170.0\\n27544674.0\\n8976520.0\\n36161690.0\\n24043008.0\\n3207396.0\\n33415890.0\\n15307103.0\\n13952962.0\\n25878758.0\\n14051886.0\\n50097492.0\\n39072864.0\\n45193790.0\\n4821934.0\\n8108892.5\\n14995070.0\\n4786151.5\\n24061798.0\\n7885466.0\\n10471122.0\\n34863020.0\\n2571772.0\\n1640061.8\\n1745583.2\\n8148677.5\\n5655520.0\\n15128255.0\\n620916.44\\n89763.69\\n16821002.0\\n10502146.0\\n36072724.0\\n12889772.0\\n10139328.0\\n37047420.0\\n15724486.0\\n22451602.0\\n34148424.0\\n26325354.0\\n14550016.0\\n32001698.0\\n7247391.0\\n13445154.0\\n12300219.0\\n10322304.0\\n11396245.0\\n14150406.0\\n46173144.0\\n24010662.0\\n27716268.0\\n18111218.0\\n5054856.0\\n18108282.0\\n21341710.0\\n18126198.0\\n891060.1\\n31897742.0\\n16117400.0\\n7152239.0\\n26266546.0\\n14213290.0\\n42856730.0\\n8642310.0\\n6419830.0\\n10265650.0\\n12943522.0\\n6371384.5\\n33064926.0\\n11617227.0\\n32544226.0\\n22226320.0\\n17666586.0\\n33411184.0\\n6077023.0\\n6865241.5\\n17179716.0\\n13510495.0\\n33704960.0\\n4162767.5\\n8335924.5\\n38841680.0\\n6926765.5\\n36084020.0\\n2310461.5\\n1045417.75\\n11784994.0\\n7649396.0\\n14321528.0\\n11092412.0\\n49821170.0\\n16446310.0\\n23239222.0\\n7442066.5\\n11461320.0\\n35049556.0\\n20186354.0\\n30909460.0\\n39600330.0\\n22798082.0\\n43638776.0\\n18729430.0\\n30723646.0\\n16134536.0\\n12932521.0\\n20305750.0\\n31479386.0\\n7458320.0\\n1800739.9\\n36643896.0\\n8510418.0\\n12300022.0\\n22490750.0\\n24272566.0\\n30734538.0\\n12094204.0\\n23579494.0\\n18062630.0\\n20286528.0\\n20360906.0\\n45876584.0\\n2097719.8\\n38708590.0\\n23170126.0\\n10199163.0\\n29474602.0\\n18069806.0\\n20012834.0\\n26308862.0\\n29987330.0\\n10432735.0\\n8696510.0\\n16281214.0\\n11657448.0\\n10300307.0\\n34438010.0\\n34334510.0\\n17979368.0\\n16146972.0\\n9784884.0\\n8364398.0\\n14249806.0\\n32776458.0\\n4305689.5\\n16974610.0\\n10768357.0\\n23875214.0\\n19028582.0\\n14821818.0\\n625935.6\\n27983248.0\\n21887020.0\\n38065070.0\\n15084498.0\\n22409950.0\\n10827210.0\\n17962494.0\\n33420238.0\\n5429088.0\\n40890320.0\\n21754988.0\\n35927972.0\\n6997473.0\\n11425628.0\\n8800514.0\\n30728804.0\\n11131698.0\\n35445776.0\\n203658.28\\n28137656.0\\n13040612.0\\n15471640.0\\n38445750.0\\n6777488.0\\n25417878.0\\n10965984.0\\n33841864.0\\n24067474.0\\n36780590.0\\n40024050.0\\n37420544.0\\n29946436.0\\n54033508.0\\n25137484.0\\n2504592.0\\n16582484.0\\n28730370.0\\n42179776.0\\n15527534.0\\n1627865.9\\n37109076.0\\n12336143.0\\n42753590.0\\n43022840.0\\n20946734.0\\n33613544.0\\n30474096.0\\n18670338.0\\n12252736.0\\n9109874.0\\n20421178.0\\n40482750.0\\n8860745.0\\n7546707.5\\n7695062.0\\n1283894.9\\n35702184.0\\n33821990.0\\n33671850.0\\n25689318.0\\n16447609.0\\n29972788.0\\n6888051.0\\n17378320.0\\n34738800.0\\n37450560.0\\n8125729.5\\n21313442.0\\n43309170.0\\n13742905.0\\n30588926.0\\n49484360.0\\n12521396.0\\n34150096.0\\n32390034.0\\n29584410.0\\n29554880.0\\n15479686.0\\n36956576.0\\n5132787.0\\n42938330.0\\n34155376.0\\n11693138.0\\n9767631.0\\n19598236.0\\n13246564.0\\n17512150.0\\n12349070.0\\n9310267.0\\n17381144.0\\n46028210.0\\n13584603.0\\n40832490.0\\n29450022.0\\n-180866.12\\n14899754.0\\n34714170.0\\n43267060.0\\n13498666.0\\n37360556.0\\n16468712.0\\n39089076.0\\n28954758.0\\n41227856.0\\n26774534.0\\n11083357.0\\n14910082.0\\n30337686.0\\n24586394.0\\n39479376.0\\n6557945.0\\n45976212.0\\n7005120.0\\n25371834.0\\n13482151.0\\n18202314.0\\n4260386.0\\n37914120.0\\n19149728.0\\n14418078.0\\n18049334.0\\n6681996.0\\n16947566.0\\n15210192.0\\n34097244.0\\n44436456.0\\n12735106.0\\n-114176.164\\n9085976.0\\n35157220.0\\n28744186.0\\n42869944.0\\n38708868.0\\n33051164.0\\n29861576.0\\n36541096.0\\n1820107.0\\n6322292.0\\n11040418.0\\n27365962.0\\n6574694.0\\n559216.94\\n50228000.0\\n8813220.0\\n48388710.0\\n11665728.0\\n25081282.0\\n1631010.4\\n12769600.0\\n7033017.5\\n52429376.0\\n17915026.0\\n42985880.0\\n74243360.0\\n34993264.0\\n21590678.0\\n18564594.0\\n21516878.0\\n39429310.0\\n18016830.0\\n13491202.0\\n330848.03\\n23135224.0\\n41968944.0\\n24009772.0\\n3881680.0\\n25418986.0\\n15506156.0\\n40918940.0\\n23281822.0\\n29677446.0\\n4940249.0\\n21645566.0\\n19997546.0\\n53344456.0\\n4766057.0\\n20087446.0\\n42559120.0\\n35000850.0\\n20536494.0\\n36308988.0\\n12917690.0\\n28782746.0\\n5209439.5\\n2317920.0\\n10795907.0\\n5443961.5\\n5307370.0\\n16692733.0\\n36833320.0\\n33985690.0\\n32817450.0\\n9693305.0\\n17217434.0\\n12444206.0\\n8560573.0\\n12571764.0\\n14875382.0\\n20128612.0\\n24411978.0\\n42261196.0\\n44504510.0\\n1527372.4\\n21356562.0\\n16257891.0\\n50666016.0\\n23820070.0\\n36719456.0\\n8341195.5\\n17876856.0\\n25532262.0\\n23621702.0\\n14799928.0\\n22681962.0\\n34349624.0\\n40221812.0\\n48562670.0\\n2782340.0\\n13502893.0\\n17083994.0\\n13469550.0\\n19347298.0\\n16953790.0\\n16590644.0\\n1378450.6\\n17439406.0\\n27335302.0\\n19356016.0\\n38463990.0\\n32562178.0\\n8952530.0\\n25284996.0\\n22516366.0\\n508903.44\\n30694528.0\\n16562265.0\\n40297904.0\\n6689551.5\\n7466370.0\\n39583572.0\\n16032687.0\\n33742204.0\\n37050230.0\\n18384560.0\\n29550846.0\\n8488798.0\\n18260738.0\\n26309588.0\\n38086276.0\\n53104140.0\\n28191670.0\\n24136538.0\\n-156881.67\\n7209790.5\\n22563094.0\\n9305326.0\\n26113454.0\\n30579996.0\\n30396148.0\\n14042854.0\\n35148836.0\\n13729122.0\\n9101716.0\\n20478190.0\\n10355608.0\\n38554436.0\\n9270611.0\\n17998998.0\\n12221319.0\\n17757216.0\\n11605974.0\\n6071195.5\\n9246936.0\\n22533300.0\\n12583155.0\\n26684630.0\\n32525424.0\\n8756896.0\\n46845430.0\\n41842160.0\\n25784834.0\\n27891334.0\\n2295588.8\\n1044821.2\\n15046472.0\\n41956990.0\\n9484399.0\\n9874580.0\\n18659242.0\\n23257330.0\\n15649116.0\\n9470194.0\\n23973226.0\\n41114390.0\\n16078520.0\\n588624.56\\n12912022.0\\n13022437.0\\n24967776.0\\n15667124.0\\n9694693.0\\n20733394.0\\n16006700.0\\n19471020.0\\n8992404.0\\n28970590.0\\n20416330.0\\n16681496.0\\n13083148.0\\n23820544.0\\n13020632.0\\n34961950.0\\n19308438.0\\n21515494.0\\n10044382.0\\n2962742.0\\n30364494.0\\n7672633.0\\n16010524.0\\n10651758.0\\n30788586.0\\n31429962.0\\n11527292.0\\n24540294.0\\n40183456.0\\n4113381.0\\n2007901.0\\n49686270.0\\n38205148.0\\n12285458.0\\n52280120.0\\n29097908.0\\n46750984.0\\n32667128.0\\n11231743.0\\n15855172.0\\n15916026.0\\n24001486.0\\n15695455.0\\n16921176.0\\n13666498.0\\n46124730.0\\n7183883.0\\n8568696.0\\n12341506.0\\n14580630.0\\n2012809.1\\n33195142.0\\n9192117.0\\n18948930.0\\n18516928.0\\n31961754.0\\n11045234.0\\n36285464.0\\n18888604.0\\n49346040.0\\n24264358.0\\n30171850.0\\n16762822.0\\n9073854.0\\n10285415.0\\n1780017.9\\n8974953.0\\n39994412.0\\n10740524.0\\n18282052.0\\n36450776.0\\n12871587.0\\n29632814.0\\n13629899.0\\n43913652.0\\n38397788.0\\n18178458.0\\n31832578.0\\n3082157.8\\n37895896.0\\n34978064.0\\n44159430.0\\n24128000.0\\n33600676.0\\n1959996.8\\n33647304.0\\n5701982.0\\n15476720.0\\n15910898.0\\n11984008.0\\n11807643.0\\n38953240.0\\n7600499.0\\n12572427.0\\n20751098.0\\n42203544.0\\n29611066.0\\n34006710.0\\n13298334.0\\n7222513.0\\n12608269.0\\n26333110.0\\n44476240.0\\n27132778.0\\n14626549.0\\n6704031.0\\n2537434.0\\n12382099.0\\n10907831.0\\n6434528.0\\n2225856.5\\n26901730.0\\n16530266.0\\n29960938.0\\n11713259.0\\n16638398.0\\n16345392.0\\n33792532.0\\n17143138.0\\n16717481.0\\n12523774.0\\n6568483.0\\n12572250.0\\n25709630.0\\n10138125.0\\n39500972.0\\n38855020.0\\n23866834.0\\n28590688.0\\n17465674.0\\n31314742.0\\n7943989.0\\n33347742.0\\n43590000.0\\n17253670.0\\n8417062.0\\n9203506.0\\n14286718.0\\n5619527.0\\n10402437.0\\n43770656.0\\n16848414.0\\n17563314.0\\n16504783.0\\n1871898.6\\n28735838.0\\n12280336.0\\n31380574.0\\n15922462.0\\n5971961.5\\n29439986.0\\n31388974.0\\n15344936.0\\n7011200.5\\n14810510.0\\n31342610.0\\n13343090.0\\n36243590.0\\n12784232.0\\n9172898.0\\n10792554.0\\n10391570.0\\n14325838.0\\n43489996.0\\n3254837.0\\n24827730.0\\n6054854.0\\n15578894.0\\n6104323.5\\n16010740.0\\n30160966.0\\n25533568.0\\n9271592.0\\n12966437.0\\n15210308.0\\n832848.0\\n9694988.0\\n21361458.0\\n38394736.0\\n12395616.0\\n21249362.0\\n13577470.0\\n28769906.0\\n-100028.164\\n10251222.0\\n26779026.0\\n32253266.0\\n10545014.0\\n20711356.0\\n9449318.0\\n13726741.0\\n22546682.0\\n35419056.0\\n38237796.0\\n17244906.0\\n11374356.0\\n42647976.0\\n34329044.0\\n36716076.0\\n437290.16\\n15437668.0\\n4738123.5\\n14766548.0\\n13556546.0\\n24795278.0\\n16599670.0\\n9864247.0\\n21552142.0\\n9472116.0\\n19943888.0\\n10162822.0\\n-36831.844\\n30084250.0\\n10001762.0\\n41513612.0\\n5616329.0\\n33742830.0\\n3212796.0\\n970525.06\\n1673852.5\\n12848990.0\\n23347670.0\\n3411175.0\\n33940584.0\\n12749795.0\\n1648310.1\\n14776462.0\\n15638398.0\\n14616790.0\\n11054902.0\\n36633144.0\\n35294412.0\\n18126932.0\\n33521936.0\\n37193224.0\\n23937958.0\\n14967260.0\\n45548040.0\\n30069296.0\\n19307602.0\\n25676230.0\\n4577889.0\\n16279591.0\\n13477203.0\\n7301113.0\\n11411964.0\\n10753010.0\\n9140062.0\\n2689633.2\\n359628.06\\n16928674.0\\n37184684.0\\n39447920.0\\n8254559.0\\n5428354.0\\n15828835.0\\n13390869.0\\n35227090.0\\n11754860.0\\n13234746.0\\n48048490.0\\n17603066.0\\n7312368.5\\n36844344.0\\n11782849.0\\n31174306.0\\n22055578.0\\n14755536.0\\n48211852.0\\n42329440.0\\n46607490.0\\n32750390.0\\n28915162.0\\n17490790.0\\n33145636.0\\n11027618.0\\n12255920.0\\n755552.5\\n41443070.0\\n22414830.0\\n79789700.0\\n33718650.0\\n11403064.0\\n27793962.0\\n39499144.0\\n19413610.0\\n16910828.0\\n48159268.0\\n89992570.0\\n41137170.0\\n17730146.0\\n32110208.0\\n45014000.0\\n35074052.0\\n33285274.0\\n20976214.0\\n34866990.0\\n38645520.0\\n16957850.0\\n16897416.0\\n21774648.0\\n17455670.0\\n1025176.94\\n9482628.0\\n31705618.0\\n17444906.0\\n23249018.0\\n7859635.0\\n32309290.0\\n19335858.0\\n41937880.0\\n26588890.0\\n5007809.0\\n37569080.0\\n680113.44\\n31399842.0\\n34161188.0\\n29189456.0\\n35068076.0\\n10253772.0\\n16678852.0\\n9196962.0\\n35640524.0\\n13359000.0\\n9886084.0\\n13986307.0\\n30066914.0\\n6332356.0\\n36803910.0\\n23596718.0\\n17271132.0\\n26559418.0\\n11478924.0\\n7901085.0\\n23597134.0\\n17664994.0\\n3181895.2\\n27926826.0\\n1356538.5\\n9176432.0\\n15478342.0\\n11185896.0\\n9742404.0\\n18871670.0\\n7261417.0\\n12997330.0\\n19270474.0\\n22106578.0\\n32695148.0\\n17266696.0\\n8753448.0\\n24199086.0\\n21186326.0\\n13373842.0\\n12754551.0\\n30933938.0\\n11475536.0\\n27684218.0\\n12289892.0\\n14904373.0\\n31628890.0\\n38500690.0\\n15817970.0\\n21556876.0\\n32477316.0\\n12260440.0\\n10837948.0\\n10642996.0\\n8834984.0\\n20899360.0\\n36904090.0\\n66798.41\\n12039736.0\\n303304.12\\n14447342.0\\n12748475.0\\n18598816.0\\n16120325.0\\n10723956.0\\n35127124.0\\n4924822.0\\n12354933.0\\n20127500.0\\n37883530.0\\n36451156.0\\n17503998.0\\n25267908.0\\n15230808.0\\n16773630.0\\n20941378.0\\n15008600.0\\n18974822.0\\n23763080.0\\n11001180.0\\n26276034.0\\n45099548.0\\n2518123.5\\n3058644.0\\n46791010.0\\n35479388.0\\n772925.3\\n55439212.0\\n14900570.0\\n27471626.0\\n1162969.1\\n12492048.0\\n16867812.0\\n7097971.0\\n19355060.0\\n13601240.0\\n6428424.5\\n28974106.0\\n41652670.0\\n26994356.0\\n33926664.0\\n41551664.0\\n18411402.0\\n11639213.0\\n766760.94\\n13885549.0\\n15384324.0\\n14590021.0\\n41421544.0\\n18384130.0\\n28408642.0\\n14627422.0\\n28523446.0\\n10845018.0\\n15927590.0\\n5337888.0\\n12641374.0\\n14448063.0\\n14796676.0\\n25242178.0\\n52587770.0\\n6789531.0\\n49206050.0\\n53275510.0\\n29936594.0\\n18815040.0\\n5590659.0\\n12965598.0\\n34253400.0\\n41619464.0\\n2106230.0\\n11581410.0\\n13451407.0\\n27585426.0\\n15261830.0\\n32850894.0\\n23026130.0\\n7427056.0\\n31205126.0\\n20211794.0\\n21387230.0\\n28968040.0\\n25309244.0\\n8619782.0\\n16409469.0\\n21255478.0\\n49207784.0\\n30464474.0\\n11153883.0\\n16278265.0\\n24130470.0\\n17403458.0\\n14847585.0\\n34116856.0\\n15463803.0\\n10805956.0\\n16795200.0\\n24564362.0\\n16621516.0\\n11857212.0\\n37783936.0\\n17478062.0\\n7296466.0\\n20615448.0\\n35426836.0\\n12992070.0\\n20496950.0\\n10466490.0\\n5381364.0\\n9952678.0\\n42051892.0\\n16855802.0\\n25065294.0\\n19702860.0\\n10623504.0\\n7421338.0\\n15473150.0\\n20203894.0\\n23677146.0\\n27072802.0\\n35747896.0\\n16551571.0\\n36071532.0\\n10935968.0\\n12224960.0\\n26933742.0\\n42104868.0\\n40877892.0\\n26976530.0\\n8743254.0\\n34725416.0\\n15629950.0\\n9743372.0\\n33474124.0\\n32107342.0\\n25996856.0\\n38066490.0\\n13086834.0\\n430933.47\\n32436202.0\\n2459513.0\\n17901470.0\\n5237161.0\\n13481581.0\\n32630894.0\\n9324223.0\\n20682066.0\\n18409790.0\\n19519316.0\\n10280082.0\\n31728190.0\\n2087572.8\\n11180612.0\\n13657031.0\\n32954566.0\\n11296082.0\\n10628558.0\\n20641144.0\\n25610188.0\\n25552040.0\\n49968184.0\\n35906548.0\\n25161218.0\\n22277742.0\\n2568988.0\\n44249520.0\\n7207056.0\\n10998684.0\\n29399814.0\\n135333.47\\n42021630.0\\n24692122.0\\n43053612.0\\n29515916.0\\n12767778.0\\n13490314.0\\n22912770.0\\n43061336.0\\n11440017.0\\n27739718.0\\n-87358.13\\n34544252.0\\n17174086.0\\n8070268.0\\n23912574.0\\n26661790.0\\n7183101.0\\n41839176.0\\n32597498.0\\n36654480.0\\n5296018.0\\n25059284.0\\n42319504.0\\n20948058.0\\n24703094.0\\n22283142.0\\n20099990.0\\n22973578.0\\n4201928.0\\n18091742.0\\n11161499.0\\n20956704.0\\n18699474.0\\n13220010.0\\n39207450.0\\n21746182.0\\n34980388.0\\n13315860.0\\n14216191.0\\n17280230.0\\n5647422.5\\n13991017.0\\n38975320.0\\n34287190.0\\n35016170.0\\n37432330.0\\n9578253.0\\n12613208.0\\n18862488.0\\n15176444.0\\n22655094.0\\n34332970.0\\n9898664.0\\n17245216.0\\n51405480.0\\n7412184.5\\n45252372.0\\n17426874.0\\n21175380.0\\n6206381.0\\n22500840.0\\n11114474.0\\n5228621.5\\n28694762.0\\n6653081.0\\n21844434.0\\n10267142.0\\n16627150.0\\n13120454.0\\n20411198.0\\n41604320.0\\n6907598.0\\n8710164.0\\n9641012.0\\n19776412.0\\n14430602.0\\n16617359.0\\n12527364.0\\n35622108.0\\n12427708.0\\n33201614.0\\n15769414.0\\n26987948.0\\n9550043.0\\n15735309.0\\n20933914.0\\n40728800.0\\n31760982.0\\n29612678.0\\n12159916.0\\n46717584.0\\n7812901.0\\n22886800.0\\n630259.94\\n33966932.0\\n31151506.0\\n35192412.0\\n15327561.0\\n12338300.0\\n28666238.0\\n27047494.0\\n20376738.0\\n17345630.0\\n14715094.0\\n22092412.0\\n15056536.0\\n6934368.0\\n2520276.5\\n19955490.0\\n19259666.0\\n9367386.0\\n15598080.0\\n15095998.0\\n10745813.0\\n10306203.0\\n26358578.0\\n18138162.0\\n11941905.0\\n24232556.0\\n9359818.0\\n48906880.0\\n38961696.0\\n20581638.0\\n18187658.0\\n817601.2\\n41692956.0\\n7719938.0\\n47313270.0\\n16588468.0\\n48549164.0\\n9463068.0\\n12337825.0\\n18864802.0\\n23464236.0\\n33562200.0\\n46774850.0\\n25035726.0\\n20644338.0\\n32138250.0\\n13836393.0\\n13254020.0\\n13663146.0\\n16026806.0\\n19125680.0\\n20705230.0\\n23191658.0\\n9988504.0\\n25600090.0\\n12164976.0\\n38951890.0\\n26694378.0\\n33837720.0\\n10186129.0\\n12540504.0\\n25123552.0\\n5729540.0\\n10564043.0\\n6223977.0\\n30959218.0\\n26290230.0\\n19533382.0\\n31549418.0\\n5050916.0\\n7237599.0\\n39119496.0\\n42394620.0\\n26316496.0\\n38982040.0\\n25868066.0\\n2860969.0\\n36642490.0\\n18557274.0\\n13948418.0\\n2006286.5\\n10116806.0\\n36922936.0\\n14373926.0\\n20025954.0\\n14110485.0\\n20646372.0\\n30463138.0\\n1173392.9\\n35902296.0\\n37920230.0\\n22132898.0\\n16765831.0\\n15736693.0\\n26173952.0\\n29331440.0\\n15080280.0\\n10354974.0\\n10821388.0\\n22067526.0\\n15621789.0\\n40474450.0\\n28609840.0\\n31887054.0\\n33765260.0\\n31918256.0\\n29482130.0\\n3020570.5\\n38088436.0\\n13913653.0\\n33605910.0\\n20428630.0\\n3788652.5\\n19733158.0\\n38325270.0\\n15994734.0\\n21745314.0\\n33506388.0\\n3579233.2\\n11671271.0\\n50274330.0\\n40261344.0\\n38501876.0\\n43340400.0\\n726531.75\\n33619520.0\\n33667410.0\\n11855266.0\\n12556677.0\\n13688340.0\\n41330210.0\\n14655584.0\\n18280150.0\\n33270884.0\\n8943615.0\\n9247994.0\\n33383046.0\\n32493010.0\\n26514718.0\\n14033702.0\\n48766852.0\\n36297452.0\\n38177110.0\\n13743076.0\\n35020028.0\\n41802640.0\\n34239360.0\\n22468746.0\\n39789770.0\\n23651576.0\\n20177830.0\\n33450506.0\\n14062783.0\\n12395585.0\\n3317212.5\\n24210850.0\\n48995904.0\\n7552431.0\\n33895320.0\\n6972568.0\\n13300748.0\\n13211596.0\\n10715866.0\\n18365244.0\\n6051554.0\\n40166664.0\\n45916856.0\\n15782400.0\\n14226610.0\\n30111806.0\\n23692670.0\\n38658896.0\\n25718658.0\\n49350864.0\\n470993.7\\n8482225.0\\n30476442.0\\n9989984.0\\n15472412.0\\n11611465.0\\n10381762.0\\n11769860.0\\n27422798.0\\n14513178.0\\n12620267.0\\n10525946.0\\n33507450.0\\n10416455.0\\n8731742.0\\n40535120.0\\n37129890.0\\n927070.56\\n39407216.0\\n24627254.0\\n10666552.0\\n33044800.0\\n12026970.0\\n31229546.0\\n32260126.0\\n32137724.0\\n14782243.0\\n49498296.0\\n12900080.0\\n11834976.0\\n19909996.0\\n8692078.0\\n16905418.0\\n20837986.0\\n53009210.0\\n3894555.5\\n10303632.0\\n19344822.0\\n7605578.5\\n39235500.0\\n32709974.0\\n29955166.0\\n6598811.0\\n2079150.5\\n40722212.0\\n2304013.0\\n30233020.0\\n15906230.0\\n10401264.0\\n48526280.0\\n31258270.0\\n17472756.0\\n40078570.0\\n8080400.5\\n17633322.0\\n25789574.0\\n34844468.0\\n14689688.0\\n9575515.0\\n12956282.0\\n13773984.0\\n19512862.0\\n14146966.0\\n23878822.0\\n34808790.0\\n19572842.0\\n44411080.0\\n31765058.0\\n16603672.0\\n25400486.0\\n5586667.0\\n41746136.0\\n11528635.0\\n15751005.0\\n6287405.0\\n7658311.0\\n30531408.0\\n18775244.0\\n13337700.0\\n8544428.0\\n15050887.0\\n12701991.0\\n34592510.0\\n35183332.0\\n49177824.0\\n15492466.0\\n31568410.0\\n20126350.0\\n41267440.0\\n14111362.0\\n11385218.0\\n33563636.0\\n13159684.0\\n34455800.0\\n19320264.0\\n35173984.0\\n10625797.0\\n14128498.0\\n19148528.0\\n7020088.0\\n14151764.0\\n60779504.0\\n28436222.0\\n1446938.9\\n2816947.5\\n20925718.0\\n22750346.0\\n27655946.0\\n13234680.0\\n47100252.0\\n7832556.5\\n38659750.0\\n14063640.0\\n-103310.56\\n39052116.0\\n27851434.0\\n32408056.0\\n1273025.6\\n10511527.0\\n24935458.0\\n16777886.0\\n16987922.0\\n11435050.0\\n18991882.0\\n30794120.0\\n21137662.0\\n11321496.0\\n9853320.0\\n15438142.0\\n35619944.0\\n29475598.0\\n1215034.1\\n32134626.0\\n7627133.0\\n43175300.0\\n18418884.0\\n41349250.0\\n22854406.0\\n13490268.0\\n18633920.0\\n38131896.0\\n25697052.0\\n14775422.0\\n13498132.0\\n15186624.0\\n6734817.0\\n30244376.0\\n32178350.0\\n5136617.5\\n14087150.0\\n43885850.0\\n14031938.0\\n29619802.0\\n39102812.0\\n4619627.0\\n17503900.0\\n19100394.0\\n22720370.0\\n1425598.9\\n17769450.0\\n35272816.0\\n847066.44\\n20217466.0\\n9918207.0\\n11240946.0\\n43531664.0\\n19631656.0\\n43117960.0\\n23110034.0\\n19244256.0\\n44943084.0\\n14422191.0\\n15488270.0\\n60669492.0\\n40178090.0\\n20222012.0\\n29808476.0\\n13483404.0\\n6510480.5\\n12089511.0\\n16494258.0\\n34165028.0\\n25608046.0\\n20435922.0\\n7728626.0\\n20640722.0\\n11814584.0\\n24096278.0\\n10209329.0\\n16940564.0\\n1524750.5\\n19072402.0\\n3165335.0\\n36124100.0\\n5322849.5\\n15639282.0\\n15618234.0\\n25128276.0\\n8285456.0\\n27640106.0\\n6851038.0\\n46498188.0\\n44284576.0\\n45183590.0\\n12974601.0\\n39830876.0\\n15775755.0\\n27422146.0\\n24062702.0\\n5860902.0\\n2360544.5\\n6779760.0\\n11947652.0\\n37570556.0\\n12285218.0\\n32610534.0\\n12806622.0\\n10989182.0\\n16245955.0\\n28104038.0\\n18151204.0\\n34146804.0\\n3242286.2\\n20017370.0\\n35617560.0\\n12249654.0\\n2570594.5\\n17848206.0\\n43139616.0\\n2305955.5\\n7395302.0\\n39395824.0\\n5542043.5\\n31463954.0\\n7643472.0\\n39770024.0\\n9273208.0\\n30928012.0\\n16292782.0\\n10185517.0\\n16254258.0\\n16677778.0\\n38501104.0\\n5409166.0\\n31032086.0\\n10842820.0\\n37680184.0\\n34968810.0\\n9962234.0\\n15433995.0\\n21672694.0\\n30491786.0\\n48883560.0\\n5474308.0\\n33732360.0\\n15578928.0\\n24910008.0\\n8175477.5\\n48435560.0\\n99912.64\\n44221456.0\\n5311204.0\\n45936160.0\\n28970126.0\\n3616804.5\\n17324690.0\\n18337458.0\\n36718336.0\\n11994075.0\\n7691927.0\\n19448388.0\\n9121267.0\\n25841826.0\\n8335004.0\\n22839960.0\\n21405794.0\\n38331730.0\\n5439731.0\\n36062840.0\\n7950631.0\\n36157640.0\\n18623802.0\\n632458.56\\n9059330.0\\n29187068.0\\n17133518.0\\n20798956.0\\n15028741.0\\n3247549.0\\n28830886.0\\n9381022.0\\n9788664.0\\n21220244.0\\n28226590.0\\n60245636.0\\n11655967.0\\n43683650.0\\n46838996.0\\n33259818.0\\n42139080.0\\n37767372.0\\n28132954.0\\n21226736.0\\n18055454.0\\n42686920.0\\n12030738.0\\n37177244.0\\n21480578.0\\n31663898.0\\n10985990.0\\n14025736.0\\n34248400.0\\n35357280.0\\n19645828.0\\n19094822.0\\n6944090.0\\n41874376.0\\n31472514.0\\n41194810.0\\n10971076.0\\n10907584.0\\n17093400.0\\n51840468.0\\n30416170.0\\n9520518.0\\n9340734.0\\n9611725.0\\n37457616.0\\n16184718.0\\n23576410.0\\n9965114.0\\n30284950.0\\n33891210.0\\n12966224.0\\n31711114.0\\n12400746.0\\n28588084.0\\n10686481.0\\n31824270.0\\n1291019.2\\n69626990.0\\n20904970.0\\n42261896.0\\n20587386.0\\n32921194.0\\n43810104.0\\n26560130.0\\n11365856.0\\n18278332.0\\n26142016.0\\n8927862.0\\n19143274.0\\n11618544.0\\n33066302.0\\n39151336.0\\n78621110.0\\n43676800.0\\n23322084.0\\n34440796.0\\n15729081.0\\n4675126.0\\n11632624.0\\n16519426.0\\n13367046.0\\n13634918.0\\n7014158.5\\n33900530.0\\n30937002.0\\n1715551.8\\n14137628.0\\n37977108.0\\n2605057.5\\n25041818.0\\n15081694.0\\n19311088.0\\n28286186.0\\n471463.8\\n16170881.0\\n6296521.5\\n32394582.0\\n12503112.0\\n26416454.0\\n37367052.0\\n7125453.0\\n15217687.0\\n81965330.0\\n33801484.0\\n23959574.0\\n3406207.8\\n14248482.0\\n31745636.0\\n34630876.0\\n7034045.0\\n30717658.0\\n6426439.0\\n18310682.0\\n14925440.0\\n18099174.0\\n10487802.0\\n11004184.0\\n18165874.0\\n35689544.0\\n41550710.0\\n3241682.2\\n12099300.0\\n28513854.0\\n17928684.0\\n30334660.0\\n21635868.0\\n5363330.0\\n27981814.0\\n8250876.5\\n4631090.5\\n30330806.0\\n29126686.0\\n52124410.0\\n28278518.0\\n16829868.0\\n17721074.0\\n37310584.0\\n30722076.0\\n43551950.0\\n18522614.0\\n19668004.0\\n40451292.0\\n8623306.0\\n13995273.0\\n17000578.0\\n42282600.0\\n7869608.0\\n6401854.0\\n38407788.0\\n22017914.0\\n33147190.0\\n30276048.0\\n30124624.0\\n8999502.0\\n4550479.5\\n16663945.0\\n669112.5\\n6093869.0\\n14618350.0\\n34738850.0\\n24901744.0\\n44490604.0\\n30719820.0\\n14138277.0\\n13844170.0\\n15824542.0\\n10458346.0\\n10987110.0\\n4696366.5\\n16489829.0\\n12617586.0\\n592993.9\\n28612948.0\\n1357800.4\\n21636120.0\\n16917060.0\\n20645500.0\\n32426406.0\\n27265642.0\\n28901150.0\\n1965308.6\\n10961176.0\\n5189813.0\\n38443560.0\\n33943876.0\\n14437884.0\\n15887581.0\\n22732954.0\\n22499274.0\\n40584456.0\\n26520070.0\\n11379328.0\\n11825925.0\\n20441706.0\\n20373282.0\\n5969462.0\\n17474292.0\\n29752602.0\\n14176515.0\\n17834576.0\\n10326651.0\\n25887912.0\\n44547150.0\\n17883496.0\\n12770039.0\\n31040106.0\\n9223888.0\\n41351760.0\\n32534016.0\\n19293174.0\\n25300154.0\\n43341336.0\\n6103083.0\\n16571487.0\\n5435014.0\\n8943188.0\\n7290218.0\\n4214205.5\\n26950858.0\\n7114463.0\\n14062526.0\\n38267944.0\\n255991.23\\n8500363.0\\n20756122.0\\n20602352.0\\n27719540.0\\n16293464.0\\n18179666.0\\n14187174.0\\n36655830.0\\n9417516.0\\n34062320.0\\n15441618.0\\n20056994.0\\n10833594.0\\n6673097.0\\n706224.7\\n21221150.0\\n8055490.5\\n38714210.0\\n2518083.5\\n20176462.0\\n22797242.0\\n21376468.0\\n26155686.0\\n34211430.0\\n28025242.0\\n44181744.0\\n26274450.0\\n10676576.0\\n21423278.0\\n12067708.0\\n37519810.0\\n9520268.0\\n8701602.0\\n15093709.0\\n10525420.0\\n40930936.0\\n12170368.0\\n22608902.0\\n11488564.0\\n38579330.0\\n6480656.5\\n810848.06\\n30170730.0\\n15811406.0\\n32158494.0\\n20267984.0\\n33811640.0\\n-18166.23\\n40111180.0\\n19773638.0\\n9607536.0\\n33318926.0\\n21201814.0\\n7802831.0\\n18775800.0\\n44997900.0\\n38263760.0\\n32104706.0\\n1380997.9\\n14609611.0\\n10394374.0\\n37554160.0\\n24976430.0\\n39606892.0\\n33745240.0\\n35391544.0\\n2426509.0\\n7150024.0\\n34788856.0\\n10905838.0\\n8019743.0\\n7909868.0\\n47563144.0\\n47470410.0\\n38838500.0\\n12330282.0\\n7640229.0\\n773648.44\\n22221774.0\\n21310706.0\\n47513576.0\\n63658244.0\\n42846170.0\\n15602170.0\\n3660848.2\\n44228890.0\\n31768722.0\\n35790490.0\\n14406384.0\\n18402984.0\\n11656490.0\\n9117678.0\\n11769499.0\\n47843950.0\\n32558700.0\\n10621815.0\\n34443610.0\\n10064764.0\\n4690712.0\\n12923117.0\\n13756786.0\\n18843066.0\\n21506124.0\\n23725632.0\\n16859738.0\\n15991415.0\\n11231952.0\\n30828110.0\\n43938388.0\\n9837224.0\\n5561319.5\\n32082338.0\\n17021846.0\\n4666114.0\\n39912692.0\\n9899847.0\\n17788322.0\\n32707450.0\\n14027252.0\\n3200182.5\\n4085739.0\\n31830274.0\\n3719980.0\\n16266184.0\\n10083447.0\\n8019456.0\\n13123929.0\\n19310498.0\\n28727438.0\\n7499593.0\\n19942368.0\\n37675910.0\\n11655614.0\\n3012776.5\\n773244.94\\n15619756.0\\n17556548.0\\n40014790.0\\n15619032.0\\n29310870.0\\n40697160.0\\n34493320.0\\n2864236.8\\n38679172.0\\n15075354.0\\n16334432.0\\n23036554.0\\n30188634.0\\n32397966.0\\n29164812.0\\n25031836.0\\n9057741.0\\n62396028.0\\n20807980.0\\n33300438.0\\n34452080.0\\n4720503.0\\n35304520.0\\n19182080.0\\n16577762.0\\n24088874.0\\n17932714.0\\n-142896.61\\n38614550.0\\n9263449.0\\n14028991.0\\n26540630.0\\n25067670.0\\n3572813.2\\n23019470.0\\n16381967.0\\n6203331.0\\n30311278.0\\n25105144.0\\n41537230.0\\n49146000.0\\n28555430.0\\n17301040.0\\n21209508.0\\n9289821.0\\n44280084.0\\n16367723.0\\n5553805.0\\n15558345.0\\n33322502.0\\n48233828.0\\n46307736.0\\n26099348.0\\n20797926.0\\n26968702.0\\n53307572.0\\n4816604.0\\n25369062.0\\n9672939.0\\n20729318.0\\n11671070.0\\n14704871.0\\n10376452.0\\n13052921.0\\n25236118.0\\n14963226.0\\n34680964.0\\n4718319.5\\n30062744.0\\n12044873.0\\n33650856.0\\n13722101.0\\n23426582.0\\n15462814.0\\n20733582.0\\n12556501.0\\n15241048.0\\n50137410.0\\n35652804.0\\n36924624.0\\n1220777.4\\n1357273.6\\n9569158.0\\n33419570.0\\n36740344.0\\n14358562.0\\n7413387.0\\n13546714.0\\n18307660.0\\n18838682.0\\n24342606.0\\n13000186.0\\n20625398.0\\n27516398.0\\n15821165.0\\n32639994.0\\n14732660.0\\n35728932.0\\n1459295.8\\n13675261.0\\n41637430.0\\n27624910.0\\n7020805.0\\n35205496.0\\n39999096.0\\n4624236.0\\n6167519.0\\n11247396.0\\n38950904.0\\n18814282.0\\n45488990.0\\n19169402.0\\n14459391.0\\n12728653.0\\n20761360.0\\n47297344.0\\n9339845.0\\n34307310.0\\n8137897.0\\n43846320.0\\n1260955.1\\n39657144.0\\n34433308.0\\n6165207.5\\n33238522.0\\n8300591.0\\n419074.66\\n33045682.0\\n16624518.0\\n41437200.0\\n17191154.0\\n7517813.0\\n41800864.0\\n29896938.0\\n25313790.0\\n14525852.0\\n21402554.0\\n21054460.0\\n4487925.0\\n16828862.0\\n36796300.0\\n16268318.0\\n5069833.5\\n26584364.0\\n8708252.0\\n6654452.0\\n34615560.0\\n17990626.0\\n14287648.0\\n5278803.5\\n30192446.0\\n19469262.0\\n13202722.0\\n14391304.0\\n11605858.0\\n22486522.0\\n40662772.0\\n10943648.0\\n9002222.0\\n12982828.0\\n15518466.0\\n3574774.5\\n11968165.0\\n45432216.0\\n22660504.0\\n36080984.0\\n17221510.0\\n559042.3\\n18681682.0\\n32558530.0\\n39955344.0\\n43418360.0\\n10561670.0\\n8062297.0\\n5652482.5\\n18444518.0\\n26225330.0\\n35692016.0\\n8632844.0\\n46037490.0\\n27367494.0\\n35271790.0\\n37936850.0\\n20722726.0\\n12184182.0\\n27423422.0\\n27936938.0\\n23418986.0\\n20754030.0\\n21819458.0\\n32099810.0\\n11164586.0\\n14559268.0\\n12533294.0\\n11674603.0\\n26609722.0\\n6302680.0\\n38434640.0\\n34774920.0\\n34433776.0\\n17960682.0\\n35977070.0\\n28383262.0\\n19564400.0\\n46398270.0\\n41370224.0\\n46191000.0\\n23411064.0\\n11301084.0\\n18055552.0\\n47704884.0\\n37839108.0\\n25931778.0\\n17707330.0\\n33342866.0\\n36688.113\\n27672410.0\\n8727213.0\\n26412272.0\\n11050994.0\\n20873818.0\\n21393338.0\\n29484748.0\\n33216296.0\\n20190442.0\\n529134.7\\n24745412.0\\n28194860.0\\n4293119.5\\n32763764.0\\n7347122.0\\n35016640.0\\n24913506.0\\n20143702.0\\n5269307.0\\n42863384.0\\n41954930.0\\n7862415.0\\n9187113.0\\n49050810.0\\n38173950.0\\n22365728.0\\n14677529.0\\n4362349.0\\n21152750.0\\n13876033.0\\n41818390.0\\n35455436.0\\n26871794.0\\n10003886.0\\n30586448.0\\n8201780.5\\n25176284.0\\n8869051.0\\n13998079.0\\n19924802.0\\n13319614.0\\n14459738.0\\n9504006.0\\n31631406.0\\n20727258.0\\n20686322.0\\n8565896.0\\n33961620.0\\n28683338.0\\n2774228.8\\n37691068.0\\n21890128.0\\n27745394.0\\n34605412.0\\n10397506.0\\n51439916.0\\n8233140.0\\n27053970.0\\n34585588.0\\n13548510.0\\n46029776.0\\n12769356.0\\n22776430.0\\n40642364.0\\n37786600.0\\n23081484.0\\n17052970.0\\n54272788.0\\n37474332.0\\n39267516.0\\n24608258.0\\n10864209.0\\n28126798.0\\n6332395.0\\n23880710.0\\n8805919.0\\n20876662.0\\n15549783.0\\n9726939.0\\n13624054.0\\n34385484.0\\n10203652.0\\n32819122.0\\n44436836.0\\n13971196.0\\n25573230.0\\n8466286.0\\n19794710.0\\n12042820.0\\n34062892.0\\n18722512.0\\n9338470.0\\n23651850.0\\n7864944.0\\n11513779.0\\n26303736.0\\n292419.44\\n26186270.0\\n24243106.0\\n18374994.0\\n38188336.0\\n35433852.0\\n26553234.0\\n36213256.0\\n13300036.0\\n28460540.0\\n3169390.0\\n43856184.0\\n11137434.0\\n6499560.0\\n-5554.1733\\n15866773.0\\n7246375.0\\n28573138.0\\n36748150.0\\n52617064.0\\n16987786.0\\n32956880.0\\n44647944.0\\n39628496.0\\n13332614.0\\n10009637.0\\n16027273.0\\n15115655.0\\n3702583.5\\n14139702.0\\n4197757.0\\n32409984.0\\n11026119.0\\n32098690.0\\n20567006.0\\n30471884.0\\n22718398.0\\n31216830.0\\n9343206.0\\n36011348.0\\n14136799.0\\n29224860.0\\n8626617.0\\n21003934.0\\n35752920.0\\n17150372.0\\n5293801.0\\n19178732.0\\n17973626.0\\n4542194.5\\n7160317.0\\n549489.7\\n46146910.0\\n16588564.0\\n26998216.0\\n3753144.0\\n2036410.9\\n10340870.0\\n46093812.0\\n21166998.0\\n9466728.0\\n33564610.0\\n13084219.0\\n30665580.0\\n1130233.1\\n12186297.0\\n7773004.5\\n745345.94\\n18140390.0\\n24154634.0\\n31352850.0\\n23681238.0\\n7541748.0\\n20414606.0\\n6465756.5\\n15694911.0\\n41161296.0\\n623756.5\\n22207626.0\\n15140370.0\\n30392766.0\\n16511653.0\\n30057236.0\\n802343.6\\n25546042.0\\n22579656.0\\n24925562.0\\n170019.11\\n31246130.0\\n15287044.0\\n44951470.0\\n9991417.0\\n17774818.0\\n38070896.0\\n14654498.0\\n3687574.0\\n20544442.0\\n11970336.0\\n26182918.0\\n30885802.0\\n31206962.0\\n40873080.0\\n12294783.0\\n39139732.0\\n25453602.0\\n10916698.0\\n1785578.4\\n22083260.0\\n39035350.0\\n15497342.0\\n51349588.0\\n9866154.0\\n5351039.0\\n30401006.0\\n5540611.0\\n15215668.0\\n16129867.0\\n39220444.0\\n28682460.0\\n10453100.0\\n11794900.0\\n22836418.0\\n27654150.0\\n16735366.0\\n33213638.0\\n22715106.0\\n22620466.0\\n17970070.0\\n8222016.0\\n40700910.0\\n41258344.0\\n11875168.0\\n17613038.0\\n13856877.0\\n13370423.0\\n36513750.0\\n22050724.0\\n35911656.0\\n10924621.0\\n14640102.0\\n4758531.0\\n17620854.0\\n20699994.0\\n30064920.0\\n37582330.0\\n4450838.5\\n15736053.0\\n16393196.0\\n30384000.0\\n43426644.0\\n30881560.0\\n21589498.0\\n42914724.0\\n11220776.0\\n23406162.0\\n31865382.0\\n3363074.2\\n64666830.0\\n16058570.0\\n37795560.0\\n-106056.64\\n20367186.0\\n11002154.0\\n14743701.0\\n28666734.0\\n10354272.0\\n6988912.5\\n481033.25\\n7246554.0\\n26429638.0\\n28183866.0\\n9214334.0\\n35119296.0\\n11742596.0\\n8725783.0\\n31206340.0\\n50114810.0\\n44255896.0\\n10291661.0\\n35483224.0\\n7211070.0\\n15374777.0\\n14602718.0\\n6000979.0\\n13996532.0\\n4983964.0\\n32928396.0\\n9205659.0\\n33839104.0\\n20529710.0\\n42914428.0\\n46771324.0\\n27423442.0\\n34607710.0\\n34842680.0\\n16394598.0\\n21964284.0\\n18437640.0\\n37336636.0\\n7407949.0\\n35455930.0\\n16429443.0\\n31315514.0\\n16874022.0\\n14208962.0\\n27233044.0\\n10730524.0\\n15008013.0\\n14798598.0\\n35802196.0\\n31275066.0\\n52051544.0\\n8255871.0\\n3593638.5\\n93934.836\\n4377560.0\\n6602261.0\\n6790147.0\\n8732840.0\\n15176737.0\\n27432408.0\\n-97003.62\\n12272642.0\\n15765283.0\\n14836572.0\\n26344978.0\\n11654606.0\\n51882840.0\\n11694700.0\\n25347006.0\\n36811600.0\\n12884913.0\\n10710571.0\\n20663006.0\\n24066026.0\\n4627914.5\\n40654000.0\\n19235206.0\\n13766546.0\\n14977858.0\\n28223642.0\\n26107458.0\\n39607492.0\\n11700141.0\\n32368298.0\\n38893332.0\\n8104677.0\\n30201214.0\\n21847148.0\\n37515424.0\\n66875220.0\\n7195517.0\\n15839293.0\\n41723170.0\\n26907298.0\\n19887126.0\\n36211390.0\\n38281004.0\\n10819557.0\\n18796238.0\\n11640208.0\\n41901476.0\\n3611548.0\\n16841666.0\\n29521882.0\\n14468279.0\\n24149270.0\\n10636676.0\\n25236450.0\\n52417336.0\\n13651710.0\\n49637230.0\\n24729064.0\\n15539308.0\\n16269737.0\\n29415466.0\\n13935339.0\\n2591147.0\\n53739290.0\\n17186268.0\\n13752859.0\\n28048064.0\\n19160228.0\\n13531886.0\\n32682556.0\\n13257826.0\\n793970.75\\n9583791.0\\n1335777.2\\n17697610.0\\n31131922.0\\n2967714.5\\n45829040.0\\n14941032.0\\n12291598.0\\n18473946.0\\n15973379.0\\n46307910.0\\n9611753.0\\n33545242.0\\n26640466.0\\n14624892.0\\n5257401.0\\n19654256.0\\n11750503.0\\n12749620.0\\n29046260.0\\n12539273.0\\n25323870.0\\n51661220.0\\n43240600.0\\n10060314.0\\n33854960.0\\n27199406.0\\n39147896.0\\n34428456.0\\n44043236.0\\n9577766.0\\n35840680.0\\n10217330.0\\n7128558.0\\n30983866.0\\n42299016.0\\n11117780.0\\n2703317.2\\n20680804.0\\n38914984.0\\n21486910.0\\n32740496.0\\n34395068.0\\n26516594.0\\n19050958.0\\n16224856.0\\n38569984.0\\n23285332.0\\n22237064.0\\n4220354.5\\n14632569.0\\n19290186.0\\n8283716.0\\n17516458.0\\n980536.7\\n37385536.0\\n12495383.0\\n38534290.0\\n25629414.0\\n48152196.0\\n19945906.0\\n33701776.0\\n6222549.0\\n42637784.0\\n37244656.0\\n36180480.0\\n11530880.0\\n21118872.0\\n13587210.0\\n14054464.0\\n16700994.0\\n16791064.0\\n11888752.0\\n15246918.0\\n18328830.0\\n15208280.0\\n17499510.0\\n41510252.0\\n13495824.0\\n29436300.0\\n30935080.0\\n31338118.0\\n116430264.0\\n13041294.0\\n11212274.0\\n45786132.0\\n20888750.0\\n'"
            ]
          },
          "metadata": {
            "tags": []
          },
          "execution_count": 23
        }
      ]
    }
  ]
}