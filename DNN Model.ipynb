{
  "nbformat": 4,
  "nbformat_minor": 0,
  "metadata": {
    "colab": {
      "name": "Final.ipynb",
      "provenance": [],
      "collapsed_sections": [],
      "authorship_tag": "ABX9TyN+rqzF4m3d48gDBB0gZD5E",
      "include_colab_link": true
    },
    "kernelspec": {
      "name": "python3",
      "display_name": "Python 3"
    }
  },
  "cells": [
    {
      "cell_type": "markdown",
      "metadata": {
        "id": "view-in-github",
        "colab_type": "text"
      },
      "source": [
        "<a href=\"https://colab.research.google.com/github/TokaOssama/Volcanic-Eruption-Prediction/blob/main/DNN%20Model.ipynb\" target=\"_parent\"><img src=\"https://colab.research.google.com/assets/colab-badge.svg\" alt=\"Open In Colab\"/></a>"
      ]
    },
    {
      "cell_type": "code",
      "metadata": {
        "id": "YXT27_38K9LN"
      },
      "source": [
        "import matplotlib.pyplot as plt\r\n",
        "import numpy as np\r\n",
        "import tensorflow as tf\r\n",
        "import pandas as pd\r\n",
        "import os"
      ],
      "execution_count": 1,
      "outputs": []
    },
    {
      "cell_type": "code",
      "metadata": {
        "colab": {
          "base_uri": "https://localhost:8080/"
        },
        "id": "9aEltaL7HkPv",
        "outputId": "5246ffb8-7c83-4695-f99f-e36aa9334c2b"
      },
      "source": [
        "from google.colab import drive\r\n",
        "drive.mount('/content/drive')\r\n",
        "Data =  np.load('./drive/My Drive/Volcano Project/Saveddata.npy')\r\n",
        "print(Data.shape)"
      ],
      "execution_count": 2,
      "outputs": [
        {
          "output_type": "stream",
          "text": [
            "Mounted at /content/drive\n",
            "(4431, 10, 25, 202)\n"
          ],
          "name": "stdout"
        }
      ]
    },
    {
      "cell_type": "code",
      "metadata": {
        "colab": {
          "base_uri": "https://localhost:8080/",
          "height": 204
        },
        "id": "b41xaYi4K6H6",
        "outputId": "17d82795-206e-4523-ae11-c1f6054f2e67"
      },
      "source": [
        "target_file = pd.read_csv ('./drive/My Drive/VolcanicData/train.csv')\r\n",
        "target_file.head()"
      ],
      "execution_count": 3,
      "outputs": [
        {
          "output_type": "execute_result",
          "data": {
            "text/html": [
              "<div>\n",
              "<style scoped>\n",
              "    .dataframe tbody tr th:only-of-type {\n",
              "        vertical-align: middle;\n",
              "    }\n",
              "\n",
              "    .dataframe tbody tr th {\n",
              "        vertical-align: top;\n",
              "    }\n",
              "\n",
              "    .dataframe thead th {\n",
              "        text-align: right;\n",
              "    }\n",
              "</style>\n",
              "<table border=\"1\" class=\"dataframe\">\n",
              "  <thead>\n",
              "    <tr style=\"text-align: right;\">\n",
              "      <th></th>\n",
              "      <th>segment_id</th>\n",
              "      <th>time_to_eruption</th>\n",
              "    </tr>\n",
              "  </thead>\n",
              "  <tbody>\n",
              "    <tr>\n",
              "      <th>0</th>\n",
              "      <td>1136037770</td>\n",
              "      <td>12262005</td>\n",
              "    </tr>\n",
              "    <tr>\n",
              "      <th>1</th>\n",
              "      <td>1969647810</td>\n",
              "      <td>32739612</td>\n",
              "    </tr>\n",
              "    <tr>\n",
              "      <th>2</th>\n",
              "      <td>1895879680</td>\n",
              "      <td>14965999</td>\n",
              "    </tr>\n",
              "    <tr>\n",
              "      <th>3</th>\n",
              "      <td>2068207140</td>\n",
              "      <td>26469720</td>\n",
              "    </tr>\n",
              "    <tr>\n",
              "      <th>4</th>\n",
              "      <td>192955606</td>\n",
              "      <td>31072429</td>\n",
              "    </tr>\n",
              "  </tbody>\n",
              "</table>\n",
              "</div>"
            ],
            "text/plain": [
              "   segment_id  time_to_eruption\n",
              "0  1136037770          12262005\n",
              "1  1969647810          32739612\n",
              "2  1895879680          14965999\n",
              "3  2068207140          26469720\n",
              "4   192955606          31072429"
            ]
          },
          "metadata": {
            "tags": []
          },
          "execution_count": 3
        }
      ]
    },
    {
      "cell_type": "code",
      "metadata": {
        "colab": {
          "base_uri": "https://localhost:8080/",
          "height": 204
        },
        "id": "MDNw9HsbLSyL",
        "outputId": "1cb4ce94-2d04-4dac-ed74-41cc2b3813a5"
      },
      "source": [
        "filename = []\r\n",
        "for file in target_file['segment_id']:\r\n",
        "    filename.append('./drive/My Drive/VolcanicData/train/'+str(file)+'.csv')\r\n",
        "target_file['filename'] = filename\r\n",
        "target_file= target_file.drop('segment_id',axis = 1)\r\n",
        "target_file.head()"
      ],
      "execution_count": 4,
      "outputs": [
        {
          "output_type": "execute_result",
          "data": {
            "text/html": [
              "<div>\n",
              "<style scoped>\n",
              "    .dataframe tbody tr th:only-of-type {\n",
              "        vertical-align: middle;\n",
              "    }\n",
              "\n",
              "    .dataframe tbody tr th {\n",
              "        vertical-align: top;\n",
              "    }\n",
              "\n",
              "    .dataframe thead th {\n",
              "        text-align: right;\n",
              "    }\n",
              "</style>\n",
              "<table border=\"1\" class=\"dataframe\">\n",
              "  <thead>\n",
              "    <tr style=\"text-align: right;\">\n",
              "      <th></th>\n",
              "      <th>time_to_eruption</th>\n",
              "      <th>filename</th>\n",
              "    </tr>\n",
              "  </thead>\n",
              "  <tbody>\n",
              "    <tr>\n",
              "      <th>0</th>\n",
              "      <td>12262005</td>\n",
              "      <td>./drive/My Drive/VolcanicData/train/1136037770...</td>\n",
              "    </tr>\n",
              "    <tr>\n",
              "      <th>1</th>\n",
              "      <td>32739612</td>\n",
              "      <td>./drive/My Drive/VolcanicData/train/1969647810...</td>\n",
              "    </tr>\n",
              "    <tr>\n",
              "      <th>2</th>\n",
              "      <td>14965999</td>\n",
              "      <td>./drive/My Drive/VolcanicData/train/1895879680...</td>\n",
              "    </tr>\n",
              "    <tr>\n",
              "      <th>3</th>\n",
              "      <td>26469720</td>\n",
              "      <td>./drive/My Drive/VolcanicData/train/2068207140...</td>\n",
              "    </tr>\n",
              "    <tr>\n",
              "      <th>4</th>\n",
              "      <td>31072429</td>\n",
              "      <td>./drive/My Drive/VolcanicData/train/192955606.csv</td>\n",
              "    </tr>\n",
              "  </tbody>\n",
              "</table>\n",
              "</div>"
            ],
            "text/plain": [
              "   time_to_eruption                                           filename\n",
              "0          12262005  ./drive/My Drive/VolcanicData/train/1136037770...\n",
              "1          32739612  ./drive/My Drive/VolcanicData/train/1969647810...\n",
              "2          14965999  ./drive/My Drive/VolcanicData/train/1895879680...\n",
              "3          26469720  ./drive/My Drive/VolcanicData/train/2068207140...\n",
              "4          31072429  ./drive/My Drive/VolcanicData/train/192955606.csv"
            ]
          },
          "metadata": {
            "tags": []
          },
          "execution_count": 4
        }
      ]
    },
    {
      "cell_type": "code",
      "metadata": {
        "colab": {
          "base_uri": "https://localhost:8080/"
        },
        "id": "s-7xBDTKKuZL",
        "outputId": "6c2f6b6b-7c31-41ee-e0b3-1301059fccd7"
      },
      "source": [
        "x = target_file['filename']\r\n",
        "Tags = np.array(target_file[\"time_to_eruption\"])\r\n",
        "print(Tags)"
      ],
      "execution_count": 5,
      "outputs": [
        {
          "output_type": "stream",
          "text": [
            "[12262005 32739612 14965999 ... 31206935  9598270 20128938]\n"
          ],
          "name": "stdout"
        }
      ]
    },
    {
      "cell_type": "code",
      "metadata": {
        "colab": {
          "base_uri": "https://localhost:8080/"
        },
        "id": "ecELU1w2RpKl",
        "outputId": "5352f743-cb53-4be9-a69c-d2b8f9800e62"
      },
      "source": [
        "Data=np.array(Data)\r\n",
        "print(Data.shape)\r\n",
        "Data = Data.reshape(4431, 10, 25, 202)\r\n",
        "Data=np.transpose(Data,axes=[0,3,2,1])\r\n",
        "print(Data.shape)\r\n",
        "Data = np.concatenate((Data[:,:,:,0], Data[:,:,:,1], Data[:,:,:,2], Data[:,:,:,3], Data[:,:,:,4], Data[:,:,:,5], Data[:,:,:,6], Data[:,:,:,7], Data[:,:,:,8], Data[:,:,:,9]), axis=2 ) \r\n",
        "print(Data.shape)\r\n",
        "Data_max=np.max(Data)\r\n",
        "Data_min=np.min(Data)\r\n",
        "Data = (Data-Data_min) / (Data_max-Data_min)\r\n"
      ],
      "execution_count": 6,
      "outputs": [
        {
          "output_type": "stream",
          "text": [
            "(4431, 10, 25, 202)\n",
            "(4431, 202, 25, 10)\n",
            "(4431, 202, 250)\n"
          ],
          "name": "stdout"
        }
      ]
    },
    {
      "cell_type": "code",
      "metadata": {
        "colab": {
          "base_uri": "https://localhost:8080/"
        },
        "id": "Ge9hqEerKd22",
        "outputId": "c0b7acb2-24a7-495a-bb86-9dac58dc0a70"
      },
      "source": [
        "from sklearn.model_selection import train_test_split\r\n",
        "x_train, x_valid, y_train, y_valid = train_test_split(Data, Tags, test_size=0.25, random_state=8)\r\n",
        "\r\n",
        "x_valid, x_test, y_valid, y_test = train_test_split(x_valid, y_valid, test_size=0.25, random_state=1) \r\n",
        "\r\n",
        "print(x_train.shape)\r\n",
        "print(y_train.shape)\r\n",
        "print(x_valid.shape)\r\n",
        "print(y_valid.shape)\r\n",
        "print(x_test.shape)\r\n",
        "print(y_test.shape)"
      ],
      "execution_count": 7,
      "outputs": [
        {
          "output_type": "stream",
          "text": [
            "(3323, 202, 250)\n",
            "(3323,)\n",
            "(831, 202, 250)\n",
            "(831,)\n",
            "(277, 202, 250)\n",
            "(277,)\n"
          ],
          "name": "stdout"
        }
      ]
    },
    {
      "cell_type": "code",
      "metadata": {
        "id": "KPHDu5ivL0fO"
      },
      "source": [
        "batch_size = 32\r\n",
        "shuffle_buffer_size = 100\r\n",
        "\r\n",
        "def create_dataset(series, batch_size, shuffle_buffer):\r\n",
        "  dataset = tf.data.Dataset.from_tensor_slices(series)\r\n",
        "  dataset = dataset.shuffle(shuffle_buffer)\r\n",
        "  dataset = dataset.batch(batch_size)\r\n",
        "  #dataset = dataset.batch(batch_size).prefetch(1)\r\n",
        "  return dataset"
      ],
      "execution_count": 8,
      "outputs": []
    },
    {
      "cell_type": "code",
      "metadata": {
        "id": "3HMMAWbaL13S"
      },
      "source": [
        "dataset = create_dataset((x_train,y_train), batch_size, shuffle_buffer_size)\r\n",
        "Validation_data = create_dataset((x_valid,y_valid), batch_size, shuffle_buffer_size)\r\n",
        "#print(dataset.shape())"
      ],
      "execution_count": 9,
      "outputs": []
    },
    {
      "cell_type": "code",
      "metadata": {
        "id": "AyPZ-PGIJrzO"
      },
      "source": [
        "tf.random.set_seed(0)\r\n",
        "model = tf.keras.models.Sequential([\r\n",
        "    tf.keras.layers.Dense(256, activation=\"relu\", input_shape=(202,250)), \r\n",
        "    #tf.keras.layers.Dropout(0.2),\r\n",
        "    tf.keras.layers.BatchNormalization(momentum=0.8),\r\n",
        "    tf.keras.layers.Dense(256, activation=\"relu\"), \r\n",
        "    #tf.keras.layers.Dropout(0.2),\r\n",
        "    #tf.keras.layers.MaxPooling1D(pool_size=2),\r\n",
        "    tf.keras.layers.Dense(256, activation=\"relu\"), \r\n",
        "    tf.keras.layers.Dense(256, activation=\"relu\"), \r\n",
        "    \r\n",
        "    #tf.keras.layers.Dropout(0.1),\r\n",
        "    #tf.keras.layers.MaxPooling1D(pool_size=2),\r\n",
        "    tf.keras.layers.Flatten(),\r\n",
        "    tf.keras.layers.Dense(512, activation = 'relu'),\r\n",
        "    tf.keras.layers.Dropout(0.5),\r\n",
        "\r\n",
        "    tf.keras.layers.Dense(1, activation = 'linear'),\r\n",
        "    #tf.keras.layers.Dense(1)\r\n",
        "])\r\n",
        "optimizer = tf.keras.optimizers.Adam(0.1)\r\n",
        "model.compile(loss=\"mae\", optimizer=tf.keras.optimizers.Nadam(learning_rate=0.001))"
      ],
      "execution_count": 10,
      "outputs": []
    },
    {
      "cell_type": "code",
      "metadata": {
        "colab": {
          "base_uri": "https://localhost:8080/"
        },
        "id": "FbhZPJQbKa5B",
        "outputId": "0be2f0ac-c640-4c9c-e663-270726ad0317"
      },
      "source": [
        "#callback = tf.keras.callbacks.EarlyStopping(monitor='val_loss')\r\n",
        "history = model.fit(dataset,\r\n",
        "         epochs=300,\r\n",
        "         validation_data = Validation_data\r\n",
        "                 \r\n",
        "         )\r\n",
        "train_loss = history.history['loss']\r\n",
        "Validation_loss = history.history['val_loss']"
      ],
      "execution_count": 11,
      "outputs": [
        {
          "output_type": "stream",
          "text": [
            "Epoch 1/300\n",
            "104/104 [==============================] - 60s 555ms/step - loss: 18433102.7524 - val_loss: 10273300.0000\n",
            "Epoch 2/300\n",
            "104/104 [==============================] - 59s 561ms/step - loss: 10493461.9905 - val_loss: 9010217.0000\n",
            "Epoch 3/300\n",
            "104/104 [==============================] - 59s 569ms/step - loss: 9224519.0762 - val_loss: 8199714.5000\n",
            "Epoch 4/300\n",
            "104/104 [==============================] - 59s 566ms/step - loss: 8219620.5810 - val_loss: 7688505.5000\n",
            "Epoch 5/300\n",
            "104/104 [==============================] - 59s 568ms/step - loss: 7684042.6095 - val_loss: 7051372.0000\n",
            "Epoch 6/300\n",
            "104/104 [==============================] - 59s 568ms/step - loss: 7356536.4048 - val_loss: 14021715.0000\n",
            "Epoch 7/300\n",
            "104/104 [==============================] - 59s 568ms/step - loss: 7103169.1571 - val_loss: 7386104.5000\n",
            "Epoch 8/300\n",
            "104/104 [==============================] - 60s 579ms/step - loss: 6787787.2238 - val_loss: 6287412.0000\n",
            "Epoch 9/300\n",
            "104/104 [==============================] - 61s 584ms/step - loss: 6814318.0857 - val_loss: 6231982.0000\n",
            "Epoch 10/300\n",
            "104/104 [==============================] - 61s 580ms/step - loss: 6551542.2810 - val_loss: 6224574.5000\n",
            "Epoch 11/300\n",
            "104/104 [==============================] - 60s 578ms/step - loss: 6309478.1571 - val_loss: 6126456.5000\n",
            "Epoch 12/300\n",
            "104/104 [==============================] - 60s 573ms/step - loss: 6387953.5333 - val_loss: 6107211.0000\n",
            "Epoch 13/300\n",
            "104/104 [==============================] - 60s 572ms/step - loss: 6045569.2619 - val_loss: 5817562.5000\n",
            "Epoch 14/300\n",
            "104/104 [==============================] - 60s 576ms/step - loss: 6021332.3810 - val_loss: 6049266.0000\n",
            "Epoch 15/300\n",
            "104/104 [==============================] - 60s 580ms/step - loss: 5955109.1476 - val_loss: 9900945.0000\n",
            "Epoch 16/300\n",
            "104/104 [==============================] - 61s 580ms/step - loss: 5852655.3000 - val_loss: 5369854.0000\n",
            "Epoch 17/300\n",
            "104/104 [==============================] - 60s 577ms/step - loss: 5813844.1238 - val_loss: 5484904.0000\n",
            "Epoch 18/300\n",
            "104/104 [==============================] - 60s 573ms/step - loss: 5608265.0095 - val_loss: 8434773.0000\n",
            "Epoch 19/300\n",
            "104/104 [==============================] - 60s 576ms/step - loss: 5562385.6952 - val_loss: 5574545.5000\n",
            "Epoch 20/300\n",
            "104/104 [==============================] - 60s 577ms/step - loss: 5388881.7095 - val_loss: 10995002.0000\n",
            "Epoch 21/300\n",
            "104/104 [==============================] - 60s 576ms/step - loss: 5465874.7571 - val_loss: 5133625.0000\n",
            "Epoch 22/300\n",
            "104/104 [==============================] - 60s 574ms/step - loss: 5430587.7095 - val_loss: 4898008.5000\n",
            "Epoch 23/300\n",
            "104/104 [==============================] - 60s 575ms/step - loss: 5257224.7667 - val_loss: 7727953.0000\n",
            "Epoch 24/300\n",
            "104/104 [==============================] - 60s 578ms/step - loss: 5201926.2000 - val_loss: 4751389.5000\n",
            "Epoch 25/300\n",
            "104/104 [==============================] - 60s 574ms/step - loss: 5175111.7667 - val_loss: 8891547.0000\n",
            "Epoch 26/300\n",
            "104/104 [==============================] - 60s 575ms/step - loss: 5146395.8000 - val_loss: 4659859.5000\n",
            "Epoch 27/300\n",
            "104/104 [==============================] - 60s 574ms/step - loss: 5011668.6833 - val_loss: 4585879.0000\n",
            "Epoch 28/300\n",
            "104/104 [==============================] - 60s 571ms/step - loss: 4992630.3381 - val_loss: 4751762.0000\n",
            "Epoch 29/300\n",
            "104/104 [==============================] - 60s 571ms/step - loss: 4974374.7048 - val_loss: 4564569.5000\n",
            "Epoch 30/300\n",
            "104/104 [==============================] - 60s 571ms/step - loss: 4710635.8976 - val_loss: 4776754.0000\n",
            "Epoch 31/300\n",
            "104/104 [==============================] - 60s 573ms/step - loss: 4789244.4476 - val_loss: 6030811.5000\n",
            "Epoch 32/300\n",
            "104/104 [==============================] - 60s 577ms/step - loss: 4733667.4476 - val_loss: 4728635.0000\n",
            "Epoch 33/300\n",
            "104/104 [==============================] - 60s 572ms/step - loss: 4657362.4429 - val_loss: 4125137.5000\n",
            "Epoch 34/300\n",
            "104/104 [==============================] - 59s 567ms/step - loss: 4633375.0500 - val_loss: 4596789.0000\n",
            "Epoch 35/300\n",
            "104/104 [==============================] - 59s 568ms/step - loss: 4650961.8571 - val_loss: 4319528.5000\n",
            "Epoch 36/300\n",
            "104/104 [==============================] - 59s 568ms/step - loss: 4566768.6524 - val_loss: 4147347.0000\n",
            "Epoch 37/300\n",
            "104/104 [==============================] - 59s 570ms/step - loss: 4426420.5048 - val_loss: 5354205.0000\n",
            "Epoch 38/300\n",
            "104/104 [==============================] - 59s 567ms/step - loss: 4467929.4524 - val_loss: 8613011.0000\n",
            "Epoch 39/300\n",
            "104/104 [==============================] - 59s 563ms/step - loss: 4514565.9190 - val_loss: 4379155.5000\n",
            "Epoch 40/300\n",
            "104/104 [==============================] - 59s 564ms/step - loss: 4291363.1714 - val_loss: 3981479.2500\n",
            "Epoch 41/300\n",
            "104/104 [==============================] - 59s 562ms/step - loss: 4444157.7429 - val_loss: 4075257.7500\n",
            "Epoch 42/300\n",
            "104/104 [==============================] - 59s 562ms/step - loss: 4220138.0262 - val_loss: 4108961.5000\n",
            "Epoch 43/300\n",
            "104/104 [==============================] - 59s 569ms/step - loss: 4317868.5762 - val_loss: 7847138.0000\n",
            "Epoch 44/300\n",
            "104/104 [==============================] - 59s 564ms/step - loss: 4272375.0429 - val_loss: 4517399.0000\n",
            "Epoch 45/300\n",
            "104/104 [==============================] - 59s 567ms/step - loss: 4141164.7214 - val_loss: 4342727.5000\n",
            "Epoch 46/300\n",
            "104/104 [==============================] - 58s 555ms/step - loss: 4266505.0952 - val_loss: 5276013.5000\n",
            "Epoch 47/300\n",
            "104/104 [==============================] - 58s 559ms/step - loss: 4131556.0571 - val_loss: 4466175.5000\n",
            "Epoch 48/300\n",
            "104/104 [==============================] - 59s 564ms/step - loss: 4137548.8214 - val_loss: 5294281.0000\n",
            "Epoch 49/300\n",
            "104/104 [==============================] - 58s 557ms/step - loss: 4057130.5262 - val_loss: 6564848.0000\n",
            "Epoch 50/300\n",
            "104/104 [==============================] - 58s 559ms/step - loss: 4194839.8262 - val_loss: 4053762.2500\n",
            "Epoch 51/300\n",
            "104/104 [==============================] - 59s 563ms/step - loss: 4066288.4976 - val_loss: 4670256.5000\n",
            "Epoch 52/300\n",
            "104/104 [==============================] - 58s 560ms/step - loss: 3991506.0762 - val_loss: 3819528.2500\n",
            "Epoch 53/300\n",
            "104/104 [==============================] - 59s 561ms/step - loss: 4036740.5286 - val_loss: 3869190.5000\n",
            "Epoch 54/300\n",
            "104/104 [==============================] - 59s 564ms/step - loss: 3859646.0000 - val_loss: 3763712.2500\n",
            "Epoch 55/300\n",
            "104/104 [==============================] - 59s 562ms/step - loss: 4108933.2905 - val_loss: 4497596.0000\n",
            "Epoch 56/300\n",
            "104/104 [==============================] - 59s 563ms/step - loss: 4001698.9738 - val_loss: 3646413.5000\n",
            "Epoch 57/300\n",
            "104/104 [==============================] - 60s 571ms/step - loss: 3833592.4429 - val_loss: 4922739.0000\n",
            "Epoch 58/300\n",
            "104/104 [==============================] - 59s 570ms/step - loss: 4145268.1357 - val_loss: 3517187.5000\n",
            "Epoch 59/300\n",
            "104/104 [==============================] - 59s 569ms/step - loss: 3899520.4905 - val_loss: 6708797.0000\n",
            "Epoch 60/300\n",
            "104/104 [==============================] - 60s 572ms/step - loss: 3972761.4810 - val_loss: 3538587.5000\n",
            "Epoch 61/300\n",
            "104/104 [==============================] - 59s 567ms/step - loss: 3829258.8214 - val_loss: 3777698.7500\n",
            "Epoch 62/300\n",
            "104/104 [==============================] - 60s 575ms/step - loss: 3869708.7952 - val_loss: 5026238.0000\n",
            "Epoch 63/300\n",
            "104/104 [==============================] - 60s 576ms/step - loss: 3993023.6381 - val_loss: 3785020.7500\n",
            "Epoch 64/300\n",
            "104/104 [==============================] - 60s 572ms/step - loss: 3795325.1905 - val_loss: 3732632.7500\n",
            "Epoch 65/300\n",
            "104/104 [==============================] - 60s 579ms/step - loss: 3683587.6500 - val_loss: 3452025.5000\n",
            "Epoch 66/300\n",
            "104/104 [==============================] - 61s 581ms/step - loss: 3721808.2905 - val_loss: 3621063.5000\n",
            "Epoch 67/300\n",
            "104/104 [==============================] - 60s 574ms/step - loss: 3719196.1476 - val_loss: 3846921.0000\n",
            "Epoch 68/300\n",
            "104/104 [==============================] - 60s 570ms/step - loss: 3640302.8262 - val_loss: 5278648.0000\n",
            "Epoch 69/300\n",
            "104/104 [==============================] - 60s 575ms/step - loss: 3756898.7952 - val_loss: 5717668.5000\n",
            "Epoch 70/300\n",
            "104/104 [==============================] - 60s 579ms/step - loss: 3705089.0619 - val_loss: 5177588.5000\n",
            "Epoch 71/300\n",
            "104/104 [==============================] - 60s 573ms/step - loss: 3647080.7500 - val_loss: 3425887.0000\n",
            "Epoch 72/300\n",
            "104/104 [==============================] - 60s 575ms/step - loss: 3804800.1976 - val_loss: 3297066.2500\n",
            "Epoch 73/300\n",
            "104/104 [==============================] - 60s 578ms/step - loss: 3781099.1452 - val_loss: 6170624.0000\n",
            "Epoch 74/300\n",
            "104/104 [==============================] - 60s 578ms/step - loss: 3707696.6929 - val_loss: 5145119.0000\n",
            "Epoch 75/300\n",
            "104/104 [==============================] - 60s 579ms/step - loss: 3735507.6548 - val_loss: 3907089.5000\n",
            "Epoch 76/300\n",
            "104/104 [==============================] - 61s 580ms/step - loss: 3611279.2548 - val_loss: 5774348.5000\n",
            "Epoch 77/300\n",
            "104/104 [==============================] - 61s 581ms/step - loss: 3549418.5810 - val_loss: 3758204.2500\n",
            "Epoch 78/300\n",
            "104/104 [==============================] - 60s 580ms/step - loss: 3615533.4214 - val_loss: 3358112.7500\n",
            "Epoch 79/300\n",
            "104/104 [==============================] - 60s 577ms/step - loss: 3658388.7167 - val_loss: 3246404.0000\n",
            "Epoch 80/300\n",
            "104/104 [==============================] - 60s 580ms/step - loss: 3542145.1000 - val_loss: 3465039.5000\n",
            "Epoch 81/300\n",
            "104/104 [==============================] - 61s 584ms/step - loss: 3577882.1619 - val_loss: 3360402.0000\n",
            "Epoch 82/300\n",
            "104/104 [==============================] - 60s 575ms/step - loss: 3512003.8952 - val_loss: 3718051.0000\n",
            "Epoch 83/300\n",
            "104/104 [==============================] - 60s 576ms/step - loss: 3551623.6048 - val_loss: 3337428.5000\n",
            "Epoch 84/300\n",
            "104/104 [==============================] - 61s 581ms/step - loss: 3608518.5643 - val_loss: 3500659.7500\n",
            "Epoch 85/300\n",
            "104/104 [==============================] - 61s 581ms/step - loss: 3583523.3357 - val_loss: 5122925.5000\n",
            "Epoch 86/300\n",
            "104/104 [==============================] - 61s 581ms/step - loss: 3619213.4476 - val_loss: 3473793.5000\n",
            "Epoch 87/300\n",
            "104/104 [==============================] - 61s 582ms/step - loss: 3557461.8429 - val_loss: 3529416.7500\n",
            "Epoch 88/300\n",
            "104/104 [==============================] - 60s 578ms/step - loss: 3544591.5762 - val_loss: 3657975.0000\n",
            "Epoch 89/300\n",
            "104/104 [==============================] - 60s 579ms/step - loss: 3271806.8929 - val_loss: 3301184.5000\n",
            "Epoch 90/300\n",
            "104/104 [==============================] - 60s 577ms/step - loss: 3569431.2167 - val_loss: 3433530.7500\n",
            "Epoch 91/300\n",
            "104/104 [==============================] - 60s 579ms/step - loss: 3507337.1643 - val_loss: 3727999.7500\n",
            "Epoch 92/300\n",
            "104/104 [==============================] - 60s 575ms/step - loss: 3425878.2238 - val_loss: 3365259.5000\n",
            "Epoch 93/300\n",
            "104/104 [==============================] - 60s 579ms/step - loss: 3543231.5405 - val_loss: 3507656.2500\n",
            "Epoch 94/300\n",
            "104/104 [==============================] - 60s 578ms/step - loss: 3364241.0095 - val_loss: 3469784.2500\n",
            "Epoch 95/300\n",
            "104/104 [==============================] - 61s 580ms/step - loss: 3414504.1810 - val_loss: 3288458.7500\n",
            "Epoch 96/300\n",
            "104/104 [==============================] - 60s 577ms/step - loss: 3489175.8571 - val_loss: 4741062.5000\n",
            "Epoch 97/300\n",
            "104/104 [==============================] - 60s 574ms/step - loss: 3381708.4238 - val_loss: 3561448.0000\n",
            "Epoch 98/300\n",
            "104/104 [==============================] - 60s 578ms/step - loss: 3431452.9738 - val_loss: 4657442.0000\n",
            "Epoch 99/300\n",
            "104/104 [==============================] - 60s 572ms/step - loss: 3641462.8405 - val_loss: 3191051.7500\n",
            "Epoch 100/300\n",
            "104/104 [==============================] - 60s 574ms/step - loss: 3431698.5905 - val_loss: 3802801.5000\n",
            "Epoch 101/300\n",
            "104/104 [==============================] - 61s 583ms/step - loss: 3439449.3333 - val_loss: 3847993.5000\n",
            "Epoch 102/300\n",
            "104/104 [==============================] - 60s 580ms/step - loss: 3304712.5310 - val_loss: 3124073.7500\n",
            "Epoch 103/300\n",
            "104/104 [==============================] - 60s 573ms/step - loss: 3603088.0548 - val_loss: 5028070.0000\n",
            "Epoch 104/300\n",
            "104/104 [==============================] - 60s 576ms/step - loss: 3397293.2976 - val_loss: 4266564.5000\n",
            "Epoch 105/300\n",
            "104/104 [==============================] - 60s 576ms/step - loss: 3399902.9048 - val_loss: 3215749.7500\n",
            "Epoch 106/300\n",
            "104/104 [==============================] - 60s 580ms/step - loss: 3375255.4952 - val_loss: 4486793.0000\n",
            "Epoch 107/300\n",
            "104/104 [==============================] - 61s 580ms/step - loss: 3345553.2048 - val_loss: 3678849.5000\n",
            "Epoch 108/300\n",
            "104/104 [==============================] - 61s 583ms/step - loss: 3251259.5381 - val_loss: 4166632.2500\n",
            "Epoch 109/300\n",
            "104/104 [==============================] - 60s 580ms/step - loss: 3311629.9905 - val_loss: 3590470.7500\n",
            "Epoch 110/300\n",
            "104/104 [==============================] - 61s 583ms/step - loss: 3414821.0405 - val_loss: 3553399.0000\n",
            "Epoch 111/300\n",
            "104/104 [==============================] - 60s 578ms/step - loss: 3321120.5905 - val_loss: 3282686.5000\n",
            "Epoch 112/300\n",
            "104/104 [==============================] - 60s 577ms/step - loss: 3304309.4690 - val_loss: 3276712.0000\n",
            "Epoch 113/300\n",
            "104/104 [==============================] - 60s 579ms/step - loss: 3315086.0714 - val_loss: 3317114.5000\n",
            "Epoch 114/300\n",
            "104/104 [==============================] - 60s 579ms/step - loss: 3187901.3119 - val_loss: 3683272.2500\n",
            "Epoch 115/300\n",
            "104/104 [==============================] - 60s 574ms/step - loss: 3396428.6357 - val_loss: 3125279.5000\n",
            "Epoch 116/300\n",
            "104/104 [==============================] - 60s 578ms/step - loss: 3196831.4595 - val_loss: 3051633.7500\n",
            "Epoch 117/300\n",
            "104/104 [==============================] - 60s 578ms/step - loss: 3289572.4881 - val_loss: 3500948.2500\n",
            "Epoch 118/300\n",
            "104/104 [==============================] - 60s 579ms/step - loss: 3298660.5857 - val_loss: 3615826.7500\n",
            "Epoch 119/300\n",
            "104/104 [==============================] - 60s 577ms/step - loss: 3332769.2952 - val_loss: 3366615.7500\n",
            "Epoch 120/300\n",
            "104/104 [==============================] - 60s 579ms/step - loss: 3400562.3929 - val_loss: 3380925.2500\n",
            "Epoch 121/300\n",
            "104/104 [==============================] - 61s 581ms/step - loss: 3187722.9286 - val_loss: 4333002.0000\n",
            "Epoch 122/300\n",
            "104/104 [==============================] - 60s 577ms/step - loss: 3230003.5000 - val_loss: 3566053.7500\n",
            "Epoch 123/300\n",
            "104/104 [==============================] - 60s 579ms/step - loss: 3205490.6500 - val_loss: 4045495.0000\n",
            "Epoch 124/300\n",
            "104/104 [==============================] - 60s 577ms/step - loss: 3224530.1905 - val_loss: 3430544.5000\n",
            "Epoch 125/300\n",
            "104/104 [==============================] - 61s 581ms/step - loss: 3134325.4833 - val_loss: 3011745.5000\n",
            "Epoch 126/300\n",
            "104/104 [==============================] - 60s 579ms/step - loss: 3267848.1905 - val_loss: 3208025.2500\n",
            "Epoch 127/300\n",
            "104/104 [==============================] - 60s 578ms/step - loss: 3292205.5381 - val_loss: 3793524.5000\n",
            "Epoch 128/300\n",
            "104/104 [==============================] - 60s 580ms/step - loss: 3193258.4833 - val_loss: 3229693.7500\n",
            "Epoch 129/300\n",
            "104/104 [==============================] - 60s 579ms/step - loss: 3180311.0167 - val_loss: 3361006.5000\n",
            "Epoch 130/300\n",
            "104/104 [==============================] - 61s 582ms/step - loss: 3116984.2714 - val_loss: 3827135.5000\n",
            "Epoch 131/300\n",
            "104/104 [==============================] - 60s 576ms/step - loss: 2993435.0286 - val_loss: 3315293.0000\n",
            "Epoch 132/300\n",
            "104/104 [==============================] - 60s 577ms/step - loss: 3097682.8143 - val_loss: 3194865.7500\n",
            "Epoch 133/300\n",
            "104/104 [==============================] - 60s 579ms/step - loss: 3115733.8881 - val_loss: 3115956.7500\n",
            "Epoch 134/300\n",
            "104/104 [==============================] - 61s 581ms/step - loss: 3228411.4571 - val_loss: 3152690.7500\n",
            "Epoch 135/300\n",
            "104/104 [==============================] - 61s 583ms/step - loss: 3135717.7667 - val_loss: 3524243.0000\n",
            "Epoch 136/300\n",
            "104/104 [==============================] - 61s 581ms/step - loss: 3169538.5357 - val_loss: 2912635.0000\n",
            "Epoch 137/300\n",
            "104/104 [==============================] - 60s 577ms/step - loss: 3142706.5500 - val_loss: 3205647.5000\n",
            "Epoch 138/300\n",
            "104/104 [==============================] - 61s 581ms/step - loss: 3130862.5143 - val_loss: 3124143.5000\n",
            "Epoch 139/300\n",
            "104/104 [==============================] - 60s 580ms/step - loss: 3109124.0905 - val_loss: 4346224.5000\n",
            "Epoch 140/300\n",
            "104/104 [==============================] - 60s 578ms/step - loss: 3033668.3167 - val_loss: 3200765.7500\n",
            "Epoch 141/300\n",
            "104/104 [==============================] - 60s 578ms/step - loss: 3272257.0524 - val_loss: 3245858.0000\n",
            "Epoch 142/300\n",
            "104/104 [==============================] - 61s 584ms/step - loss: 3196212.9333 - val_loss: 2997047.7500\n",
            "Epoch 143/300\n",
            "104/104 [==============================] - 61s 580ms/step - loss: 3207355.9238 - val_loss: 3087784.2500\n",
            "Epoch 144/300\n",
            "104/104 [==============================] - 60s 579ms/step - loss: 3070380.7310 - val_loss: 3131989.0000\n",
            "Epoch 145/300\n",
            "104/104 [==============================] - 61s 581ms/step - loss: 3070330.3643 - val_loss: 3688724.0000\n",
            "Epoch 146/300\n",
            "104/104 [==============================] - 61s 581ms/step - loss: 2987899.0810 - val_loss: 4425632.5000\n",
            "Epoch 147/300\n",
            "104/104 [==============================] - 61s 583ms/step - loss: 3033956.7810 - val_loss: 3314527.0000\n",
            "Epoch 148/300\n",
            "104/104 [==============================] - 60s 577ms/step - loss: 3026093.2738 - val_loss: 3080462.7500\n",
            "Epoch 149/300\n",
            "104/104 [==============================] - 60s 578ms/step - loss: 3079334.7833 - val_loss: 4802059.5000\n",
            "Epoch 150/300\n",
            "104/104 [==============================] - 60s 578ms/step - loss: 3274405.1024 - val_loss: 2959571.2500\n",
            "Epoch 151/300\n",
            "104/104 [==============================] - 61s 581ms/step - loss: 2939890.0619 - val_loss: 3050415.0000\n",
            "Epoch 152/300\n",
            "104/104 [==============================] - 61s 582ms/step - loss: 3025232.4929 - val_loss: 2961844.0000\n",
            "Epoch 153/300\n",
            "104/104 [==============================] - 61s 583ms/step - loss: 3100000.2095 - val_loss: 3143215.2500\n",
            "Epoch 154/300\n",
            "104/104 [==============================] - 61s 582ms/step - loss: 3033456.8190 - val_loss: 3240391.0000\n",
            "Epoch 155/300\n",
            "104/104 [==============================] - 60s 579ms/step - loss: 2881135.2762 - val_loss: 3072238.5000\n",
            "Epoch 156/300\n",
            "104/104 [==============================] - 61s 582ms/step - loss: 3065828.3095 - val_loss: 2990266.7500\n",
            "Epoch 157/300\n",
            "104/104 [==============================] - 61s 580ms/step - loss: 2872708.7429 - val_loss: 4089265.2500\n",
            "Epoch 158/300\n",
            "104/104 [==============================] - 61s 580ms/step - loss: 3101028.7619 - val_loss: 3884052.0000\n",
            "Epoch 159/300\n",
            "104/104 [==============================] - 60s 578ms/step - loss: 2985859.6500 - val_loss: 3375575.0000\n",
            "Epoch 160/300\n",
            "104/104 [==============================] - 60s 578ms/step - loss: 2999710.8405 - val_loss: 2974578.0000\n",
            "Epoch 161/300\n",
            "104/104 [==============================] - 61s 581ms/step - loss: 2978711.3976 - val_loss: 3491691.7500\n",
            "Epoch 162/300\n",
            "104/104 [==============================] - 61s 582ms/step - loss: 2950031.2667 - val_loss: 4073830.5000\n",
            "Epoch 163/300\n",
            "104/104 [==============================] - 60s 578ms/step - loss: 2913530.7119 - val_loss: 2963640.2500\n",
            "Epoch 164/300\n",
            "104/104 [==============================] - 60s 579ms/step - loss: 2936948.8357 - val_loss: 3559023.5000\n",
            "Epoch 165/300\n",
            "104/104 [==============================] - 60s 580ms/step - loss: 2893526.7476 - val_loss: 3259521.5000\n",
            "Epoch 166/300\n",
            "104/104 [==============================] - 60s 575ms/step - loss: 2897070.1524 - val_loss: 2964115.5000\n",
            "Epoch 167/300\n",
            "104/104 [==============================] - 60s 575ms/step - loss: 2877027.1310 - val_loss: 3192330.2500\n",
            "Epoch 168/300\n",
            "104/104 [==============================] - 60s 577ms/step - loss: 2988201.1310 - val_loss: 3996148.2500\n",
            "Epoch 169/300\n",
            "104/104 [==============================] - 60s 576ms/step - loss: 2973061.8024 - val_loss: 3194695.7500\n",
            "Epoch 170/300\n",
            "104/104 [==============================] - 61s 584ms/step - loss: 2950590.8405 - val_loss: 5068449.5000\n",
            "Epoch 171/300\n",
            "104/104 [==============================] - 60s 578ms/step - loss: 2949962.1714 - val_loss: 3392054.7500\n",
            "Epoch 172/300\n",
            "104/104 [==============================] - 60s 577ms/step - loss: 2911580.9286 - val_loss: 2985650.7500\n",
            "Epoch 173/300\n",
            "104/104 [==============================] - 61s 581ms/step - loss: 2912433.5905 - val_loss: 2869167.5000\n",
            "Epoch 174/300\n",
            "104/104 [==============================] - 61s 583ms/step - loss: 2882621.8762 - val_loss: 4315971.0000\n",
            "Epoch 175/300\n",
            "104/104 [==============================] - 61s 583ms/step - loss: 2968686.1833 - val_loss: 2994209.2500\n",
            "Epoch 176/300\n",
            "104/104 [==============================] - 61s 586ms/step - loss: 2867861.0143 - val_loss: 3130710.2500\n",
            "Epoch 177/300\n",
            "104/104 [==============================] - 62s 589ms/step - loss: 2897315.2214 - val_loss: 3480639.2500\n",
            "Epoch 178/300\n",
            "104/104 [==============================] - 61s 587ms/step - loss: 2849136.2452 - val_loss: 2998365.0000\n",
            "Epoch 179/300\n",
            "104/104 [==============================] - 61s 583ms/step - loss: 2897471.1500 - val_loss: 2944271.7500\n",
            "Epoch 180/300\n",
            "104/104 [==============================] - 61s 585ms/step - loss: 2841280.4905 - val_loss: 3656643.2500\n",
            "Epoch 181/300\n",
            "104/104 [==============================] - 61s 589ms/step - loss: 2908954.9833 - val_loss: 3100549.5000\n",
            "Epoch 182/300\n",
            "104/104 [==============================] - 61s 588ms/step - loss: 2867745.2452 - val_loss: 4062379.0000\n",
            "Epoch 183/300\n",
            "104/104 [==============================] - 61s 584ms/step - loss: 2844906.7190 - val_loss: 3360566.2500\n",
            "Epoch 184/300\n",
            "104/104 [==============================] - 61s 583ms/step - loss: 2824117.9238 - val_loss: 2750189.0000\n",
            "Epoch 185/300\n",
            "104/104 [==============================] - 61s 589ms/step - loss: 2965183.8857 - val_loss: 3121526.0000\n",
            "Epoch 186/300\n",
            "104/104 [==============================] - 61s 585ms/step - loss: 2987146.6905 - val_loss: 3093191.0000\n",
            "Epoch 187/300\n",
            "104/104 [==============================] - 61s 584ms/step - loss: 2893949.9905 - val_loss: 3237981.7500\n",
            "Epoch 188/300\n",
            "104/104 [==============================] - 61s 586ms/step - loss: 2818004.1452 - val_loss: 2855035.2500\n",
            "Epoch 189/300\n",
            "104/104 [==============================] - 61s 582ms/step - loss: 2783326.3119 - val_loss: 3338258.2500\n",
            "Epoch 190/300\n",
            "104/104 [==============================] - 61s 586ms/step - loss: 2823047.1048 - val_loss: 3111687.0000\n",
            "Epoch 191/300\n",
            "104/104 [==============================] - 61s 585ms/step - loss: 2817664.0167 - val_loss: 2898779.0000\n",
            "Epoch 192/300\n",
            "104/104 [==============================] - 61s 588ms/step - loss: 2790035.8071 - val_loss: 3215499.7500\n",
            "Epoch 193/300\n",
            "104/104 [==============================] - 61s 587ms/step - loss: 2785283.7738 - val_loss: 3612147.2500\n",
            "Epoch 194/300\n",
            "104/104 [==============================] - 61s 583ms/step - loss: 2749174.1690 - val_loss: 3568223.0000\n",
            "Epoch 195/300\n",
            "104/104 [==============================] - 61s 587ms/step - loss: 2745793.1762 - val_loss: 2914419.0000\n",
            "Epoch 196/300\n",
            "104/104 [==============================] - 61s 587ms/step - loss: 2966367.6119 - val_loss: 3130449.2500\n",
            "Epoch 197/300\n",
            "104/104 [==============================] - 61s 587ms/step - loss: 2839476.3119 - val_loss: 2850714.2500\n",
            "Epoch 198/300\n",
            "104/104 [==============================] - 61s 583ms/step - loss: 2700368.1333 - val_loss: 2837967.0000\n",
            "Epoch 199/300\n",
            "104/104 [==============================] - 61s 588ms/step - loss: 2786936.2095 - val_loss: 3114121.7500\n",
            "Epoch 200/300\n",
            "104/104 [==============================] - 61s 583ms/step - loss: 2654351.6595 - val_loss: 3022459.7500\n",
            "Epoch 201/300\n",
            "104/104 [==============================] - 62s 590ms/step - loss: 2864249.2714 - val_loss: 3142367.7500\n",
            "Epoch 202/300\n",
            "104/104 [==============================] - 61s 585ms/step - loss: 2726448.0393 - val_loss: 3205452.5000\n",
            "Epoch 203/300\n",
            "104/104 [==============================] - 61s 586ms/step - loss: 2695405.7310 - val_loss: 3354553.2500\n",
            "Epoch 204/300\n",
            "104/104 [==============================] - 61s 586ms/step - loss: 2860345.5714 - val_loss: 2809466.0000\n",
            "Epoch 205/300\n",
            "104/104 [==============================] - 61s 587ms/step - loss: 2805224.2548 - val_loss: 3035760.7500\n",
            "Epoch 206/300\n",
            "104/104 [==============================] - 61s 583ms/step - loss: 2738814.3595 - val_loss: 2821161.0000\n",
            "Epoch 207/300\n",
            "104/104 [==============================] - 61s 584ms/step - loss: 2864325.4714 - val_loss: 2919618.5000\n",
            "Epoch 208/300\n",
            "104/104 [==============================] - 61s 583ms/step - loss: 2759023.4786 - val_loss: 4107333.2500\n",
            "Epoch 209/300\n",
            "104/104 [==============================] - 61s 588ms/step - loss: 2753151.2500 - val_loss: 3037219.5000\n",
            "Epoch 210/300\n",
            "104/104 [==============================] - 61s 582ms/step - loss: 2781935.6548 - val_loss: 3170026.7500\n",
            "Epoch 211/300\n",
            "104/104 [==============================] - 61s 583ms/step - loss: 2685720.4381 - val_loss: 2925630.5000\n",
            "Epoch 212/300\n",
            "104/104 [==============================] - 61s 586ms/step - loss: 2645368.8119 - val_loss: 3321809.2500\n",
            "Epoch 213/300\n",
            "104/104 [==============================] - 61s 589ms/step - loss: 2720376.6071 - val_loss: 3577917.5000\n",
            "Epoch 214/300\n",
            "104/104 [==============================] - 61s 584ms/step - loss: 2669293.0929 - val_loss: 2743851.7500\n",
            "Epoch 215/300\n",
            "104/104 [==============================] - 61s 584ms/step - loss: 2705227.8881 - val_loss: 2995747.5000\n",
            "Epoch 216/300\n",
            "104/104 [==============================] - 61s 583ms/step - loss: 2695823.7500 - val_loss: 3388789.2500\n",
            "Epoch 217/300\n",
            "104/104 [==============================] - 61s 590ms/step - loss: 2717180.4548 - val_loss: 2839720.7500\n",
            "Epoch 218/300\n",
            "104/104 [==============================] - 61s 585ms/step - loss: 2667510.4905 - val_loss: 2989663.5000\n",
            "Epoch 219/300\n",
            "104/104 [==============================] - 61s 584ms/step - loss: 2740562.5071 - val_loss: 2941097.7500\n",
            "Epoch 220/300\n",
            "104/104 [==============================] - 61s 585ms/step - loss: 2722098.2810 - val_loss: 4080602.7500\n",
            "Epoch 221/300\n",
            "104/104 [==============================] - 61s 585ms/step - loss: 2604507.0786 - val_loss: 2943636.5000\n",
            "Epoch 222/300\n",
            "104/104 [==============================] - 61s 583ms/step - loss: 2620498.1119 - val_loss: 4764893.0000\n",
            "Epoch 223/300\n",
            "104/104 [==============================] - 61s 583ms/step - loss: 2729506.7929 - val_loss: 3097574.0000\n",
            "Epoch 224/300\n",
            "104/104 [==============================] - 61s 586ms/step - loss: 2558555.7881 - val_loss: 2706299.2500\n",
            "Epoch 225/300\n",
            "104/104 [==============================] - 61s 589ms/step - loss: 2695757.9738 - val_loss: 3310581.7500\n",
            "Epoch 226/300\n",
            "104/104 [==============================] - 61s 582ms/step - loss: 2599727.3429 - val_loss: 3042318.5000\n",
            "Epoch 227/300\n",
            "104/104 [==============================] - 61s 586ms/step - loss: 2654126.7476 - val_loss: 2952322.2500\n",
            "Epoch 228/300\n",
            "104/104 [==============================] - 61s 584ms/step - loss: 2613609.7452 - val_loss: 2952624.5000\n",
            "Epoch 229/300\n",
            "104/104 [==============================] - 61s 587ms/step - loss: 2561140.6595 - val_loss: 2937081.7500\n",
            "Epoch 230/300\n",
            "104/104 [==============================] - 61s 584ms/step - loss: 2701405.1738 - val_loss: 2753767.0000\n",
            "Epoch 231/300\n",
            "104/104 [==============================] - 61s 585ms/step - loss: 2641723.1464 - val_loss: 2878235.7500\n",
            "Epoch 232/300\n",
            "104/104 [==============================] - 62s 591ms/step - loss: 2614210.5071 - val_loss: 2801896.2500\n",
            "Epoch 233/300\n",
            "104/104 [==============================] - 61s 587ms/step - loss: 2610736.0571 - val_loss: 4182011.7500\n",
            "Epoch 234/300\n",
            "104/104 [==============================] - 61s 589ms/step - loss: 2675158.7119 - val_loss: 3081294.7500\n",
            "Epoch 235/300\n",
            "104/104 [==============================] - 61s 583ms/step - loss: 2594156.2786 - val_loss: 2828624.0000\n",
            "Epoch 236/300\n",
            "104/104 [==============================] - 61s 581ms/step - loss: 2587822.3595 - val_loss: 2692402.7500\n",
            "Epoch 237/300\n",
            "104/104 [==============================] - 60s 578ms/step - loss: 2583432.8357 - val_loss: 2714672.2500\n",
            "Epoch 238/300\n",
            "104/104 [==============================] - 60s 576ms/step - loss: 2447626.9262 - val_loss: 3016752.7500\n",
            "Epoch 239/300\n",
            "104/104 [==============================] - 60s 577ms/step - loss: 2563293.0357 - val_loss: 3591816.5000\n",
            "Epoch 240/300\n",
            "104/104 [==============================] - 60s 579ms/step - loss: 2724784.9452 - val_loss: 2686946.7500\n",
            "Epoch 241/300\n",
            "104/104 [==============================] - 60s 575ms/step - loss: 2444791.3857 - val_loss: 2699919.2500\n",
            "Epoch 242/300\n",
            "104/104 [==============================] - 60s 577ms/step - loss: 2505497.7214 - val_loss: 2660685.0000\n",
            "Epoch 243/300\n",
            "104/104 [==============================] - 60s 574ms/step - loss: 2594873.6929 - val_loss: 2803350.7500\n",
            "Epoch 244/300\n",
            "104/104 [==============================] - 61s 581ms/step - loss: 2540674.4524 - val_loss: 2892331.7500\n",
            "Epoch 245/300\n",
            "104/104 [==============================] - 60s 576ms/step - loss: 2615667.7560 - val_loss: 3012451.5000\n",
            "Epoch 246/300\n",
            "104/104 [==============================] - 60s 576ms/step - loss: 2414285.7310 - val_loss: 3353823.2500\n",
            "Epoch 247/300\n",
            "104/104 [==============================] - 60s 577ms/step - loss: 2575022.1167 - val_loss: 2678808.0000\n",
            "Epoch 248/300\n",
            "104/104 [==============================] - 60s 580ms/step - loss: 2498750.1048 - val_loss: 2743432.7500\n",
            "Epoch 249/300\n",
            "104/104 [==============================] - 60s 575ms/step - loss: 2593191.9333 - val_loss: 2799120.7500\n",
            "Epoch 250/300\n",
            "104/104 [==============================] - 60s 576ms/step - loss: 2511486.8810 - val_loss: 3051175.2500\n",
            "Epoch 251/300\n",
            "104/104 [==============================] - 60s 577ms/step - loss: 2672768.0310 - val_loss: 2673613.7500\n",
            "Epoch 252/300\n",
            "104/104 [==============================] - 60s 579ms/step - loss: 2554512.3214 - val_loss: 2900491.5000\n",
            "Epoch 253/300\n",
            "104/104 [==============================] - 60s 577ms/step - loss: 2488742.1262 - val_loss: 3402645.5000\n",
            "Epoch 254/300\n",
            "104/104 [==============================] - 60s 577ms/step - loss: 2577804.3095 - val_loss: 2919715.0000\n",
            "Epoch 255/300\n",
            "104/104 [==============================] - 60s 576ms/step - loss: 2568540.0667 - val_loss: 4371476.5000\n",
            "Epoch 256/300\n",
            "104/104 [==============================] - 60s 576ms/step - loss: 2431200.5833 - val_loss: 2822998.0000\n",
            "Epoch 257/300\n",
            "104/104 [==============================] - 60s 575ms/step - loss: 2404719.0071 - val_loss: 2746892.2500\n",
            "Epoch 258/300\n",
            "104/104 [==============================] - 60s 575ms/step - loss: 2433360.9762 - val_loss: 3298922.0000\n",
            "Epoch 259/300\n",
            "104/104 [==============================] - 60s 573ms/step - loss: 2486426.5786 - val_loss: 3062997.7500\n",
            "Epoch 260/300\n",
            "104/104 [==============================] - 61s 585ms/step - loss: 2442527.9238 - val_loss: 2876749.0000\n",
            "Epoch 261/300\n",
            "104/104 [==============================] - 61s 582ms/step - loss: 2560117.5833 - val_loss: 3103352.7500\n",
            "Epoch 262/300\n",
            "104/104 [==============================] - 61s 583ms/step - loss: 2493022.5976 - val_loss: 3298571.5000\n",
            "Epoch 263/300\n",
            "104/104 [==============================] - 60s 578ms/step - loss: 2462553.6190 - val_loss: 3026752.7500\n",
            "Epoch 264/300\n",
            "104/104 [==============================] - 61s 590ms/step - loss: 2403874.9381 - val_loss: 2752945.7500\n",
            "Epoch 265/300\n",
            "104/104 [==============================] - 61s 580ms/step - loss: 2605401.1524 - val_loss: 3224506.0000\n",
            "Epoch 266/300\n",
            "104/104 [==============================] - 60s 578ms/step - loss: 2435017.2857 - val_loss: 2871972.7500\n",
            "Epoch 267/300\n",
            "104/104 [==============================] - 60s 578ms/step - loss: 2496825.1643 - val_loss: 2765126.7500\n",
            "Epoch 268/300\n",
            "104/104 [==============================] - 60s 579ms/step - loss: 2367719.1929 - val_loss: 3394018.0000\n",
            "Epoch 269/300\n",
            "104/104 [==============================] - 60s 579ms/step - loss: 2471702.5345 - val_loss: 2797660.5000\n",
            "Epoch 270/300\n",
            "104/104 [==============================] - 60s 580ms/step - loss: 2399640.0988 - val_loss: 2724508.0000\n",
            "Epoch 271/300\n",
            "104/104 [==============================] - 61s 582ms/step - loss: 2515306.2905 - val_loss: 2729792.5000\n",
            "Epoch 272/300\n",
            "104/104 [==============================] - 61s 584ms/step - loss: 2376283.7905 - val_loss: 3025483.7500\n",
            "Epoch 273/300\n",
            "104/104 [==============================] - 60s 577ms/step - loss: 2474801.4238 - val_loss: 3037657.7500\n",
            "Epoch 274/300\n",
            "104/104 [==============================] - 60s 576ms/step - loss: 2418857.0119 - val_loss: 2609699.0000\n",
            "Epoch 275/300\n",
            "104/104 [==============================] - 60s 579ms/step - loss: 2436459.5095 - val_loss: 2491851.7500\n",
            "Epoch 276/300\n",
            "104/104 [==============================] - 61s 583ms/step - loss: 2388637.1560 - val_loss: 3960383.7500\n",
            "Epoch 277/300\n",
            "104/104 [==============================] - 61s 590ms/step - loss: 2456694.8524 - val_loss: 4035188.5000\n",
            "Epoch 278/300\n",
            "104/104 [==============================] - 61s 587ms/step - loss: 2364175.5393 - val_loss: 2913990.5000\n",
            "Epoch 279/300\n",
            "104/104 [==============================] - 61s 584ms/step - loss: 2425734.6167 - val_loss: 2594244.7500\n",
            "Epoch 280/300\n",
            "104/104 [==============================] - 61s 584ms/step - loss: 2371365.3690 - val_loss: 2680859.5000\n",
            "Epoch 281/300\n",
            "104/104 [==============================] - 60s 577ms/step - loss: 2342764.5071 - val_loss: 2455015.2500\n",
            "Epoch 282/300\n",
            "104/104 [==============================] - 61s 581ms/step - loss: 2363307.4452 - val_loss: 4122422.7500\n",
            "Epoch 283/300\n",
            "104/104 [==============================] - 60s 579ms/step - loss: 2407893.5952 - val_loss: 2797563.5000\n",
            "Epoch 284/300\n",
            "104/104 [==============================] - 61s 580ms/step - loss: 2343680.8238 - val_loss: 2914714.0000\n",
            "Epoch 285/300\n",
            "104/104 [==============================] - 60s 579ms/step - loss: 2539516.2405 - val_loss: 2929242.5000\n",
            "Epoch 286/300\n",
            "104/104 [==============================] - 60s 580ms/step - loss: 2227791.4714 - val_loss: 2672500.5000\n",
            "Epoch 287/300\n",
            "104/104 [==============================] - 60s 577ms/step - loss: 2397633.9238 - val_loss: 2666194.5000\n",
            "Epoch 288/300\n",
            "104/104 [==============================] - 61s 581ms/step - loss: 2246244.6976 - val_loss: 2611704.5000\n",
            "Epoch 289/300\n",
            "104/104 [==============================] - 60s 577ms/step - loss: 2306919.1500 - val_loss: 2821735.5000\n",
            "Epoch 290/300\n",
            "104/104 [==============================] - 60s 579ms/step - loss: 2416357.0429 - val_loss: 2891885.7500\n",
            "Epoch 291/300\n",
            "104/104 [==============================] - 61s 581ms/step - loss: 2401563.8595 - val_loss: 2782401.7500\n",
            "Epoch 292/300\n",
            "104/104 [==============================] - 61s 580ms/step - loss: 2349356.4167 - val_loss: 2966053.0000\n",
            "Epoch 293/300\n",
            "104/104 [==============================] - 60s 579ms/step - loss: 2383867.7238 - val_loss: 3501365.0000\n",
            "Epoch 294/300\n",
            "104/104 [==============================] - 60s 579ms/step - loss: 2317141.2286 - val_loss: 2619030.7500\n",
            "Epoch 295/300\n",
            "104/104 [==============================] - 60s 578ms/step - loss: 2386153.0452 - val_loss: 2890654.2500\n",
            "Epoch 296/300\n",
            "104/104 [==============================] - 61s 581ms/step - loss: 2281363.2024 - val_loss: 3643242.0000\n",
            "Epoch 297/300\n",
            "104/104 [==============================] - 61s 586ms/step - loss: 2334003.6750 - val_loss: 2893890.5000\n",
            "Epoch 298/300\n",
            "104/104 [==============================] - 61s 587ms/step - loss: 2319842.4333 - val_loss: 2789758.2500\n",
            "Epoch 299/300\n",
            "104/104 [==============================] - 60s 580ms/step - loss: 2320535.7155 - val_loss: 2875779.5000\n",
            "Epoch 300/300\n",
            "104/104 [==============================] - 62s 590ms/step - loss: 2272696.2833 - val_loss: 2585667.7500\n"
          ],
          "name": "stdout"
        }
      ]
    },
    {
      "cell_type": "code",
      "metadata": {
        "colab": {
          "base_uri": "https://localhost:8080/",
          "height": 688
        },
        "id": "SZ3aQXDSBUSf",
        "outputId": "29ee86b0-889d-43ca-ad2a-9c37f8214aea"
      },
      "source": [
        "epochs = range(len(Validation_loss))\r\n",
        "plt.figure(figsize=(14,11))\r\n",
        "plt.plot(epochs, train_loss,'r',label='Training MAE')\r\n",
        "plt.plot(epochs, Validation_loss,'B',label='Validation MAE')\r\n",
        "plt.xlabel(\"epochs\",fontsize=18)\r\n",
        "plt.ylabel(\"MAE of Training VS Validation\",fontsize=18)\r\n",
        "plt.title('Loss of DNN Model',fontsize=18)\r\n",
        "plt.legend(fontsize=15,loc='upper right')\r\n",
        "plt.show()"
      ],
      "execution_count": 26,
      "outputs": [
        {
          "output_type": "display_data",
          "data": {
            "image/png": "[encoded data removed]",
            "text/plain": [
              "<Figure size 1008x792 with 1 Axes>"
            ]
          },
          "metadata": {
            "tags": [],
            "needs_background": "light"
          }
        }
      ]
    },
    {
      "cell_type": "code",
      "metadata": {
        "colab": {
          "base_uri": "https://localhost:8080/"
        },
        "id": "tflzI4cBaMiL",
        "outputId": "060a39fc-e967-45c6-9436-f647b15aa95e"
      },
      "source": [
        "model.evaluate(x_valid,y_valid)"
      ],
      "execution_count": 14,
      "outputs": [
        {
          "output_type": "stream",
          "text": [
            "26/26 [==============================] - 2s 72ms/step - loss: 2585667.7500\n"
          ],
          "name": "stdout"
        },
        {
          "output_type": "execute_result",
          "data": {
            "text/plain": [
              "2585667.75"
            ]
          },
          "metadata": {
            "tags": []
          },
          "execution_count": 14
        }
      ]
    },
    {
      "cell_type": "code",
      "metadata": {
        "colab": {
          "base_uri": "https://localhost:8080/"
        },
        "id": "11FIaQbbsraJ",
        "outputId": "1a720b13-5233-41ff-b2a9-6bfa51c7a3d6"
      },
      "source": [
        "model.evaluate(x_test,y_test)"
      ],
      "execution_count": 15,
      "outputs": [
        {
          "output_type": "stream",
          "text": [
            "9/9 [==============================] - 1s 71ms/step - loss: 2611425.5000\n"
          ],
          "name": "stdout"
        },
        {
          "output_type": "execute_result",
          "data": {
            "text/plain": [
              "2611425.5"
            ]
          },
          "metadata": {
            "tags": []
          },
          "execution_count": 15
        }
      ]
    },
    {
      "cell_type": "code",
      "metadata": {
        "id": "6hN3Dpfh-9wY"
      },
      "source": [
        "y_pred = model.predict(x_test)\r\n",
        "np.reshape(y_test,(-1,)).tolist()"
      ],
      "execution_count": 16,
      "outputs": []
    },
    {
      "cell_type": "code",
      "metadata": {
        "colab": {
          "base_uri": "https://localhost:8080/",
          "height": 688
        },
        "id": "DqT2pbTBiuAM",
        "outputId": "36d2cea7-bbc5-4d94-a8d3-bb97620dae12"
      },
      "source": [
        "plt.figure(figsize=(14,11))\r\n",
        "x = np.linspace(0,45*10**6)\r\n",
        "y_pred = model.predict(x_test)\r\n",
        "plt.plot(x,x,'b',linestyle='-',label='Perfect')\r\n",
        "plt.plot(y_test,y_pred ,'r',linestyle='',marker='o',label='DNN Model')\r\n",
        "plt.ylabel('Observer Time-to-eruption',fontsize=18)\r\n",
        "plt.xlabel('Predicted Time-to-eruption',fontsize=18)\r\n",
        "plt.title('DNN Model Testing',fontsize=18)\r\n",
        "plt.legend(fontsize=15,loc='upper right')\r\n",
        "plt.show()"
      ],
      "execution_count": 18,
      "outputs": [
        {
          "output_type": "display_data",
          "data": {
            "image/png": "[encoded data removed]",
            "text/plain": [
              "<Figure size 1008x792 with 1 Axes>"
            ]
          },
          "metadata": {
            "tags": [],
            "needs_background": "light"
          }
        }
      ]
    },
    {
      "cell_type": "code",
      "metadata": {
        "colab": {
          "base_uri": "https://localhost:8080/"
        },
        "id": "pQSnH-Ev86Fm",
        "outputId": "453ca800-538a-4aa9-d3f6-732a311b0b99"
      },
      "source": [
        "Test_Data =  np.load('./drive/My Drive/Volcano Project/working.npy')\r\n",
        "print(Test_Data.shape)"
      ],
      "execution_count": 19,
      "outputs": [
        {
          "output_type": "stream",
          "text": [
            "(4520, 10, 25, 202)\n"
          ],
          "name": "stdout"
        }
      ]
    },
    {
      "cell_type": "code",
      "metadata": {
        "colab": {
          "base_uri": "https://localhost:8080/",
          "height": 204
        },
        "id": "kD-UZOke9PjN",
        "outputId": "98dcd30f-8a7c-45e7-e01b-38c219e00139"
      },
      "source": [
        "test_target_file = pd.read_csv ('./drive/My Drive/VolcanicData/sample_submission.csv')\r\n",
        "test_target_file.head()"
      ],
      "execution_count": 20,
      "outputs": [
        {
          "output_type": "execute_result",
          "data": {
            "text/html": [
              "<div>\n",
              "<style scoped>\n",
              "    .dataframe tbody tr th:only-of-type {\n",
              "        vertical-align: middle;\n",
              "    }\n",
              "\n",
              "    .dataframe tbody tr th {\n",
              "        vertical-align: top;\n",
              "    }\n",
              "\n",
              "    .dataframe thead th {\n",
              "        text-align: right;\n",
              "    }\n",
              "</style>\n",
              "<table border=\"1\" class=\"dataframe\">\n",
              "  <thead>\n",
              "    <tr style=\"text-align: right;\">\n",
              "      <th></th>\n",
              "      <th>segment_id</th>\n",
              "      <th>time_to_eruption</th>\n",
              "    </tr>\n",
              "  </thead>\n",
              "  <tbody>\n",
              "    <tr>\n",
              "      <th>0</th>\n",
              "      <td>1000213997</td>\n",
              "      <td>0</td>\n",
              "    </tr>\n",
              "    <tr>\n",
              "      <th>1</th>\n",
              "      <td>100023368</td>\n",
              "      <td>0</td>\n",
              "    </tr>\n",
              "    <tr>\n",
              "      <th>2</th>\n",
              "      <td>1000488999</td>\n",
              "      <td>0</td>\n",
              "    </tr>\n",
              "    <tr>\n",
              "      <th>3</th>\n",
              "      <td>1001028887</td>\n",
              "      <td>0</td>\n",
              "    </tr>\n",
              "    <tr>\n",
              "      <th>4</th>\n",
              "      <td>1001857862</td>\n",
              "      <td>0</td>\n",
              "    </tr>\n",
              "  </tbody>\n",
              "</table>\n",
              "</div>"
            ],
            "text/plain": [
              "   segment_id  time_to_eruption\n",
              "0  1000213997                 0\n",
              "1   100023368                 0\n",
              "2  1000488999                 0\n",
              "3  1001028887                 0\n",
              "4  1001857862                 0"
            ]
          },
          "metadata": {
            "tags": []
          },
          "execution_count": 20
        }
      ]
    },
    {
      "cell_type": "code",
      "metadata": {
        "colab": {
          "base_uri": "https://localhost:8080/",
          "height": 204
        },
        "id": "bl72ENOo9fj1",
        "outputId": "d9fefc36-67bc-4dfe-f7c9-24c8544deab7"
      },
      "source": [
        "Test_filename = []\r\n",
        "for file in test_target_file['segment_id']:\r\n",
        "    Test_filename.append('./drive/My Drive/VolcanicData/test/'+str(file)+'.csv')\r\n",
        "test_target_file['filename'] = Test_filename\r\n",
        "test_target_file= test_target_file.drop('segment_id',axis = 1)\r\n",
        "test_target_file.head()"
      ],
      "execution_count": 21,
      "outputs": [
        {
          "output_type": "execute_result",
          "data": {
            "text/html": [
              "<div>\n",
              "<style scoped>\n",
              "    .dataframe tbody tr th:only-of-type {\n",
              "        vertical-align: middle;\n",
              "    }\n",
              "\n",
              "    .dataframe tbody tr th {\n",
              "        vertical-align: top;\n",
              "    }\n",
              "\n",
              "    .dataframe thead th {\n",
              "        text-align: right;\n",
              "    }\n",
              "</style>\n",
              "<table border=\"1\" class=\"dataframe\">\n",
              "  <thead>\n",
              "    <tr style=\"text-align: right;\">\n",
              "      <th></th>\n",
              "      <th>time_to_eruption</th>\n",
              "      <th>filename</th>\n",
              "    </tr>\n",
              "  </thead>\n",
              "  <tbody>\n",
              "    <tr>\n",
              "      <th>0</th>\n",
              "      <td>0</td>\n",
              "      <td>./drive/My Drive/VolcanicData/test/1000213997.csv</td>\n",
              "    </tr>\n",
              "    <tr>\n",
              "      <th>1</th>\n",
              "      <td>0</td>\n",
              "      <td>./drive/My Drive/VolcanicData/test/100023368.csv</td>\n",
              "    </tr>\n",
              "    <tr>\n",
              "      <th>2</th>\n",
              "      <td>0</td>\n",
              "      <td>./drive/My Drive/VolcanicData/test/1000488999.csv</td>\n",
              "    </tr>\n",
              "    <tr>\n",
              "      <th>3</th>\n",
              "      <td>0</td>\n",
              "      <td>./drive/My Drive/VolcanicData/test/1001028887.csv</td>\n",
              "    </tr>\n",
              "    <tr>\n",
              "      <th>4</th>\n",
              "      <td>0</td>\n",
              "      <td>./drive/My Drive/VolcanicData/test/1001857862.csv</td>\n",
              "    </tr>\n",
              "  </tbody>\n",
              "</table>\n",
              "</div>"
            ],
            "text/plain": [
              "   time_to_eruption                                           filename\n",
              "0                 0  ./drive/My Drive/VolcanicData/test/1000213997.csv\n",
              "1                 0   ./drive/My Drive/VolcanicData/test/100023368.csv\n",
              "2                 0  ./drive/My Drive/VolcanicData/test/1000488999.csv\n",
              "3                 0  ./drive/My Drive/VolcanicData/test/1001028887.csv\n",
              "4                 0  ./drive/My Drive/VolcanicData/test/1001857862.csv"
            ]
          },
          "metadata": {
            "tags": []
          },
          "execution_count": 21
        }
      ]
    },
    {
      "cell_type": "code",
      "metadata": {
        "colab": {
          "base_uri": "https://localhost:8080/"
        },
        "id": "TYPPRIvn93M-",
        "outputId": "effe6d58-b6ac-450d-b0a1-c636f833ed2a"
      },
      "source": [
        "Test_Data=np.array(Test_Data)\r\n",
        "print(Test_Data.shape)\r\n",
        "Test_Data = Test_Data.reshape(4520, 10, 25, 202)\r\n",
        "Test_Data=np.transpose(Test_Data,axes=[0,3,2,1])\r\n",
        "print(Test_Data.shape)\r\n",
        "Test_Data = np.concatenate((Test_Data[:,:,:,0], Test_Data[:,:,:,1], Test_Data[:,:,:,2], Test_Data[:,:,:,3], Test_Data[:,:,:,4], Test_Data[:,:,:,5], Test_Data[:,:,:,6], Test_Data[:,:,:,7], Test_Data[:,:,:,8], Test_Data[:,:,:,9]), axis=2 ) \r\n",
        "print(Test_Data.shape)\r\n",
        "Test_Data_max=np.max(Test_Data)\r\n",
        "Test_Data_min=np.min(Test_Data)\r\n",
        "Test_Data = (Test_Data-Test_Data_min) / (Test_Data_max-Test_Data_min)\r\n"
      ],
      "execution_count": 22,
      "outputs": [
        {
          "output_type": "stream",
          "text": [
            "(4520, 10, 25, 202)\n",
            "(4520, 202, 25, 10)\n",
            "(4520, 202, 250)\n"
          ],
          "name": "stdout"
        }
      ]
    },
    {
      "cell_type": "code",
      "metadata": {
        "id": "xAAUl9ZF-gcZ"
      },
      "source": [
        "Prediction = model.predict(Test_Data)\r\n",
        "Prediction = pd.DataFrame(Prediction)\r\n",
        "Prediction.to_csv(index=False)"
      ],
      "execution_count": null,
      "outputs": []
    }
  ]
}